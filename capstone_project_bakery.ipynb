{
 "cells": [
  {
   "cell_type": "markdown",
   "metadata": {
    "collapsed": true
   },
   "source": [
    "<h1>Bakeries research in the city of Athens"
   ]
  },
  {
   "cell_type": "markdown",
   "metadata": {},
   "source": [
    "Case: Client wants to expand his bakery business to one of the neighborhoods: Koukaki, Neos Kosmos, Agios Artemios, Makrygianni, Pangrati & Nea Smyrni near the centre of Athens. He wants to know how many where are the bakeries in each neighborhood"
   ]
  },
  {
   "cell_type": "code",
   "execution_count": 1,
   "metadata": {},
   "outputs": [
    {
     "name": "stdout",
     "output_type": "stream",
     "text": [
      "Libraries imported.\n"
     ]
    }
   ],
   "source": [
    "#import Libraries\n",
    "import numpy as np # library to handle data in a vectorized manner\n",
    "import pandas as pd # library for data analsysis\n",
    "pd.set_option('display.max_rows', 500)\n",
    "pd.set_option('display.max_columns', 50)\n",
    "import os\n",
    "import requests # library to handle requests\n",
    "# Matplotlib and associated plotting modules\n",
    "import matplotlib.cm as cm\n",
    "import matplotlib.colors as colors\n",
    "# import k-means from clustering stage\n",
    "from sklearn.cluster import KMeans\n",
    "from geopy.geocoders import Nominatim \n",
    "#!pip install geopy\n",
    "\n",
    "\n",
    "print('Libraries imported.')"
   ]
  },
  {
   "cell_type": "code",
   "execution_count": 2,
   "metadata": {},
   "outputs": [
    {
     "name": "stdout",
     "output_type": "stream",
     "text": [
      "(6, 1)\n"
     ]
    },
    {
     "data": {
      "text/html": [
       "<div>\n",
       "<style scoped>\n",
       "    .dataframe tbody tr th:only-of-type {\n",
       "        vertical-align: middle;\n",
       "    }\n",
       "\n",
       "    .dataframe tbody tr th {\n",
       "        vertical-align: top;\n",
       "    }\n",
       "\n",
       "    .dataframe thead th {\n",
       "        text-align: right;\n",
       "    }\n",
       "</style>\n",
       "<table border=\"1\" class=\"dataframe\">\n",
       "  <thead>\n",
       "    <tr style=\"text-align: right;\">\n",
       "      <th></th>\n",
       "      <th>Neighborhood</th>\n",
       "    </tr>\n",
       "  </thead>\n",
       "  <tbody>\n",
       "    <tr>\n",
       "      <th>0</th>\n",
       "      <td>Koukaki, Athens</td>\n",
       "    </tr>\n",
       "    <tr>\n",
       "      <th>1</th>\n",
       "      <td>Neos Kosmos, Athens</td>\n",
       "    </tr>\n",
       "    <tr>\n",
       "      <th>2</th>\n",
       "      <td>Agios Artemios, Athens</td>\n",
       "    </tr>\n",
       "    <tr>\n",
       "      <th>3</th>\n",
       "      <td>Makrygianni, Athens</td>\n",
       "    </tr>\n",
       "    <tr>\n",
       "      <th>4</th>\n",
       "      <td>Pangrati, Athens</td>\n",
       "    </tr>\n",
       "    <tr>\n",
       "      <th>5</th>\n",
       "      <td>Nea Smyrni, Athens</td>\n",
       "    </tr>\n",
       "  </tbody>\n",
       "</table>\n",
       "</div>"
      ],
      "text/plain": [
       "             Neighborhood\n",
       "0         Koukaki, Athens\n",
       "1     Neos Kosmos, Athens\n",
       "2  Agios Artemios, Athens\n",
       "3     Makrygianni, Athens\n",
       "4        Pangrati, Athens\n",
       "5      Nea Smyrni, Athens"
      ]
     },
     "execution_count": 2,
     "metadata": {},
     "output_type": "execute_result"
    }
   ],
   "source": [
    "#Create the list of the Neighborhoods that the client asked to research\n",
    "\n",
    "neighborhoods = {'Neighborhood': [\"Koukaki, Athens\", \"Neos Kosmos, Athens\", \"Agios Artemios, Athens\", \"Makrygianni, Athens\", \"Pangrati, Athens\", \"Nea Smyrni, Athens\"]\n",
    "        }\n",
    "\n",
    "df = pd.DataFrame(neighborhoods, columns = ['Neighborhood'])\n",
    "print(df.shape)\n",
    "df\n"
   ]
  },
  {
   "cell_type": "code",
   "execution_count": 3,
   "metadata": {},
   "outputs": [],
   "source": [
    "#Get the Latitude and Longitude of the Neighborhoods\n",
    "\n",
    "from geopy.geocoders import Nominatim\n",
    "geolocator = Nominatim(user_agent=\"bakery-application\")\n",
    "\n",
    "df[\"loc\"] = df[\"Neighborhood\"].apply(geolocator.geocode)\n",
    "df[\"point\"]= df[\"loc\"].apply(lambda loc: tuple(loc.point) if loc else None)\n",
    "df[['lat', 'lon', 'altitude']] = pd.DataFrame(df['point'].to_list(), index=df.index)"
   ]
  },
  {
   "cell_type": "code",
   "execution_count": 4,
   "metadata": {},
   "outputs": [
    {
     "data": {
      "text/html": [
       "<div>\n",
       "<style scoped>\n",
       "    .dataframe tbody tr th:only-of-type {\n",
       "        vertical-align: middle;\n",
       "    }\n",
       "\n",
       "    .dataframe tbody tr th {\n",
       "        vertical-align: top;\n",
       "    }\n",
       "\n",
       "    .dataframe thead th {\n",
       "        text-align: right;\n",
       "    }\n",
       "</style>\n",
       "<table border=\"1\" class=\"dataframe\">\n",
       "  <thead>\n",
       "    <tr style=\"text-align: right;\">\n",
       "      <th></th>\n",
       "      <th>Neighborhood</th>\n",
       "      <th>loc</th>\n",
       "      <th>point</th>\n",
       "      <th>lat</th>\n",
       "      <th>lon</th>\n",
       "      <th>altitude</th>\n",
       "    </tr>\n",
       "  </thead>\n",
       "  <tbody>\n",
       "    <tr>\n",
       "      <th>0</th>\n",
       "      <td>Koukaki, Athens</td>\n",
       "      <td>(Κουκάκι, Δουργούτι, Αθήνα, Δήμος Αθηναίων, Πε...</td>\n",
       "      <td>(37.9634559, 23.7220234, 0.0)</td>\n",
       "      <td>37.963456</td>\n",
       "      <td>23.722023</td>\n",
       "      <td>0.0</td>\n",
       "    </tr>\n",
       "    <tr>\n",
       "      <th>1</th>\n",
       "      <td>Neos Kosmos, Athens</td>\n",
       "      <td>(Νέος Κόσμος, Κασομούλη, Κυνοσάργους, Συνοικία...</td>\n",
       "      <td>(37.9576705, 23.7283724, 0.0)</td>\n",
       "      <td>37.957670</td>\n",
       "      <td>23.728372</td>\n",
       "      <td>0.0</td>\n",
       "    </tr>\n",
       "    <tr>\n",
       "      <th>2</th>\n",
       "      <td>Agios Artemios, Athens</td>\n",
       "      <td>(Άγιος Αρτέμιος, Προφήτης Ηλίας, Αθήνα, Δήμος ...</td>\n",
       "      <td>(37.9603927, 23.742542, 0.0)</td>\n",
       "      <td>37.960393</td>\n",
       "      <td>23.742542</td>\n",
       "      <td>0.0</td>\n",
       "    </tr>\n",
       "    <tr>\n",
       "      <th>3</th>\n",
       "      <td>Makrygianni, Athens</td>\n",
       "      <td>(Μακρυγιάννη, Αναφιώτικα, Κολωνάκι, Αθήνα, Δήμ...</td>\n",
       "      <td>(37.9687219, 23.7295949, 0.0)</td>\n",
       "      <td>37.968722</td>\n",
       "      <td>23.729595</td>\n",
       "      <td>0.0</td>\n",
       "    </tr>\n",
       "    <tr>\n",
       "      <th>4</th>\n",
       "      <td>Pangrati, Athens</td>\n",
       "      <td>(Συνοικία Παγκρατίου, Αθήνα, Δήμος Αθηναίων, Π...</td>\n",
       "      <td>(37.9698825, 23.7465995, 0.0)</td>\n",
       "      <td>37.969882</td>\n",
       "      <td>23.746599</td>\n",
       "      <td>0.0</td>\n",
       "    </tr>\n",
       "    <tr>\n",
       "      <th>5</th>\n",
       "      <td>Nea Smyrni, Athens</td>\n",
       "      <td>(Νέα Σμύρνη, Δήμος Νέας Σμύρνης, Περιφερειακή ...</td>\n",
       "      <td>(37.9467441, 23.7138357, 0.0)</td>\n",
       "      <td>37.946744</td>\n",
       "      <td>23.713836</td>\n",
       "      <td>0.0</td>\n",
       "    </tr>\n",
       "  </tbody>\n",
       "</table>\n",
       "</div>"
      ],
      "text/plain": [
       "             Neighborhood                                                loc  \\\n",
       "0         Koukaki, Athens  (Κουκάκι, Δουργούτι, Αθήνα, Δήμος Αθηναίων, Πε...   \n",
       "1     Neos Kosmos, Athens  (Νέος Κόσμος, Κασομούλη, Κυνοσάργους, Συνοικία...   \n",
       "2  Agios Artemios, Athens  (Άγιος Αρτέμιος, Προφήτης Ηλίας, Αθήνα, Δήμος ...   \n",
       "3     Makrygianni, Athens  (Μακρυγιάννη, Αναφιώτικα, Κολωνάκι, Αθήνα, Δήμ...   \n",
       "4        Pangrati, Athens  (Συνοικία Παγκρατίου, Αθήνα, Δήμος Αθηναίων, Π...   \n",
       "5      Nea Smyrni, Athens  (Νέα Σμύρνη, Δήμος Νέας Σμύρνης, Περιφερειακή ...   \n",
       "\n",
       "                           point        lat        lon  altitude  \n",
       "0  (37.9634559, 23.7220234, 0.0)  37.963456  23.722023       0.0  \n",
       "1  (37.9576705, 23.7283724, 0.0)  37.957670  23.728372       0.0  \n",
       "2   (37.9603927, 23.742542, 0.0)  37.960393  23.742542       0.0  \n",
       "3  (37.9687219, 23.7295949, 0.0)  37.968722  23.729595       0.0  \n",
       "4  (37.9698825, 23.7465995, 0.0)  37.969882  23.746599       0.0  \n",
       "5  (37.9467441, 23.7138357, 0.0)  37.946744  23.713836       0.0  "
      ]
     },
     "execution_count": 4,
     "metadata": {},
     "output_type": "execute_result"
    }
   ],
   "source": [
    "df"
   ]
  },
  {
   "cell_type": "code",
   "execution_count": 129,
   "metadata": {},
   "outputs": [
    {
     "data": {
      "text/html": [
       "<div>\n",
       "<style scoped>\n",
       "    .dataframe tbody tr th:only-of-type {\n",
       "        vertical-align: middle;\n",
       "    }\n",
       "\n",
       "    .dataframe tbody tr th {\n",
       "        vertical-align: top;\n",
       "    }\n",
       "\n",
       "    .dataframe thead th {\n",
       "        text-align: right;\n",
       "    }\n",
       "</style>\n",
       "<table border=\"1\" class=\"dataframe\">\n",
       "  <thead>\n",
       "    <tr style=\"text-align: right;\">\n",
       "      <th></th>\n",
       "      <th>Neighborhood</th>\n",
       "      <th>Location</th>\n",
       "      <th>point</th>\n",
       "      <th>Latitude</th>\n",
       "      <th>Longitude</th>\n",
       "      <th>altitude</th>\n",
       "    </tr>\n",
       "  </thead>\n",
       "  <tbody>\n",
       "    <tr>\n",
       "      <th>0</th>\n",
       "      <td>Koukaki, Athens</td>\n",
       "      <td>(Κουκάκι, Δουργούτι, Αθήνα, Δήμος Αθηναίων, Πε...</td>\n",
       "      <td>(37.9634559, 23.7220234, 0.0)</td>\n",
       "      <td>37.963456</td>\n",
       "      <td>23.722023</td>\n",
       "      <td>0.0</td>\n",
       "    </tr>\n",
       "    <tr>\n",
       "      <th>1</th>\n",
       "      <td>Neos Kosmos, Athens</td>\n",
       "      <td>(Νέος Κόσμος, Κασομούλη, Κυνοσάργους, Συνοικία...</td>\n",
       "      <td>(37.9576705, 23.7283724, 0.0)</td>\n",
       "      <td>37.957670</td>\n",
       "      <td>23.728372</td>\n",
       "      <td>0.0</td>\n",
       "    </tr>\n",
       "    <tr>\n",
       "      <th>2</th>\n",
       "      <td>Agios Artemios, Athens</td>\n",
       "      <td>(Άγιος Αρτέμιος, Προφήτης Ηλίας, Αθήνα, Δήμος ...</td>\n",
       "      <td>(37.9603927, 23.742542, 0.0)</td>\n",
       "      <td>37.960393</td>\n",
       "      <td>23.742542</td>\n",
       "      <td>0.0</td>\n",
       "    </tr>\n",
       "    <tr>\n",
       "      <th>3</th>\n",
       "      <td>Makrygianni, Athens</td>\n",
       "      <td>(Μακρυγιάννη, Αναφιώτικα, Κολωνάκι, Αθήνα, Δήμ...</td>\n",
       "      <td>(37.9687219, 23.7295949, 0.0)</td>\n",
       "      <td>37.968722</td>\n",
       "      <td>23.729595</td>\n",
       "      <td>0.0</td>\n",
       "    </tr>\n",
       "    <tr>\n",
       "      <th>4</th>\n",
       "      <td>Pangrati, Athens</td>\n",
       "      <td>(Συνοικία Παγκρατίου, Αθήνα, Δήμος Αθηναίων, Π...</td>\n",
       "      <td>(37.9698825, 23.7465995, 0.0)</td>\n",
       "      <td>37.969882</td>\n",
       "      <td>23.746599</td>\n",
       "      <td>0.0</td>\n",
       "    </tr>\n",
       "    <tr>\n",
       "      <th>5</th>\n",
       "      <td>Nea Smyrni, Athens</td>\n",
       "      <td>(Νέα Σμύρνη, Δήμος Νέας Σμύρνης, Περιφερειακή ...</td>\n",
       "      <td>(37.9467441, 23.7138357, 0.0)</td>\n",
       "      <td>37.946744</td>\n",
       "      <td>23.713836</td>\n",
       "      <td>0.0</td>\n",
       "    </tr>\n",
       "  </tbody>\n",
       "</table>\n",
       "</div>"
      ],
      "text/plain": [
       "             Neighborhood                                           Location  \\\n",
       "0         Koukaki, Athens  (Κουκάκι, Δουργούτι, Αθήνα, Δήμος Αθηναίων, Πε...   \n",
       "1     Neos Kosmos, Athens  (Νέος Κόσμος, Κασομούλη, Κυνοσάργους, Συνοικία...   \n",
       "2  Agios Artemios, Athens  (Άγιος Αρτέμιος, Προφήτης Ηλίας, Αθήνα, Δήμος ...   \n",
       "3     Makrygianni, Athens  (Μακρυγιάννη, Αναφιώτικα, Κολωνάκι, Αθήνα, Δήμ...   \n",
       "4        Pangrati, Athens  (Συνοικία Παγκρατίου, Αθήνα, Δήμος Αθηναίων, Π...   \n",
       "5      Nea Smyrni, Athens  (Νέα Σμύρνη, Δήμος Νέας Σμύρνης, Περιφερειακή ...   \n",
       "\n",
       "                           point   Latitude  Longitude  altitude  \n",
       "0  (37.9634559, 23.7220234, 0.0)  37.963456  23.722023       0.0  \n",
       "1  (37.9576705, 23.7283724, 0.0)  37.957670  23.728372       0.0  \n",
       "2   (37.9603927, 23.742542, 0.0)  37.960393  23.742542       0.0  \n",
       "3  (37.9687219, 23.7295949, 0.0)  37.968722  23.729595       0.0  \n",
       "4  (37.9698825, 23.7465995, 0.0)  37.969882  23.746599       0.0  \n",
       "5  (37.9467441, 23.7138357, 0.0)  37.946744  23.713836       0.0  "
      ]
     },
     "execution_count": 129,
     "metadata": {},
     "output_type": "execute_result"
    }
   ],
   "source": [
    "#Rename loc, lat, lon columns\n",
    "df_neigh = df.rename(columns={'lat': 'Latitude', 'lon': 'Longitude', 'loc': 'Location'})\n",
    "df_neigh"
   ]
  },
  {
   "cell_type": "code",
   "execution_count": 6,
   "metadata": {},
   "outputs": [
    {
     "data": {
      "text/plain": [
       "(6, 6)"
      ]
     },
     "execution_count": 6,
     "metadata": {},
     "output_type": "execute_result"
    }
   ],
   "source": [
    "# print the number of rows of the dataframe\n",
    "df_neigh.shape"
   ]
  },
  {
   "cell_type": "code",
   "execution_count": 7,
   "metadata": {},
   "outputs": [
    {
     "name": "stdout",
     "output_type": "stream",
     "text": [
      "Collecting package metadata (current_repodata.json): done\n",
      "Solving environment: done\n",
      "\n",
      "# All requested packages already installed.\n",
      "\n"
     ]
    }
   ],
   "source": [
    "#install folium map \n",
    "\n",
    "!conda install -c conda-forge folium=0.5.0 --yes \n",
    "import folium # map rendering library\n"
   ]
  },
  {
   "cell_type": "code",
   "execution_count": 8,
   "metadata": {},
   "outputs": [
    {
     "name": "stdout",
     "output_type": "stream",
     "text": [
      "The geograpical coordinate of Athens are Latitude: 37.9839412, Longitude: 23.7283052.\n"
     ]
    }
   ],
   "source": [
    "#Use geopy library to get the latitude and longitude values of Athens.\n",
    "\n",
    "address = ['Athens, GR']\n",
    "geolocator = Nominatim(user_agent=\"athens_explorer\")\n",
    "location = geolocator.geocode(address)\n",
    "latitude = location.latitude\n",
    "longitude = location.longitude\n",
    "print('The geograpical coordinate of Athens are Latitude: {}, Longitude: {}.'.format(latitude, longitude))"
   ]
  },
  {
   "cell_type": "code",
   "execution_count": 9,
   "metadata": {},
   "outputs": [
    {
     "data": {
      "text/html": [
       "<div style=\"width:100%;\"><div style=\"position:relative;width:100%;height:0;padding-bottom:60%;\"><span style=\"color:#565656\">Make this Notebook Trusted to load map: File -> Trust Notebook</span><iframe src=\"about:blank\" style=\"position:absolute;width:100%;height:100%;left:0;top:0;border:none !important;\" data-html=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 onload=\"this.contentDocument.open();this.contentDocument.write(atob(this.getAttribute('data-html')));this.contentDocument.close();\" allowfullscreen webkitallowfullscreen mozallowfullscreen></iframe></div></div>"
      ],
      "text/plain": [
       "<folium.folium.Map at 0x7faa5a071ac0>"
      ]
     },
     "execution_count": 9,
     "metadata": {},
     "output_type": "execute_result"
    }
   ],
   "source": [
    "#Create a map of Athens with the neighborhoods superimposed on top.\n",
    "\n",
    "map_athens = folium.Map(location=[latitude, longitude], zoom_start=12)\n",
    "\n",
    "# add markers to map\n",
    "for neighborhood, lat, lng in zip(df_neigh['Neighborhood'], df_neigh['Latitude'], df_neigh['Longitude']):\n",
    "    label = '{}'.format(neighborhood)\n",
    "    label = folium.Popup(str(label), parse_html=True)\n",
    "    folium.CircleMarker(\n",
    "        [lat, lng],\n",
    "        radius=5,\n",
    "        popup=label,\n",
    "        color='blue',\n",
    "        fill=True,\n",
    "        fill_color='#3186cc',\n",
    "        fill_opacity=0.7,\n",
    "        parse_html=False).add_to(map_athens)  \n",
    "    \n",
    "map_athens"
   ]
  },
  {
   "cell_type": "markdown",
   "metadata": {},
   "source": [
    "Utilizing the Foursquare API to explore the neighborhoods and segment them."
   ]
  },
  {
   "cell_type": "code",
   "execution_count": 10,
   "metadata": {},
   "outputs": [
    {
     "name": "stdout",
     "output_type": "stream",
     "text": [
      "Your credentails:\n",
      "CLIENT_ID: 05H45WXNVDOCSKSJ0KIBLKAK4EZJ25BRNCJZLS4TT2CI4Z5N\n",
      "CLIENT_SECRET:XHGLXP23BMRY3ONDZJB2OUIHHZDYM4IUBDDNCWJ0ZZ2RFC4E\n"
     ]
    }
   ],
   "source": [
    "#Define Foursquare Credentials and Version\n",
    "CLIENT_ID = '05H45WXNVDOCSKSJ0KIBLKAK4EZJ25BRNCJZLS4TT2CI4Z5N' # your Foursquare ID\n",
    "CLIENT_SECRET = 'XHGLXP23BMRY3ONDZJB2OUIHHZDYM4IUBDDNCWJ0ZZ2RFC4E' # your Foursquare Secret\n",
    "VERSION = '20200814' # Foursquare API version\n",
    "\n",
    "print('Your credentails:')\n",
    "print('CLIENT_ID: ' + CLIENT_ID)\n",
    "print('CLIENT_SECRET:' + CLIENT_SECRET)\n",
    "\n"
   ]
  },
  {
   "cell_type": "markdown",
   "metadata": {},
   "source": [
    "<h1> Explore the 1st area: \"Koukaki\""
   ]
  },
  {
   "cell_type": "code",
   "execution_count": 11,
   "metadata": {},
   "outputs": [
    {
     "data": {
      "text/html": [
       "<div>\n",
       "<style scoped>\n",
       "    .dataframe tbody tr th:only-of-type {\n",
       "        vertical-align: middle;\n",
       "    }\n",
       "\n",
       "    .dataframe tbody tr th {\n",
       "        vertical-align: top;\n",
       "    }\n",
       "\n",
       "    .dataframe thead th {\n",
       "        text-align: right;\n",
       "    }\n",
       "</style>\n",
       "<table border=\"1\" class=\"dataframe\">\n",
       "  <thead>\n",
       "    <tr style=\"text-align: right;\">\n",
       "      <th></th>\n",
       "      <th>Neighborhood</th>\n",
       "      <th>Location</th>\n",
       "      <th>point</th>\n",
       "      <th>Latitude</th>\n",
       "      <th>Longitude</th>\n",
       "      <th>altitude</th>\n",
       "    </tr>\n",
       "  </thead>\n",
       "  <tbody>\n",
       "    <tr>\n",
       "      <th>0</th>\n",
       "      <td>Koukaki, Athens</td>\n",
       "      <td>(Κουκάκι, Δουργούτι, Αθήνα, Δήμος Αθηναίων, Πε...</td>\n",
       "      <td>(37.9634559, 23.7220234, 0.0)</td>\n",
       "      <td>37.963456</td>\n",
       "      <td>23.722023</td>\n",
       "      <td>0.0</td>\n",
       "    </tr>\n",
       "    <tr>\n",
       "      <th>1</th>\n",
       "      <td>Neos Kosmos, Athens</td>\n",
       "      <td>(Νέος Κόσμος, Κασομούλη, Κυνοσάργους, Συνοικία...</td>\n",
       "      <td>(37.9576705, 23.7283724, 0.0)</td>\n",
       "      <td>37.957670</td>\n",
       "      <td>23.728372</td>\n",
       "      <td>0.0</td>\n",
       "    </tr>\n",
       "    <tr>\n",
       "      <th>2</th>\n",
       "      <td>Agios Artemios, Athens</td>\n",
       "      <td>(Άγιος Αρτέμιος, Προφήτης Ηλίας, Αθήνα, Δήμος ...</td>\n",
       "      <td>(37.9603927, 23.742542, 0.0)</td>\n",
       "      <td>37.960393</td>\n",
       "      <td>23.742542</td>\n",
       "      <td>0.0</td>\n",
       "    </tr>\n",
       "    <tr>\n",
       "      <th>3</th>\n",
       "      <td>Makrygianni, Athens</td>\n",
       "      <td>(Μακρυγιάννη, Αναφιώτικα, Κολωνάκι, Αθήνα, Δήμ...</td>\n",
       "      <td>(37.9687219, 23.7295949, 0.0)</td>\n",
       "      <td>37.968722</td>\n",
       "      <td>23.729595</td>\n",
       "      <td>0.0</td>\n",
       "    </tr>\n",
       "    <tr>\n",
       "      <th>4</th>\n",
       "      <td>Pangrati, Athens</td>\n",
       "      <td>(Συνοικία Παγκρατίου, Αθήνα, Δήμος Αθηναίων, Π...</td>\n",
       "      <td>(37.9698825, 23.7465995, 0.0)</td>\n",
       "      <td>37.969882</td>\n",
       "      <td>23.746599</td>\n",
       "      <td>0.0</td>\n",
       "    </tr>\n",
       "    <tr>\n",
       "      <th>5</th>\n",
       "      <td>Nea Smyrni, Athens</td>\n",
       "      <td>(Νέα Σμύρνη, Δήμος Νέας Σμύρνης, Περιφερειακή ...</td>\n",
       "      <td>(37.9467441, 23.7138357, 0.0)</td>\n",
       "      <td>37.946744</td>\n",
       "      <td>23.713836</td>\n",
       "      <td>0.0</td>\n",
       "    </tr>\n",
       "  </tbody>\n",
       "</table>\n",
       "</div>"
      ],
      "text/plain": [
       "             Neighborhood                                           Location  \\\n",
       "0         Koukaki, Athens  (Κουκάκι, Δουργούτι, Αθήνα, Δήμος Αθηναίων, Πε...   \n",
       "1     Neos Kosmos, Athens  (Νέος Κόσμος, Κασομούλη, Κυνοσάργους, Συνοικία...   \n",
       "2  Agios Artemios, Athens  (Άγιος Αρτέμιος, Προφήτης Ηλίας, Αθήνα, Δήμος ...   \n",
       "3     Makrygianni, Athens  (Μακρυγιάννη, Αναφιώτικα, Κολωνάκι, Αθήνα, Δήμ...   \n",
       "4        Pangrati, Athens  (Συνοικία Παγκρατίου, Αθήνα, Δήμος Αθηναίων, Π...   \n",
       "5      Nea Smyrni, Athens  (Νέα Σμύρνη, Δήμος Νέας Σμύρνης, Περιφερειακή ...   \n",
       "\n",
       "                           point   Latitude  Longitude  altitude  \n",
       "0  (37.9634559, 23.7220234, 0.0)  37.963456  23.722023       0.0  \n",
       "1  (37.9576705, 23.7283724, 0.0)  37.957670  23.728372       0.0  \n",
       "2   (37.9603927, 23.742542, 0.0)  37.960393  23.742542       0.0  \n",
       "3  (37.9687219, 23.7295949, 0.0)  37.968722  23.729595       0.0  \n",
       "4  (37.9698825, 23.7465995, 0.0)  37.969882  23.746599       0.0  \n",
       "5  (37.9467441, 23.7138357, 0.0)  37.946744  23.713836       0.0  "
      ]
     },
     "execution_count": 11,
     "metadata": {},
     "output_type": "execute_result"
    }
   ],
   "source": [
    "#Get the first neighborhood's name.\n",
    "\n",
    "df_neigh.head(10)\n",
    "\n"
   ]
  },
  {
   "cell_type": "code",
   "execution_count": 12,
   "metadata": {},
   "outputs": [
    {
     "name": "stdout",
     "output_type": "stream",
     "text": [
      "Latitude and longitude values of Koukaki, Athens are 37.9634559, 23.7220234.\n"
     ]
    }
   ],
   "source": [
    "#Let's explore the first neighborhood \"Koukaki\" in our dataframe.\n",
    "\n",
    "koukaki_latitude = df_neigh.loc[0, 'Latitude'] # neighborhood latitude value\n",
    "koukaki_longitude = df_neigh.loc[0, 'Longitude'] # neighborhood longitude value\n",
    "\n",
    "koukaki = df_neigh.loc[0, 'Neighborhood'] # neighborhood name\n",
    "\n",
    "print('Latitude and longitude values of {} are {}, {}.'.format(koukaki, \n",
    "                                                               koukaki_latitude, \n",
    "                                                               koukaki_longitude))"
   ]
  },
  {
   "cell_type": "code",
   "execution_count": 13,
   "metadata": {},
   "outputs": [
    {
     "data": {
      "text/plain": [
       "'https://api.foursquare.com/v2/venues/search?&client_id=05H45WXNVDOCSKSJ0KIBLKAK4EZJ25BRNCJZLS4TT2CI4Z5N&client_secret=XHGLXP23BMRY3ONDZJB2OUIHHZDYM4IUBDDNCWJ0ZZ2RFC4E&v=20200814&ll=37.9634559,23.7220234&radius=250&limit=50&categoryId=4bf58dd8d48988d16a941735'"
      ]
     },
     "execution_count": 13,
     "metadata": {},
     "output_type": "execute_result"
    }
   ],
   "source": [
    "#get the bakeries that are in \"Koukaki\" within a radius of 250 meters.\n",
    "#bakery id= 4bf58dd8d48988d16a941735\n",
    "#create the GET request URL\n",
    "LIMIT = 50\n",
    "radius = 250\n",
    "\n",
    "url_koukaki = 'https://api.foursquare.com/v2/venues/search?&client_id=05H45WXNVDOCSKSJ0KIBLKAK4EZJ25BRNCJZLS4TT2CI4Z5N&client_secret=XHGLXP23BMRY3ONDZJB2OUIHHZDYM4IUBDDNCWJ0ZZ2RFC4E&v=20200814&ll=37.9634559,23.7220234&radius=250&limit=50&categoryId=4bf58dd8d48988d16a941735'.format(\n",
    "    CLIENT_ID, \n",
    "    CLIENT_SECRET, \n",
    "    VERSION, \n",
    "    koukaki_latitude, \n",
    "    koukaki_longitude, \n",
    "    radius, \n",
    "    LIMIT)\n",
    "url_koukaki # display URL\n",
    "\n",
    "\n"
   ]
  },
  {
   "cell_type": "code",
   "execution_count": 14,
   "metadata": {},
   "outputs": [],
   "source": [
    "#Send the GET request and examine the resutls\n",
    "\n",
    "results_koukaki = requests.get(url_koukaki).json()\n"
   ]
  },
  {
   "cell_type": "code",
   "execution_count": 15,
   "metadata": {},
   "outputs": [],
   "source": [
    "import json # library to handle JSON files\n",
    "from pandas.io.json import json_normalize # tranform JSON file into a pandas dataframe\n",
    "\n",
    "#clean the json and structure it into a *pandas* dataframe.\n",
    "\n",
    "venues_koukaki = results_koukaki ['response']['venues']"
   ]
  },
  {
   "cell_type": "code",
   "execution_count": 16,
   "metadata": {},
   "outputs": [],
   "source": [
    "nearby_venues_koukaki = pd.json_normalize(venues_koukaki) # flatten JSON\n"
   ]
  },
  {
   "cell_type": "code",
   "execution_count": 17,
   "metadata": {},
   "outputs": [
    {
     "data": {
      "text/html": [
       "<div>\n",
       "<style scoped>\n",
       "    .dataframe tbody tr th:only-of-type {\n",
       "        vertical-align: middle;\n",
       "    }\n",
       "\n",
       "    .dataframe tbody tr th {\n",
       "        vertical-align: top;\n",
       "    }\n",
       "\n",
       "    .dataframe thead th {\n",
       "        text-align: right;\n",
       "    }\n",
       "</style>\n",
       "<table border=\"1\" class=\"dataframe\">\n",
       "  <thead>\n",
       "    <tr style=\"text-align: right;\">\n",
       "      <th></th>\n",
       "      <th>name</th>\n",
       "      <th>location.lat</th>\n",
       "      <th>location.lng</th>\n",
       "    </tr>\n",
       "  </thead>\n",
       "  <tbody>\n",
       "    <tr>\n",
       "      <th>0</th>\n",
       "      <td>Ρίζος</td>\n",
       "      <td>37.963495</td>\n",
       "      <td>23.720000</td>\n",
       "    </tr>\n",
       "    <tr>\n",
       "      <th>1</th>\n",
       "      <td>Μαμά ψωμί</td>\n",
       "      <td>37.964653</td>\n",
       "      <td>23.722377</td>\n",
       "    </tr>\n",
       "    <tr>\n",
       "      <th>2</th>\n",
       "      <td>Το Παραδοσιακό</td>\n",
       "      <td>37.964173</td>\n",
       "      <td>23.721083</td>\n",
       "    </tr>\n",
       "    <tr>\n",
       "      <th>3</th>\n",
       "      <td>Κουκακιώτικη Γωνιά</td>\n",
       "      <td>37.962538</td>\n",
       "      <td>23.722006</td>\n",
       "    </tr>\n",
       "    <tr>\n",
       "      <th>4</th>\n",
       "      <td>DouxCook@Ki</td>\n",
       "      <td>37.964797</td>\n",
       "      <td>23.723926</td>\n",
       "    </tr>\n",
       "  </tbody>\n",
       "</table>\n",
       "</div>"
      ],
      "text/plain": [
       "                 name  location.lat  location.lng\n",
       "0               Ρίζος     37.963495     23.720000\n",
       "1           Μαμά ψωμί     37.964653     23.722377\n",
       "2      Το Παραδοσιακό     37.964173     23.721083\n",
       "3  Κουκακιώτικη Γωνιά     37.962538     23.722006\n",
       "4         DouxCook@Ki     37.964797     23.723926"
      ]
     },
     "execution_count": 17,
     "metadata": {},
     "output_type": "execute_result"
    }
   ],
   "source": [
    "# filter columns\n",
    "filtered_columns = ['name','location.lat','location.lng']\n",
    "nearby_venues_koukaki =nearby_venues_koukaki.loc[:, filtered_columns]\n",
    "nearby_venues_koukaki.head()"
   ]
  },
  {
   "cell_type": "code",
   "execution_count": 128,
   "metadata": {},
   "outputs": [
    {
     "name": "stdout",
     "output_type": "stream",
     "text": [
      "(9, 3)\n"
     ]
    },
    {
     "data": {
      "text/html": [
       "<div>\n",
       "<style scoped>\n",
       "    .dataframe tbody tr th:only-of-type {\n",
       "        vertical-align: middle;\n",
       "    }\n",
       "\n",
       "    .dataframe tbody tr th {\n",
       "        vertical-align: top;\n",
       "    }\n",
       "\n",
       "    .dataframe thead th {\n",
       "        text-align: right;\n",
       "    }\n",
       "</style>\n",
       "<table border=\"1\" class=\"dataframe\">\n",
       "  <thead>\n",
       "    <tr style=\"text-align: right;\">\n",
       "      <th></th>\n",
       "      <th>Bakery</th>\n",
       "      <th>Latitude</th>\n",
       "      <th>Longitude</th>\n",
       "    </tr>\n",
       "  </thead>\n",
       "  <tbody>\n",
       "    <tr>\n",
       "      <th>0</th>\n",
       "      <td>Ρίζος</td>\n",
       "      <td>37.963495</td>\n",
       "      <td>23.720000</td>\n",
       "    </tr>\n",
       "    <tr>\n",
       "      <th>1</th>\n",
       "      <td>Μαμά ψωμί</td>\n",
       "      <td>37.964653</td>\n",
       "      <td>23.722377</td>\n",
       "    </tr>\n",
       "    <tr>\n",
       "      <th>2</th>\n",
       "      <td>Το Παραδοσιακό</td>\n",
       "      <td>37.964173</td>\n",
       "      <td>23.721083</td>\n",
       "    </tr>\n",
       "    <tr>\n",
       "      <th>3</th>\n",
       "      <td>Κουκακιώτικη Γωνιά</td>\n",
       "      <td>37.962538</td>\n",
       "      <td>23.722006</td>\n",
       "    </tr>\n",
       "    <tr>\n",
       "      <th>4</th>\n",
       "      <td>DouxCook@Ki</td>\n",
       "      <td>37.964797</td>\n",
       "      <td>23.723926</td>\n",
       "    </tr>\n",
       "    <tr>\n",
       "      <th>5</th>\n",
       "      <td>Κουλουρότοπος</td>\n",
       "      <td>37.962964</td>\n",
       "      <td>23.724139</td>\n",
       "    </tr>\n",
       "    <tr>\n",
       "      <th>6</th>\n",
       "      <td>Baking Room</td>\n",
       "      <td>37.964794</td>\n",
       "      <td>23.723812</td>\n",
       "    </tr>\n",
       "    <tr>\n",
       "      <th>7</th>\n",
       "      <td>Primo Πιτολιχουδιες</td>\n",
       "      <td>37.963579</td>\n",
       "      <td>23.721332</td>\n",
       "    </tr>\n",
       "    <tr>\n",
       "      <th>8</th>\n",
       "      <td>Ο Φούρνος Του Λιάρου</td>\n",
       "      <td>37.962418</td>\n",
       "      <td>23.718682</td>\n",
       "    </tr>\n",
       "  </tbody>\n",
       "</table>\n",
       "</div>"
      ],
      "text/plain": [
       "                 Bakery   Latitude  Longitude\n",
       "0                 Ρίζος  37.963495  23.720000\n",
       "1             Μαμά ψωμί  37.964653  23.722377\n",
       "2        Το Παραδοσιακό  37.964173  23.721083\n",
       "3    Κουκακιώτικη Γωνιά  37.962538  23.722006\n",
       "4           DouxCook@Ki  37.964797  23.723926\n",
       "5         Κουλουρότοπος  37.962964  23.724139\n",
       "6           Baking Room  37.964794  23.723812\n",
       "7   Primo Πιτολιχουδιες  37.963579  23.721332\n",
       "8  Ο Φούρνος Του Λιάρου  37.962418  23.718682"
      ]
     },
     "execution_count": 128,
     "metadata": {},
     "output_type": "execute_result"
    }
   ],
   "source": [
    "#Rename name, location.lat, location.lng columns\n",
    "koukaki_bakeries = nearby_venues_koukaki.rename(columns={'name': 'Bakery', 'location.lat': 'Latitude', 'location.lng': 'Longitude'})\n",
    "\n",
    "print(koukaki_bakeries.shape)\n",
    "koukaki_bakeries\n",
    "\n"
   ]
  },
  {
   "cell_type": "code",
   "execution_count": 19,
   "metadata": {},
   "outputs": [
    {
     "name": "stdout",
     "output_type": "stream",
     "text": [
      "9 bakeries were returned by Foursquare.\n"
     ]
    }
   ],
   "source": [
    "#And how many recommended places were returned by Foursquare?\n",
    "\n",
    "print('{} bakeries were returned by Foursquare.'.format(koukaki_bakeries.shape[0]))"
   ]
  },
  {
   "cell_type": "code",
   "execution_count": 20,
   "metadata": {},
   "outputs": [
    {
     "name": "stdout",
     "output_type": "stream",
     "text": [
      "The geograpical coordinate of Koukaki are Latitude: 37.9634559, Longitude: 23.7220234.\n"
     ]
    }
   ],
   "source": [
    "#Use geopy library to get the latitude and longitude values of Koukaki.\n",
    "\n",
    "address = ['Koukaki, Athens, GR']\n",
    "geolocator = Nominatim(user_agent=\"athens_explorer\")\n",
    "location = geolocator.geocode(address)\n",
    "latitude = location.latitude\n",
    "longitude = location.longitude\n",
    "print('The geograpical coordinate of Koukaki are Latitude: {}, Longitude: {}.'.format(latitude, longitude))"
   ]
  },
  {
   "cell_type": "markdown",
   "metadata": {},
   "source": [
    "<h4>Locations of the Bakeries on the map"
   ]
  },
  {
   "cell_type": "code",
   "execution_count": 21,
   "metadata": {},
   "outputs": [
    {
     "data": {
      "text/html": [
       "<div style=\"width:100%;\"><div style=\"position:relative;width:100%;height:0;padding-bottom:60%;\"><span style=\"color:#565656\">Make this Notebook Trusted to load map: File -> Trust Notebook</span><iframe src=\"about:blank\" style=\"position:absolute;width:100%;height:100%;left:0;top:0;border:none !important;\" data-html=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 onload=\"this.contentDocument.open();this.contentDocument.write(atob(this.getAttribute('data-html')));this.contentDocument.close();\" allowfullscreen webkitallowfullscreen mozallowfullscreen></iframe></div></div>"
      ],
      "text/plain": [
       "<folium.folium.Map at 0x7faa5a0e4190>"
      ]
     },
     "execution_count": 21,
     "metadata": {},
     "output_type": "execute_result"
    }
   ],
   "source": [
    "map_koukaki = folium.Map(location=[latitude, longitude], zoom_start=16)\n",
    "\n",
    "# add markers to map\n",
    "for lat, lng, name in zip(koukaki_bakeries['Latitude'], koukaki_bakeries['Longitude'], koukaki_bakeries['Bakery']):\n",
    "    label = '{}'.format(name)\n",
    "    label = folium.Popup(label, parse_html=True)\n",
    "    folium.CircleMarker(\n",
    "        [lat, lng],\n",
    "        radius=5,\n",
    "        popup=label,\n",
    "        color='red',\n",
    "        fill=True,\n",
    "        fill_color='#3186cc',\n",
    "        fill_opacity=0.7,\n",
    "        parse_html=False).add_to(map_koukaki)  \n",
    "    \n",
    "map_koukaki"
   ]
  },
  {
   "cell_type": "markdown",
   "metadata": {},
   "source": [
    "<h1>Explore the 2nd area: \"Neos Kosmos\""
   ]
  },
  {
   "cell_type": "code",
   "execution_count": 22,
   "metadata": {},
   "outputs": [
    {
     "data": {
      "text/html": [
       "<div>\n",
       "<style scoped>\n",
       "    .dataframe tbody tr th:only-of-type {\n",
       "        vertical-align: middle;\n",
       "    }\n",
       "\n",
       "    .dataframe tbody tr th {\n",
       "        vertical-align: top;\n",
       "    }\n",
       "\n",
       "    .dataframe thead th {\n",
       "        text-align: right;\n",
       "    }\n",
       "</style>\n",
       "<table border=\"1\" class=\"dataframe\">\n",
       "  <thead>\n",
       "    <tr style=\"text-align: right;\">\n",
       "      <th></th>\n",
       "      <th>Neighborhood</th>\n",
       "      <th>Location</th>\n",
       "      <th>point</th>\n",
       "      <th>Latitude</th>\n",
       "      <th>Longitude</th>\n",
       "      <th>altitude</th>\n",
       "    </tr>\n",
       "  </thead>\n",
       "  <tbody>\n",
       "    <tr>\n",
       "      <th>0</th>\n",
       "      <td>Koukaki, Athens</td>\n",
       "      <td>(Κουκάκι, Δουργούτι, Αθήνα, Δήμος Αθηναίων, Πε...</td>\n",
       "      <td>(37.9634559, 23.7220234, 0.0)</td>\n",
       "      <td>37.963456</td>\n",
       "      <td>23.722023</td>\n",
       "      <td>0.0</td>\n",
       "    </tr>\n",
       "    <tr>\n",
       "      <th>1</th>\n",
       "      <td>Neos Kosmos, Athens</td>\n",
       "      <td>(Νέος Κόσμος, Κασομούλη, Κυνοσάργους, Συνοικία...</td>\n",
       "      <td>(37.9576705, 23.7283724, 0.0)</td>\n",
       "      <td>37.957670</td>\n",
       "      <td>23.728372</td>\n",
       "      <td>0.0</td>\n",
       "    </tr>\n",
       "    <tr>\n",
       "      <th>2</th>\n",
       "      <td>Agios Artemios, Athens</td>\n",
       "      <td>(Άγιος Αρτέμιος, Προφήτης Ηλίας, Αθήνα, Δήμος ...</td>\n",
       "      <td>(37.9603927, 23.742542, 0.0)</td>\n",
       "      <td>37.960393</td>\n",
       "      <td>23.742542</td>\n",
       "      <td>0.0</td>\n",
       "    </tr>\n",
       "    <tr>\n",
       "      <th>3</th>\n",
       "      <td>Makrygianni, Athens</td>\n",
       "      <td>(Μακρυγιάννη, Αναφιώτικα, Κολωνάκι, Αθήνα, Δήμ...</td>\n",
       "      <td>(37.9687219, 23.7295949, 0.0)</td>\n",
       "      <td>37.968722</td>\n",
       "      <td>23.729595</td>\n",
       "      <td>0.0</td>\n",
       "    </tr>\n",
       "    <tr>\n",
       "      <th>4</th>\n",
       "      <td>Pangrati, Athens</td>\n",
       "      <td>(Συνοικία Παγκρατίου, Αθήνα, Δήμος Αθηναίων, Π...</td>\n",
       "      <td>(37.9698825, 23.7465995, 0.0)</td>\n",
       "      <td>37.969882</td>\n",
       "      <td>23.746599</td>\n",
       "      <td>0.0</td>\n",
       "    </tr>\n",
       "    <tr>\n",
       "      <th>5</th>\n",
       "      <td>Nea Smyrni, Athens</td>\n",
       "      <td>(Νέα Σμύρνη, Δήμος Νέας Σμύρνης, Περιφερειακή ...</td>\n",
       "      <td>(37.9467441, 23.7138357, 0.0)</td>\n",
       "      <td>37.946744</td>\n",
       "      <td>23.713836</td>\n",
       "      <td>0.0</td>\n",
       "    </tr>\n",
       "  </tbody>\n",
       "</table>\n",
       "</div>"
      ],
      "text/plain": [
       "             Neighborhood                                           Location  \\\n",
       "0         Koukaki, Athens  (Κουκάκι, Δουργούτι, Αθήνα, Δήμος Αθηναίων, Πε...   \n",
       "1     Neos Kosmos, Athens  (Νέος Κόσμος, Κασομούλη, Κυνοσάργους, Συνοικία...   \n",
       "2  Agios Artemios, Athens  (Άγιος Αρτέμιος, Προφήτης Ηλίας, Αθήνα, Δήμος ...   \n",
       "3     Makrygianni, Athens  (Μακρυγιάννη, Αναφιώτικα, Κολωνάκι, Αθήνα, Δήμ...   \n",
       "4        Pangrati, Athens  (Συνοικία Παγκρατίου, Αθήνα, Δήμος Αθηναίων, Π...   \n",
       "5      Nea Smyrni, Athens  (Νέα Σμύρνη, Δήμος Νέας Σμύρνης, Περιφερειακή ...   \n",
       "\n",
       "                           point   Latitude  Longitude  altitude  \n",
       "0  (37.9634559, 23.7220234, 0.0)  37.963456  23.722023       0.0  \n",
       "1  (37.9576705, 23.7283724, 0.0)  37.957670  23.728372       0.0  \n",
       "2   (37.9603927, 23.742542, 0.0)  37.960393  23.742542       0.0  \n",
       "3  (37.9687219, 23.7295949, 0.0)  37.968722  23.729595       0.0  \n",
       "4  (37.9698825, 23.7465995, 0.0)  37.969882  23.746599       0.0  \n",
       "5  (37.9467441, 23.7138357, 0.0)  37.946744  23.713836       0.0  "
      ]
     },
     "execution_count": 22,
     "metadata": {},
     "output_type": "execute_result"
    }
   ],
   "source": [
    "df_neigh"
   ]
  },
  {
   "cell_type": "code",
   "execution_count": 23,
   "metadata": {},
   "outputs": [
    {
     "name": "stdout",
     "output_type": "stream",
     "text": [
      "Latitude and longitude values of Neos Kosmos, Athens are 37.9576705, 23.7283724.\n"
     ]
    }
   ],
   "source": [
    "#Let's explore the second neighborhood \"Neos Kosmos\" in our dataframe.\n",
    "\n",
    "neos_kosmos_latitude = df_neigh.loc[1, 'Latitude'] # neighborhood latitude value\n",
    "neos_kosmos_longitude = df_neigh.loc[1, 'Longitude'] # neighborhood longitude value\n",
    "\n",
    "neos_kosmos = df_neigh.loc[1, 'Neighborhood'] # neighborhood name\n",
    "\n",
    "print('Latitude and longitude values of {} are {}, {}.'.format(neos_kosmos, \n",
    "                                                               neos_kosmos_latitude, \n",
    "                                                               neos_kosmos_longitude))\n",
    "\n"
   ]
  },
  {
   "cell_type": "code",
   "execution_count": 24,
   "metadata": {},
   "outputs": [
    {
     "data": {
      "text/plain": [
       "'https://api.foursquare.com/v2/venues/search?&client_id=05H45WXNVDOCSKSJ0KIBLKAK4EZJ25BRNCJZLS4TT2CI4Z5N&client_secret=XHGLXP23BMRY3ONDZJB2OUIHHZDYM4IUBDDNCWJ0ZZ2RFC4E&v=20200814&ll=37.9569948,23.7270819&radius=250&limit=50&categoryId=4bf58dd8d48988d16a941735'"
      ]
     },
     "execution_count": 24,
     "metadata": {},
     "output_type": "execute_result"
    }
   ],
   "source": [
    "#get the bakeries that are in \"Neos Kosmos\" within a radius of 250 meters.\n",
    "#create the GET request URL\n",
    "LIMIT = 50\n",
    "radius = 250\n",
    "\n",
    "url_neos_kosmos = 'https://api.foursquare.com/v2/venues/search?&client_id=05H45WXNVDOCSKSJ0KIBLKAK4EZJ25BRNCJZLS4TT2CI4Z5N&client_secret=XHGLXP23BMRY3ONDZJB2OUIHHZDYM4IUBDDNCWJ0ZZ2RFC4E&v=20200814&ll=37.9569948,23.7270819&radius=250&limit=50&categoryId=4bf58dd8d48988d16a941735'.format(\n",
    "    CLIENT_ID, \n",
    "    CLIENT_SECRET, \n",
    "    VERSION, \n",
    "    neos_kosmos_latitude, \n",
    "    neos_kosmos_longitude, \n",
    "    radius, \n",
    "    LIMIT)\n",
    "url_neos_kosmos # display URL\n",
    "\n",
    "\n"
   ]
  },
  {
   "cell_type": "code",
   "execution_count": 25,
   "metadata": {},
   "outputs": [],
   "source": [
    "#Send the GET request and get the resutls\n",
    "\n",
    "results_neos_kosmos = requests.get(url_neos_kosmos).json()\n"
   ]
  },
  {
   "cell_type": "code",
   "execution_count": 26,
   "metadata": {},
   "outputs": [],
   "source": [
    "import json # library to handle JSON files\n",
    "from pandas.io.json import json_normalize # tranform JSON file into a pandas dataframe\n",
    "\n",
    "#clean the json and structure it into a *pandas* dataframe.\n",
    "\n",
    "venues_neos_kosmos = results_neos_kosmos ['response']['venues']\n"
   ]
  },
  {
   "cell_type": "code",
   "execution_count": 27,
   "metadata": {},
   "outputs": [],
   "source": [
    "nearby_venues_neos_kosmos = pd.json_normalize(venues_neos_kosmos) # flatten JSON\n"
   ]
  },
  {
   "cell_type": "code",
   "execution_count": 28,
   "metadata": {},
   "outputs": [
    {
     "data": {
      "text/html": [
       "<div>\n",
       "<style scoped>\n",
       "    .dataframe tbody tr th:only-of-type {\n",
       "        vertical-align: middle;\n",
       "    }\n",
       "\n",
       "    .dataframe tbody tr th {\n",
       "        vertical-align: top;\n",
       "    }\n",
       "\n",
       "    .dataframe thead th {\n",
       "        text-align: right;\n",
       "    }\n",
       "</style>\n",
       "<table border=\"1\" class=\"dataframe\">\n",
       "  <thead>\n",
       "    <tr style=\"text-align: right;\">\n",
       "      <th></th>\n",
       "      <th>name</th>\n",
       "      <th>location.lat</th>\n",
       "      <th>location.lng</th>\n",
       "    </tr>\n",
       "  </thead>\n",
       "  <tbody>\n",
       "    <tr>\n",
       "      <th>0</th>\n",
       "      <td>Εκ Σίτου</td>\n",
       "      <td>37.957173</td>\n",
       "      <td>23.726627</td>\n",
       "    </tr>\n",
       "    <tr>\n",
       "      <th>1</th>\n",
       "      <td>Mr Kostis</td>\n",
       "      <td>37.956427</td>\n",
       "      <td>23.724345</td>\n",
       "    </tr>\n",
       "    <tr>\n",
       "      <th>2</th>\n",
       "      <td>Αρτο-ζυμιά</td>\n",
       "      <td>37.958083</td>\n",
       "      <td>23.727889</td>\n",
       "    </tr>\n",
       "    <tr>\n",
       "      <th>3</th>\n",
       "      <td>Mon Koulour</td>\n",
       "      <td>37.957705</td>\n",
       "      <td>23.729924</td>\n",
       "    </tr>\n",
       "    <tr>\n",
       "      <th>4</th>\n",
       "      <td>Leonidas Αρτοποιία Ζαχαροπλαστική</td>\n",
       "      <td>37.957366</td>\n",
       "      <td>23.728620</td>\n",
       "    </tr>\n",
       "  </tbody>\n",
       "</table>\n",
       "</div>"
      ],
      "text/plain": [
       "                                name  location.lat  location.lng\n",
       "0                           Εκ Σίτου     37.957173     23.726627\n",
       "1                          Mr Kostis     37.956427     23.724345\n",
       "2                         Αρτο-ζυμιά     37.958083     23.727889\n",
       "3                        Mon Koulour     37.957705     23.729924\n",
       "4  Leonidas Αρτοποιία Ζαχαροπλαστική     37.957366     23.728620"
      ]
     },
     "execution_count": 28,
     "metadata": {},
     "output_type": "execute_result"
    }
   ],
   "source": [
    "# filter columns\n",
    "filtered_columns = ['name','location.lat','location.lng']\n",
    "nearby_venues_neos_kosmos =nearby_venues_neos_kosmos.loc[:, filtered_columns]\n",
    "nearby_venues_neos_kosmos.head()"
   ]
  },
  {
   "cell_type": "code",
   "execution_count": 127,
   "metadata": {},
   "outputs": [
    {
     "name": "stdout",
     "output_type": "stream",
     "text": [
      "(6, 3)\n"
     ]
    },
    {
     "data": {
      "text/html": [
       "<div>\n",
       "<style scoped>\n",
       "    .dataframe tbody tr th:only-of-type {\n",
       "        vertical-align: middle;\n",
       "    }\n",
       "\n",
       "    .dataframe tbody tr th {\n",
       "        vertical-align: top;\n",
       "    }\n",
       "\n",
       "    .dataframe thead th {\n",
       "        text-align: right;\n",
       "    }\n",
       "</style>\n",
       "<table border=\"1\" class=\"dataframe\">\n",
       "  <thead>\n",
       "    <tr style=\"text-align: right;\">\n",
       "      <th></th>\n",
       "      <th>Bakery</th>\n",
       "      <th>Latitude</th>\n",
       "      <th>Longitude</th>\n",
       "    </tr>\n",
       "  </thead>\n",
       "  <tbody>\n",
       "    <tr>\n",
       "      <th>0</th>\n",
       "      <td>Εκ Σίτου</td>\n",
       "      <td>37.957173</td>\n",
       "      <td>23.726627</td>\n",
       "    </tr>\n",
       "    <tr>\n",
       "      <th>1</th>\n",
       "      <td>Mr Kostis</td>\n",
       "      <td>37.956427</td>\n",
       "      <td>23.724345</td>\n",
       "    </tr>\n",
       "    <tr>\n",
       "      <th>2</th>\n",
       "      <td>Αρτο-ζυμιά</td>\n",
       "      <td>37.958083</td>\n",
       "      <td>23.727889</td>\n",
       "    </tr>\n",
       "    <tr>\n",
       "      <th>3</th>\n",
       "      <td>Mon Koulour</td>\n",
       "      <td>37.957705</td>\n",
       "      <td>23.729924</td>\n",
       "    </tr>\n",
       "    <tr>\n",
       "      <th>4</th>\n",
       "      <td>Leonidas Αρτοποιία Ζαχαροπλαστική</td>\n",
       "      <td>37.957366</td>\n",
       "      <td>23.728620</td>\n",
       "    </tr>\n",
       "    <tr>\n",
       "      <th>5</th>\n",
       "      <td>Γεύσεις Όπως Παλιά</td>\n",
       "      <td>37.957368</td>\n",
       "      <td>23.730531</td>\n",
       "    </tr>\n",
       "  </tbody>\n",
       "</table>\n",
       "</div>"
      ],
      "text/plain": [
       "                              Bakery   Latitude  Longitude\n",
       "0                           Εκ Σίτου  37.957173  23.726627\n",
       "1                          Mr Kostis  37.956427  23.724345\n",
       "2                         Αρτο-ζυμιά  37.958083  23.727889\n",
       "3                        Mon Koulour  37.957705  23.729924\n",
       "4  Leonidas Αρτοποιία Ζαχαροπλαστική  37.957366  23.728620\n",
       "5                 Γεύσεις Όπως Παλιά  37.957368  23.730531"
      ]
     },
     "execution_count": 127,
     "metadata": {},
     "output_type": "execute_result"
    }
   ],
   "source": [
    "#Rename name, location.lat, location.lng columns\n",
    "neos_kosmos_bakeries = nearby_venues_neos_kosmos.rename(columns={'name': 'Bakery', 'location.lat': 'Latitude', 'location.lng': 'Longitude'})\n",
    "\n",
    "print(neos_kosmos_bakeries.shape)\n",
    "neos_kosmos_bakeries"
   ]
  },
  {
   "cell_type": "code",
   "execution_count": 30,
   "metadata": {},
   "outputs": [
    {
     "name": "stdout",
     "output_type": "stream",
     "text": [
      "6 bakeries were returned by Foursquare.\n"
     ]
    }
   ],
   "source": [
    "#And how many recommended places were returned by Foursquare?\n",
    "\n",
    "print('{} bakeries were returned by Foursquare.'.format(neos_kosmos_bakeries.shape[0]))"
   ]
  },
  {
   "cell_type": "code",
   "execution_count": 125,
   "metadata": {},
   "outputs": [
    {
     "name": "stdout",
     "output_type": "stream",
     "text": [
      "The geograpical coordinate of Neos Kosmos are Latitude: 37.9576705, Longitude: 23.7283724.\n"
     ]
    }
   ],
   "source": [
    "#Use geopy library to get the latitude and longitude values of Neos Kosmos.\n",
    "\n",
    "address = ['Neos Kosmos, Athens, GR']\n",
    "geolocator = Nominatim(user_agent=\"athens_explorer\")\n",
    "location = geolocator.geocode(address)\n",
    "latitude = location.latitude\n",
    "longitude = location.longitude\n",
    "print('The geograpical coordinate of Neos Kosmos are Latitude: {}, Longitude: {}.'.format(latitude, longitude))"
   ]
  },
  {
   "cell_type": "markdown",
   "metadata": {},
   "source": [
    "<h4>Locations of the Bakeries on the map"
   ]
  },
  {
   "cell_type": "code",
   "execution_count": 126,
   "metadata": {},
   "outputs": [
    {
     "data": {
      "text/html": [
       "<div style=\"width:100%;\"><div style=\"position:relative;width:100%;height:0;padding-bottom:60%;\"><span style=\"color:#565656\">Make this Notebook Trusted to load map: File -> Trust Notebook</span><iframe src=\"about:blank\" style=\"position:absolute;width:100%;height:100%;left:0;top:0;border:none !important;\" data-html=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 onload=\"this.contentDocument.open();this.contentDocument.write(atob(this.getAttribute('data-html')));this.contentDocument.close();\" allowfullscreen webkitallowfullscreen mozallowfullscreen></iframe></div></div>"
      ],
      "text/plain": [
       "<folium.folium.Map at 0x7faa5a589c70>"
      ]
     },
     "execution_count": 126,
     "metadata": {},
     "output_type": "execute_result"
    }
   ],
   "source": [
    "map_neos_kosmos = folium.Map(location=[latitude, longitude], zoom_start=16)\n",
    "\n",
    "# add markers to map\n",
    "for lat, lng, name in zip(neos_kosmos_bakeries['Latitude'], neos_kosmos_bakeries['Longitude'], neos_kosmos_bakeries['Bakery']):\n",
    "    label = '{}'.format(name)\n",
    "    label = folium.Popup(label, parse_html=True)\n",
    "    folium.CircleMarker(\n",
    "        [lat, lng],\n",
    "        radius=5,\n",
    "        popup=label,\n",
    "        color='red',\n",
    "        fill=True,\n",
    "        fill_color='#3186cc',\n",
    "        fill_opacity=0.7,\n",
    "        parse_html=False).add_to(map_neos_kosmos)  \n",
    "    \n",
    "map_neos_kosmos"
   ]
  },
  {
   "cell_type": "markdown",
   "metadata": {},
   "source": [
    "<h1> Explore the 3rd area: \"Agios Artemios\""
   ]
  },
  {
   "cell_type": "code",
   "execution_count": 33,
   "metadata": {},
   "outputs": [
    {
     "data": {
      "text/html": [
       "<div>\n",
       "<style scoped>\n",
       "    .dataframe tbody tr th:only-of-type {\n",
       "        vertical-align: middle;\n",
       "    }\n",
       "\n",
       "    .dataframe tbody tr th {\n",
       "        vertical-align: top;\n",
       "    }\n",
       "\n",
       "    .dataframe thead th {\n",
       "        text-align: right;\n",
       "    }\n",
       "</style>\n",
       "<table border=\"1\" class=\"dataframe\">\n",
       "  <thead>\n",
       "    <tr style=\"text-align: right;\">\n",
       "      <th></th>\n",
       "      <th>Neighborhood</th>\n",
       "      <th>Location</th>\n",
       "      <th>point</th>\n",
       "      <th>Latitude</th>\n",
       "      <th>Longitude</th>\n",
       "      <th>altitude</th>\n",
       "    </tr>\n",
       "  </thead>\n",
       "  <tbody>\n",
       "    <tr>\n",
       "      <th>0</th>\n",
       "      <td>Koukaki, Athens</td>\n",
       "      <td>(Κουκάκι, Δουργούτι, Αθήνα, Δήμος Αθηναίων, Πε...</td>\n",
       "      <td>(37.9634559, 23.7220234, 0.0)</td>\n",
       "      <td>37.963456</td>\n",
       "      <td>23.722023</td>\n",
       "      <td>0.0</td>\n",
       "    </tr>\n",
       "    <tr>\n",
       "      <th>1</th>\n",
       "      <td>Neos Kosmos, Athens</td>\n",
       "      <td>(Νέος Κόσμος, Κασομούλη, Κυνοσάργους, Συνοικία...</td>\n",
       "      <td>(37.9576705, 23.7283724, 0.0)</td>\n",
       "      <td>37.957670</td>\n",
       "      <td>23.728372</td>\n",
       "      <td>0.0</td>\n",
       "    </tr>\n",
       "    <tr>\n",
       "      <th>2</th>\n",
       "      <td>Agios Artemios, Athens</td>\n",
       "      <td>(Άγιος Αρτέμιος, Προφήτης Ηλίας, Αθήνα, Δήμος ...</td>\n",
       "      <td>(37.9603927, 23.742542, 0.0)</td>\n",
       "      <td>37.960393</td>\n",
       "      <td>23.742542</td>\n",
       "      <td>0.0</td>\n",
       "    </tr>\n",
       "    <tr>\n",
       "      <th>3</th>\n",
       "      <td>Makrygianni, Athens</td>\n",
       "      <td>(Μακρυγιάννη, Αναφιώτικα, Κολωνάκι, Αθήνα, Δήμ...</td>\n",
       "      <td>(37.9687219, 23.7295949, 0.0)</td>\n",
       "      <td>37.968722</td>\n",
       "      <td>23.729595</td>\n",
       "      <td>0.0</td>\n",
       "    </tr>\n",
       "    <tr>\n",
       "      <th>4</th>\n",
       "      <td>Pangrati, Athens</td>\n",
       "      <td>(Συνοικία Παγκρατίου, Αθήνα, Δήμος Αθηναίων, Π...</td>\n",
       "      <td>(37.9698825, 23.7465995, 0.0)</td>\n",
       "      <td>37.969882</td>\n",
       "      <td>23.746599</td>\n",
       "      <td>0.0</td>\n",
       "    </tr>\n",
       "    <tr>\n",
       "      <th>5</th>\n",
       "      <td>Nea Smyrni, Athens</td>\n",
       "      <td>(Νέα Σμύρνη, Δήμος Νέας Σμύρνης, Περιφερειακή ...</td>\n",
       "      <td>(37.9467441, 23.7138357, 0.0)</td>\n",
       "      <td>37.946744</td>\n",
       "      <td>23.713836</td>\n",
       "      <td>0.0</td>\n",
       "    </tr>\n",
       "  </tbody>\n",
       "</table>\n",
       "</div>"
      ],
      "text/plain": [
       "             Neighborhood                                           Location  \\\n",
       "0         Koukaki, Athens  (Κουκάκι, Δουργούτι, Αθήνα, Δήμος Αθηναίων, Πε...   \n",
       "1     Neos Kosmos, Athens  (Νέος Κόσμος, Κασομούλη, Κυνοσάργους, Συνοικία...   \n",
       "2  Agios Artemios, Athens  (Άγιος Αρτέμιος, Προφήτης Ηλίας, Αθήνα, Δήμος ...   \n",
       "3     Makrygianni, Athens  (Μακρυγιάννη, Αναφιώτικα, Κολωνάκι, Αθήνα, Δήμ...   \n",
       "4        Pangrati, Athens  (Συνοικία Παγκρατίου, Αθήνα, Δήμος Αθηναίων, Π...   \n",
       "5      Nea Smyrni, Athens  (Νέα Σμύρνη, Δήμος Νέας Σμύρνης, Περιφερειακή ...   \n",
       "\n",
       "                           point   Latitude  Longitude  altitude  \n",
       "0  (37.9634559, 23.7220234, 0.0)  37.963456  23.722023       0.0  \n",
       "1  (37.9576705, 23.7283724, 0.0)  37.957670  23.728372       0.0  \n",
       "2   (37.9603927, 23.742542, 0.0)  37.960393  23.742542       0.0  \n",
       "3  (37.9687219, 23.7295949, 0.0)  37.968722  23.729595       0.0  \n",
       "4  (37.9698825, 23.7465995, 0.0)  37.969882  23.746599       0.0  \n",
       "5  (37.9467441, 23.7138357, 0.0)  37.946744  23.713836       0.0  "
      ]
     },
     "execution_count": 33,
     "metadata": {},
     "output_type": "execute_result"
    }
   ],
   "source": [
    "df_neigh"
   ]
  },
  {
   "cell_type": "code",
   "execution_count": 34,
   "metadata": {},
   "outputs": [
    {
     "name": "stdout",
     "output_type": "stream",
     "text": [
      "Latitude and longitude values of Agios Artemios, Athens are 37.9603927, 23.742542.\n"
     ]
    }
   ],
   "source": [
    "#Let's explore the third neighborhood \"Agios Artemios\" in our dataframe.\n",
    "\n",
    "agios_artemios_latitude = df_neigh.loc[2, 'Latitude'] # neighborhood latitude value\n",
    "agios_artemios_longitude = df_neigh.loc[2, 'Longitude'] # neighborhood longitude value\n",
    "\n",
    "agios_artemios = df_neigh.loc[2, 'Neighborhood'] # neighborhood name\n",
    "\n",
    "print('Latitude and longitude values of {} are {}, {}.'.format(agios_artemios, \n",
    "                                                               agios_artemios_latitude, \n",
    "                                                               agios_artemios_longitude))\n",
    "\n"
   ]
  },
  {
   "cell_type": "code",
   "execution_count": 35,
   "metadata": {},
   "outputs": [
    {
     "data": {
      "text/plain": [
       "'https://api.foursquare.com/v2/venues/search?&client_id=05H45WXNVDOCSKSJ0KIBLKAK4EZJ25BRNCJZLS4TT2CI4Z5N&client_secret=XHGLXP23BMRY3ONDZJB2OUIHHZDYM4IUBDDNCWJ0ZZ2RFC4E&v=20200814&ll=37.9603927,23.742542&radius=250&limit=50&categoryId=4bf58dd8d48988d16a941735'"
      ]
     },
     "execution_count": 35,
     "metadata": {},
     "output_type": "execute_result"
    }
   ],
   "source": [
    "#get the bakeries that are in \"Agios Artemios\" within a radius of 250 meters.\n",
    "#create the GET request URL\n",
    "LIMIT = 50\n",
    "radius = 250\n",
    "\n",
    "url_agios_artemios = 'https://api.foursquare.com/v2/venues/search?&client_id=05H45WXNVDOCSKSJ0KIBLKAK4EZJ25BRNCJZLS4TT2CI4Z5N&client_secret=XHGLXP23BMRY3ONDZJB2OUIHHZDYM4IUBDDNCWJ0ZZ2RFC4E&v=20200814&ll=37.9603927,23.742542&radius=250&limit=50&categoryId=4bf58dd8d48988d16a941735'.format(\n",
    "    CLIENT_ID, \n",
    "    CLIENT_SECRET, \n",
    "    VERSION, \n",
    "    agios_artemios_latitude, \n",
    "    agios_artemios_longitude, \n",
    "    radius, \n",
    "    LIMIT)\n",
    "url_agios_artemios # display URL\n",
    "\n",
    "\n"
   ]
  },
  {
   "cell_type": "code",
   "execution_count": 36,
   "metadata": {},
   "outputs": [],
   "source": [
    "#Send the GET request and examine the resutls\n",
    "\n",
    "results_agios_artemios = requests.get(url_agios_artemios).json()\n"
   ]
  },
  {
   "cell_type": "code",
   "execution_count": 37,
   "metadata": {},
   "outputs": [],
   "source": [
    "import json # library to handle JSON files\n",
    "from pandas.io.json import json_normalize # tranform JSON file into a pandas dataframe\n",
    "\n",
    "#clean the json and structure it into a *pandas* dataframe.\n",
    "\n",
    "venues_agios_artemios = results_agios_artemios ['response']['venues']\n"
   ]
  },
  {
   "cell_type": "code",
   "execution_count": 38,
   "metadata": {},
   "outputs": [],
   "source": [
    "nearby_venues_agios_artemios = pd.json_normalize(venues_agios_artemios) # flatten JSON\n"
   ]
  },
  {
   "cell_type": "code",
   "execution_count": 39,
   "metadata": {},
   "outputs": [
    {
     "data": {
      "text/html": [
       "<div>\n",
       "<style scoped>\n",
       "    .dataframe tbody tr th:only-of-type {\n",
       "        vertical-align: middle;\n",
       "    }\n",
       "\n",
       "    .dataframe tbody tr th {\n",
       "        vertical-align: top;\n",
       "    }\n",
       "\n",
       "    .dataframe thead th {\n",
       "        text-align: right;\n",
       "    }\n",
       "</style>\n",
       "<table border=\"1\" class=\"dataframe\">\n",
       "  <thead>\n",
       "    <tr style=\"text-align: right;\">\n",
       "      <th></th>\n",
       "      <th>name</th>\n",
       "      <th>location.lat</th>\n",
       "      <th>location.lng</th>\n",
       "    </tr>\n",
       "  </thead>\n",
       "  <tbody>\n",
       "    <tr>\n",
       "      <th>0</th>\n",
       "      <td>Άρτος &amp; Τέχνη</td>\n",
       "      <td>37.958538</td>\n",
       "      <td>23.741595</td>\n",
       "    </tr>\n",
       "    <tr>\n",
       "      <th>1</th>\n",
       "      <td>Φούρνος ΣΤΑΘΗΣ</td>\n",
       "      <td>37.961305</td>\n",
       "      <td>23.744645</td>\n",
       "    </tr>\n",
       "    <tr>\n",
       "      <th>2</th>\n",
       "      <td>Ο φούρνος της γειτονιάς</td>\n",
       "      <td>37.959316</td>\n",
       "      <td>23.741972</td>\n",
       "    </tr>\n",
       "    <tr>\n",
       "      <th>3</th>\n",
       "      <td>Αρτοποιία Οικονομίδης</td>\n",
       "      <td>37.962795</td>\n",
       "      <td>23.742759</td>\n",
       "    </tr>\n",
       "  </tbody>\n",
       "</table>\n",
       "</div>"
      ],
      "text/plain": [
       "                      name  location.lat  location.lng\n",
       "0            Άρτος & Τέχνη     37.958538     23.741595\n",
       "1           Φούρνος ΣΤΑΘΗΣ     37.961305     23.744645\n",
       "2  Ο φούρνος της γειτονιάς     37.959316     23.741972\n",
       "3    Αρτοποιία Οικονομίδης     37.962795     23.742759"
      ]
     },
     "execution_count": 39,
     "metadata": {},
     "output_type": "execute_result"
    }
   ],
   "source": [
    "# filter columns\n",
    "filtered_columns = ['name','location.lat','location.lng']\n",
    "nearby_venues_agios_artemios =nearby_venues_agios_artemios.loc[:, filtered_columns]\n",
    "nearby_venues_agios_artemios.head()"
   ]
  },
  {
   "cell_type": "code",
   "execution_count": 130,
   "metadata": {},
   "outputs": [
    {
     "name": "stdout",
     "output_type": "stream",
     "text": [
      "(4, 3)\n"
     ]
    },
    {
     "data": {
      "text/html": [
       "<div>\n",
       "<style scoped>\n",
       "    .dataframe tbody tr th:only-of-type {\n",
       "        vertical-align: middle;\n",
       "    }\n",
       "\n",
       "    .dataframe tbody tr th {\n",
       "        vertical-align: top;\n",
       "    }\n",
       "\n",
       "    .dataframe thead th {\n",
       "        text-align: right;\n",
       "    }\n",
       "</style>\n",
       "<table border=\"1\" class=\"dataframe\">\n",
       "  <thead>\n",
       "    <tr style=\"text-align: right;\">\n",
       "      <th></th>\n",
       "      <th>Bakery</th>\n",
       "      <th>Latitude</th>\n",
       "      <th>Longitude</th>\n",
       "    </tr>\n",
       "  </thead>\n",
       "  <tbody>\n",
       "    <tr>\n",
       "      <th>0</th>\n",
       "      <td>Άρτος &amp; Τέχνη</td>\n",
       "      <td>37.958538</td>\n",
       "      <td>23.741595</td>\n",
       "    </tr>\n",
       "    <tr>\n",
       "      <th>1</th>\n",
       "      <td>Φούρνος ΣΤΑΘΗΣ</td>\n",
       "      <td>37.961305</td>\n",
       "      <td>23.744645</td>\n",
       "    </tr>\n",
       "    <tr>\n",
       "      <th>2</th>\n",
       "      <td>Ο φούρνος της γειτονιάς</td>\n",
       "      <td>37.959316</td>\n",
       "      <td>23.741972</td>\n",
       "    </tr>\n",
       "    <tr>\n",
       "      <th>3</th>\n",
       "      <td>Αρτοποιία Οικονομίδης</td>\n",
       "      <td>37.962795</td>\n",
       "      <td>23.742759</td>\n",
       "    </tr>\n",
       "  </tbody>\n",
       "</table>\n",
       "</div>"
      ],
      "text/plain": [
       "                    Bakery   Latitude  Longitude\n",
       "0            Άρτος & Τέχνη  37.958538  23.741595\n",
       "1           Φούρνος ΣΤΑΘΗΣ  37.961305  23.744645\n",
       "2  Ο φούρνος της γειτονιάς  37.959316  23.741972\n",
       "3    Αρτοποιία Οικονομίδης  37.962795  23.742759"
      ]
     },
     "execution_count": 130,
     "metadata": {},
     "output_type": "execute_result"
    }
   ],
   "source": [
    "#Rename name, location.lat, location.lng columns\n",
    "agios_artemios_bakeries = nearby_venues_agios_artemios.rename(columns={'name': 'Bakery', 'location.lat': 'Latitude', 'location.lng': 'Longitude'})\n",
    "\n",
    "print(agios_artemios_bakeries.shape)\n",
    "agios_artemios_bakeries"
   ]
  },
  {
   "cell_type": "code",
   "execution_count": 41,
   "metadata": {},
   "outputs": [
    {
     "name": "stdout",
     "output_type": "stream",
     "text": [
      "4 bakeries were returned by Foursquare.\n"
     ]
    }
   ],
   "source": [
    "#And how many recommended places were returned by Foursquare?\n",
    "\n",
    "print('{} bakeries were returned by Foursquare.'.format(agios_artemios_bakeries.shape[0]))"
   ]
  },
  {
   "cell_type": "code",
   "execution_count": 42,
   "metadata": {},
   "outputs": [
    {
     "name": "stdout",
     "output_type": "stream",
     "text": [
      "The geograpical coordinate of Agios Artemios are Latitude: 37.9603927, Longitude: 23.742542.\n"
     ]
    }
   ],
   "source": [
    "#Use geopy library to get the latitude and longitude values of Agios Artemios\n",
    "\n",
    "address = ['Agios Artemios, Athens, GR']\n",
    "geolocator = Nominatim(user_agent=\"athens_explorer\")\n",
    "location = geolocator.geocode(address)\n",
    "latitude = location.latitude\n",
    "longitude = location.longitude\n",
    "print('The geograpical coordinate of Agios Artemios are Latitude: {}, Longitude: {}.'.format(latitude, longitude))"
   ]
  },
  {
   "cell_type": "markdown",
   "metadata": {},
   "source": [
    "<h4>Locations of the Bakeries on the map"
   ]
  },
  {
   "cell_type": "code",
   "execution_count": 43,
   "metadata": {},
   "outputs": [
    {
     "data": {
      "text/html": [
       "<div style=\"width:100%;\"><div style=\"position:relative;width:100%;height:0;padding-bottom:60%;\"><span style=\"color:#565656\">Make this Notebook Trusted to load map: File -> Trust Notebook</span><iframe src=\"about:blank\" style=\"position:absolute;width:100%;height:100%;left:0;top:0;border:none !important;\" data-html=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 onload=\"this.contentDocument.open();this.contentDocument.write(atob(this.getAttribute('data-html')));this.contentDocument.close();\" allowfullscreen webkitallowfullscreen mozallowfullscreen></iframe></div></div>"
      ],
      "text/plain": [
       "<folium.folium.Map at 0x7faa5a0ef730>"
      ]
     },
     "execution_count": 43,
     "metadata": {},
     "output_type": "execute_result"
    }
   ],
   "source": [
    "map_agios_artemios = folium.Map(location=[latitude, longitude], zoom_start=16)\n",
    "\n",
    "# add markers to map\n",
    "for lat, lng, name in zip(agios_artemios_bakeries['Latitude'], agios_artemios_bakeries['Longitude'], agios_artemios_bakeries['Bakery']):\n",
    "    label = '{}'.format(name)\n",
    "    label = folium.Popup(label, parse_html=True)\n",
    "    folium.CircleMarker(\n",
    "        [lat, lng],\n",
    "        radius=5,\n",
    "        popup=label,\n",
    "        color='red',\n",
    "        fill=True,\n",
    "        fill_color='#3186cc',\n",
    "        fill_opacity=0.7,\n",
    "        parse_html=False).add_to(map_agios_artemios)  \n",
    "    \n",
    "map_agios_artemios"
   ]
  },
  {
   "cell_type": "markdown",
   "metadata": {},
   "source": [
    "<h1> Explore the 4th area: \"Makrygianni\""
   ]
  },
  {
   "cell_type": "code",
   "execution_count": 44,
   "metadata": {},
   "outputs": [
    {
     "data": {
      "text/html": [
       "<div>\n",
       "<style scoped>\n",
       "    .dataframe tbody tr th:only-of-type {\n",
       "        vertical-align: middle;\n",
       "    }\n",
       "\n",
       "    .dataframe tbody tr th {\n",
       "        vertical-align: top;\n",
       "    }\n",
       "\n",
       "    .dataframe thead th {\n",
       "        text-align: right;\n",
       "    }\n",
       "</style>\n",
       "<table border=\"1\" class=\"dataframe\">\n",
       "  <thead>\n",
       "    <tr style=\"text-align: right;\">\n",
       "      <th></th>\n",
       "      <th>Neighborhood</th>\n",
       "      <th>Location</th>\n",
       "      <th>point</th>\n",
       "      <th>Latitude</th>\n",
       "      <th>Longitude</th>\n",
       "      <th>altitude</th>\n",
       "    </tr>\n",
       "  </thead>\n",
       "  <tbody>\n",
       "    <tr>\n",
       "      <th>0</th>\n",
       "      <td>Koukaki, Athens</td>\n",
       "      <td>(Κουκάκι, Δουργούτι, Αθήνα, Δήμος Αθηναίων, Πε...</td>\n",
       "      <td>(37.9634559, 23.7220234, 0.0)</td>\n",
       "      <td>37.963456</td>\n",
       "      <td>23.722023</td>\n",
       "      <td>0.0</td>\n",
       "    </tr>\n",
       "    <tr>\n",
       "      <th>1</th>\n",
       "      <td>Neos Kosmos, Athens</td>\n",
       "      <td>(Νέος Κόσμος, Κασομούλη, Κυνοσάργους, Συνοικία...</td>\n",
       "      <td>(37.9576705, 23.7283724, 0.0)</td>\n",
       "      <td>37.957670</td>\n",
       "      <td>23.728372</td>\n",
       "      <td>0.0</td>\n",
       "    </tr>\n",
       "    <tr>\n",
       "      <th>2</th>\n",
       "      <td>Agios Artemios, Athens</td>\n",
       "      <td>(Άγιος Αρτέμιος, Προφήτης Ηλίας, Αθήνα, Δήμος ...</td>\n",
       "      <td>(37.9603927, 23.742542, 0.0)</td>\n",
       "      <td>37.960393</td>\n",
       "      <td>23.742542</td>\n",
       "      <td>0.0</td>\n",
       "    </tr>\n",
       "    <tr>\n",
       "      <th>3</th>\n",
       "      <td>Makrygianni, Athens</td>\n",
       "      <td>(Μακρυγιάννη, Αναφιώτικα, Κολωνάκι, Αθήνα, Δήμ...</td>\n",
       "      <td>(37.9687219, 23.7295949, 0.0)</td>\n",
       "      <td>37.968722</td>\n",
       "      <td>23.729595</td>\n",
       "      <td>0.0</td>\n",
       "    </tr>\n",
       "    <tr>\n",
       "      <th>4</th>\n",
       "      <td>Pangrati, Athens</td>\n",
       "      <td>(Συνοικία Παγκρατίου, Αθήνα, Δήμος Αθηναίων, Π...</td>\n",
       "      <td>(37.9698825, 23.7465995, 0.0)</td>\n",
       "      <td>37.969882</td>\n",
       "      <td>23.746599</td>\n",
       "      <td>0.0</td>\n",
       "    </tr>\n",
       "    <tr>\n",
       "      <th>5</th>\n",
       "      <td>Nea Smyrni, Athens</td>\n",
       "      <td>(Νέα Σμύρνη, Δήμος Νέας Σμύρνης, Περιφερειακή ...</td>\n",
       "      <td>(37.9467441, 23.7138357, 0.0)</td>\n",
       "      <td>37.946744</td>\n",
       "      <td>23.713836</td>\n",
       "      <td>0.0</td>\n",
       "    </tr>\n",
       "  </tbody>\n",
       "</table>\n",
       "</div>"
      ],
      "text/plain": [
       "             Neighborhood                                           Location  \\\n",
       "0         Koukaki, Athens  (Κουκάκι, Δουργούτι, Αθήνα, Δήμος Αθηναίων, Πε...   \n",
       "1     Neos Kosmos, Athens  (Νέος Κόσμος, Κασομούλη, Κυνοσάργους, Συνοικία...   \n",
       "2  Agios Artemios, Athens  (Άγιος Αρτέμιος, Προφήτης Ηλίας, Αθήνα, Δήμος ...   \n",
       "3     Makrygianni, Athens  (Μακρυγιάννη, Αναφιώτικα, Κολωνάκι, Αθήνα, Δήμ...   \n",
       "4        Pangrati, Athens  (Συνοικία Παγκρατίου, Αθήνα, Δήμος Αθηναίων, Π...   \n",
       "5      Nea Smyrni, Athens  (Νέα Σμύρνη, Δήμος Νέας Σμύρνης, Περιφερειακή ...   \n",
       "\n",
       "                           point   Latitude  Longitude  altitude  \n",
       "0  (37.9634559, 23.7220234, 0.0)  37.963456  23.722023       0.0  \n",
       "1  (37.9576705, 23.7283724, 0.0)  37.957670  23.728372       0.0  \n",
       "2   (37.9603927, 23.742542, 0.0)  37.960393  23.742542       0.0  \n",
       "3  (37.9687219, 23.7295949, 0.0)  37.968722  23.729595       0.0  \n",
       "4  (37.9698825, 23.7465995, 0.0)  37.969882  23.746599       0.0  \n",
       "5  (37.9467441, 23.7138357, 0.0)  37.946744  23.713836       0.0  "
      ]
     },
     "execution_count": 44,
     "metadata": {},
     "output_type": "execute_result"
    }
   ],
   "source": [
    "df_neigh"
   ]
  },
  {
   "cell_type": "code",
   "execution_count": 45,
   "metadata": {},
   "outputs": [
    {
     "name": "stdout",
     "output_type": "stream",
     "text": [
      "Latitude and longitude values of Makrygianni, Athens are 37.9687219, 23.7295949.\n"
     ]
    }
   ],
   "source": [
    "#Let's explore the fourth neighborhood \"Makrygianni\" in our dataframe.\n",
    "\n",
    "makrygianni_latitude = df_neigh.loc[3, 'Latitude'] # neighborhood latitude value\n",
    "makrygianni_longitude = df_neigh.loc[3, 'Longitude'] # neighborhood longitude value\n",
    "\n",
    "makrygianni = df_neigh.loc[3, 'Neighborhood'] # neighborhood name\n",
    "\n",
    "print('Latitude and longitude values of {} are {}, {}.'.format(makrygianni, \n",
    "                                                               makrygianni_latitude, \n",
    "                                                               makrygianni_longitude))\n",
    "\n"
   ]
  },
  {
   "cell_type": "code",
   "execution_count": 46,
   "metadata": {},
   "outputs": [
    {
     "data": {
      "text/plain": [
       "'https://api.foursquare.com/v2/venues/search?&client_id=05H45WXNVDOCSKSJ0KIBLKAK4EZJ25BRNCJZLS4TT2CI4Z5N&client_secret=XHGLXP23BMRY3ONDZJB2OUIHHZDYM4IUBDDNCWJ0ZZ2RFC4E&v=20200814&ll=37.9687219,23.7295949&radius=250&limit=50&categoryId=4bf58dd8d48988d16a941735'"
      ]
     },
     "execution_count": 46,
     "metadata": {},
     "output_type": "execute_result"
    }
   ],
   "source": [
    "#get the bakeries that are in \"Agios Artemios\" within a radius of 250 meters.\n",
    "#create the GET request URL\n",
    "LIMIT = 50\n",
    "radius = 250\n",
    "\n",
    "url_makrygianni = 'https://api.foursquare.com/v2/venues/search?&client_id=05H45WXNVDOCSKSJ0KIBLKAK4EZJ25BRNCJZLS4TT2CI4Z5N&client_secret=XHGLXP23BMRY3ONDZJB2OUIHHZDYM4IUBDDNCWJ0ZZ2RFC4E&v=20200814&ll=37.9687219,23.7295949&radius=250&limit=50&categoryId=4bf58dd8d48988d16a941735'.format(\n",
    "    CLIENT_ID, \n",
    "    CLIENT_SECRET, \n",
    "    VERSION, \n",
    "    makrygianni_latitude, \n",
    "    makrygianni_longitude, \n",
    "    radius, \n",
    "    LIMIT)\n",
    "url_makrygianni # display URL\n",
    "\n",
    "\n"
   ]
  },
  {
   "cell_type": "code",
   "execution_count": 47,
   "metadata": {},
   "outputs": [],
   "source": [
    "#Send the GET request and examine the resutls\n",
    "\n",
    "results_makrygianni = requests.get(url_makrygianni).json()\n"
   ]
  },
  {
   "cell_type": "code",
   "execution_count": 48,
   "metadata": {},
   "outputs": [],
   "source": [
    "import json # library to handle JSON files\n",
    "from pandas.io.json import json_normalize # tranform JSON file into a pandas dataframe\n",
    "\n",
    "#clean the json and structure it into a *pandas* dataframe.\n",
    "\n",
    "venues_makrygianni = results_makrygianni ['response']['venues']\n"
   ]
  },
  {
   "cell_type": "code",
   "execution_count": 49,
   "metadata": {},
   "outputs": [],
   "source": [
    "nearby_venues_makrygianni = pd.json_normalize(venues_makrygianni) # flatten JSON\n"
   ]
  },
  {
   "cell_type": "code",
   "execution_count": 50,
   "metadata": {},
   "outputs": [
    {
     "data": {
      "text/html": [
       "<div>\n",
       "<style scoped>\n",
       "    .dataframe tbody tr th:only-of-type {\n",
       "        vertical-align: middle;\n",
       "    }\n",
       "\n",
       "    .dataframe tbody tr th {\n",
       "        vertical-align: top;\n",
       "    }\n",
       "\n",
       "    .dataframe thead th {\n",
       "        text-align: right;\n",
       "    }\n",
       "</style>\n",
       "<table border=\"1\" class=\"dataframe\">\n",
       "  <thead>\n",
       "    <tr style=\"text-align: right;\">\n",
       "      <th></th>\n",
       "      <th>name</th>\n",
       "      <th>location.lat</th>\n",
       "      <th>location.lng</th>\n",
       "    </tr>\n",
       "  </thead>\n",
       "  <tbody>\n",
       "    <tr>\n",
       "      <th>0</th>\n",
       "      <td>Takis Bakery (Αρτοποιότης ο Τάκης)</td>\n",
       "      <td>37.967734</td>\n",
       "      <td>23.726667</td>\n",
       "    </tr>\n",
       "  </tbody>\n",
       "</table>\n",
       "</div>"
      ],
      "text/plain": [
       "                                 name  location.lat  location.lng\n",
       "0  Takis Bakery (Αρτοποιότης ο Τάκης)     37.967734     23.726667"
      ]
     },
     "execution_count": 50,
     "metadata": {},
     "output_type": "execute_result"
    }
   ],
   "source": [
    "# filter columns\n",
    "filtered_columns = ['name','location.lat','location.lng']\n",
    "nearby_venues_makrygianni =nearby_venues_makrygianni.loc[:, filtered_columns]\n",
    "nearby_venues_makrygianni.head()"
   ]
  },
  {
   "cell_type": "code",
   "execution_count": 51,
   "metadata": {},
   "outputs": [
    {
     "name": "stdout",
     "output_type": "stream",
     "text": [
      "(1, 3)\n"
     ]
    },
    {
     "data": {
      "text/html": [
       "<div>\n",
       "<style scoped>\n",
       "    .dataframe tbody tr th:only-of-type {\n",
       "        vertical-align: middle;\n",
       "    }\n",
       "\n",
       "    .dataframe tbody tr th {\n",
       "        vertical-align: top;\n",
       "    }\n",
       "\n",
       "    .dataframe thead th {\n",
       "        text-align: right;\n",
       "    }\n",
       "</style>\n",
       "<table border=\"1\" class=\"dataframe\">\n",
       "  <thead>\n",
       "    <tr style=\"text-align: right;\">\n",
       "      <th></th>\n",
       "      <th>Bakery</th>\n",
       "      <th>Latitude</th>\n",
       "      <th>Longitude</th>\n",
       "    </tr>\n",
       "  </thead>\n",
       "  <tbody>\n",
       "    <tr>\n",
       "      <th>0</th>\n",
       "      <td>Takis Bakery (Αρτοποιότης ο Τάκης)</td>\n",
       "      <td>37.967734</td>\n",
       "      <td>23.726667</td>\n",
       "    </tr>\n",
       "  </tbody>\n",
       "</table>\n",
       "</div>"
      ],
      "text/plain": [
       "                               Bakery   Latitude  Longitude\n",
       "0  Takis Bakery (Αρτοποιότης ο Τάκης)  37.967734  23.726667"
      ]
     },
     "execution_count": 51,
     "metadata": {},
     "output_type": "execute_result"
    }
   ],
   "source": [
    "#Rename name, location.lat, location.lng columns\n",
    "makrygianni_bakeries = nearby_venues_makrygianni.rename(columns={'name': 'Bakery', 'location.lat': 'Latitude', 'location.lng': 'Longitude'})\n",
    "\n",
    "print(makrygianni_bakeries.shape)\n",
    "makrygianni_bakeries.head()"
   ]
  },
  {
   "cell_type": "code",
   "execution_count": 52,
   "metadata": {},
   "outputs": [
    {
     "name": "stdout",
     "output_type": "stream",
     "text": [
      "1 bakeries were returned by Foursquare.\n"
     ]
    }
   ],
   "source": [
    "#And how many recommended places were returned by Foursquare?\n",
    "\n",
    "print('{} bakeries were returned by Foursquare.'.format(makrygianni_bakeries.shape[0]))"
   ]
  },
  {
   "cell_type": "code",
   "execution_count": 53,
   "metadata": {},
   "outputs": [
    {
     "name": "stdout",
     "output_type": "stream",
     "text": [
      "The geograpical coordinate of Makrygianni are Latitude: 37.9687219, Longitude: 23.7295949.\n"
     ]
    }
   ],
   "source": [
    "#Use geopy library to get the latitude and longitude values of Makrygianni\n",
    "\n",
    "address = ['Makrygianni, Athens, GR']\n",
    "geolocator = Nominatim(user_agent=\"athens_explorer\")\n",
    "location = geolocator.geocode(address)\n",
    "latitude = location.latitude\n",
    "longitude = location.longitude\n",
    "print('The geograpical coordinate of Makrygianni are Latitude: {}, Longitude: {}.'.format(latitude, longitude))"
   ]
  },
  {
   "cell_type": "markdown",
   "metadata": {},
   "source": [
    "<h4>Locations of the Bakeries on the map"
   ]
  },
  {
   "cell_type": "code",
   "execution_count": 54,
   "metadata": {},
   "outputs": [
    {
     "data": {
      "text/html": [
       "<div style=\"width:100%;\"><div style=\"position:relative;width:100%;height:0;padding-bottom:60%;\"><span style=\"color:#565656\">Make this Notebook Trusted to load map: File -> Trust Notebook</span><iframe src=\"about:blank\" style=\"position:absolute;width:100%;height:100%;left:0;top:0;border:none !important;\" data-html=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 onload=\"this.contentDocument.open();this.contentDocument.write(atob(this.getAttribute('data-html')));this.contentDocument.close();\" allowfullscreen webkitallowfullscreen mozallowfullscreen></iframe></div></div>"
      ],
      "text/plain": [
       "<folium.folium.Map at 0x7faa5a2d4eb0>"
      ]
     },
     "execution_count": 54,
     "metadata": {},
     "output_type": "execute_result"
    }
   ],
   "source": [
    "map_makrygianni = folium.Map(location=[latitude, longitude], zoom_start=16)\n",
    "\n",
    "# add markers to map\n",
    "for lat, lng, name in zip(makrygianni_bakeries['Latitude'], makrygianni_bakeries['Longitude'], makrygianni_bakeries['Bakery']):\n",
    "    label = '{}'.format(name)\n",
    "    label = folium.Popup(label, parse_html=True)\n",
    "    folium.CircleMarker(\n",
    "        [lat, lng],\n",
    "        radius=5,\n",
    "        popup=label,\n",
    "        color='red',\n",
    "        fill=True,\n",
    "        fill_color='#3186cc',\n",
    "        fill_opacity=0.7,\n",
    "        parse_html=False).add_to(map_makrygianni)  \n",
    "    \n",
    "map_makrygianni"
   ]
  },
  {
   "cell_type": "markdown",
   "metadata": {},
   "source": [
    "<h1> Explore the 5th area: \"Pangrati\""
   ]
  },
  {
   "cell_type": "code",
   "execution_count": 55,
   "metadata": {},
   "outputs": [
    {
     "data": {
      "text/html": [
       "<div>\n",
       "<style scoped>\n",
       "    .dataframe tbody tr th:only-of-type {\n",
       "        vertical-align: middle;\n",
       "    }\n",
       "\n",
       "    .dataframe tbody tr th {\n",
       "        vertical-align: top;\n",
       "    }\n",
       "\n",
       "    .dataframe thead th {\n",
       "        text-align: right;\n",
       "    }\n",
       "</style>\n",
       "<table border=\"1\" class=\"dataframe\">\n",
       "  <thead>\n",
       "    <tr style=\"text-align: right;\">\n",
       "      <th></th>\n",
       "      <th>Neighborhood</th>\n",
       "      <th>Location</th>\n",
       "      <th>point</th>\n",
       "      <th>Latitude</th>\n",
       "      <th>Longitude</th>\n",
       "      <th>altitude</th>\n",
       "    </tr>\n",
       "  </thead>\n",
       "  <tbody>\n",
       "    <tr>\n",
       "      <th>0</th>\n",
       "      <td>Koukaki, Athens</td>\n",
       "      <td>(Κουκάκι, Δουργούτι, Αθήνα, Δήμος Αθηναίων, Πε...</td>\n",
       "      <td>(37.9634559, 23.7220234, 0.0)</td>\n",
       "      <td>37.963456</td>\n",
       "      <td>23.722023</td>\n",
       "      <td>0.0</td>\n",
       "    </tr>\n",
       "    <tr>\n",
       "      <th>1</th>\n",
       "      <td>Neos Kosmos, Athens</td>\n",
       "      <td>(Νέος Κόσμος, Κασομούλη, Κυνοσάργους, Συνοικία...</td>\n",
       "      <td>(37.9576705, 23.7283724, 0.0)</td>\n",
       "      <td>37.957670</td>\n",
       "      <td>23.728372</td>\n",
       "      <td>0.0</td>\n",
       "    </tr>\n",
       "    <tr>\n",
       "      <th>2</th>\n",
       "      <td>Agios Artemios, Athens</td>\n",
       "      <td>(Άγιος Αρτέμιος, Προφήτης Ηλίας, Αθήνα, Δήμος ...</td>\n",
       "      <td>(37.9603927, 23.742542, 0.0)</td>\n",
       "      <td>37.960393</td>\n",
       "      <td>23.742542</td>\n",
       "      <td>0.0</td>\n",
       "    </tr>\n",
       "    <tr>\n",
       "      <th>3</th>\n",
       "      <td>Makrygianni, Athens</td>\n",
       "      <td>(Μακρυγιάννη, Αναφιώτικα, Κολωνάκι, Αθήνα, Δήμ...</td>\n",
       "      <td>(37.9687219, 23.7295949, 0.0)</td>\n",
       "      <td>37.968722</td>\n",
       "      <td>23.729595</td>\n",
       "      <td>0.0</td>\n",
       "    </tr>\n",
       "    <tr>\n",
       "      <th>4</th>\n",
       "      <td>Pangrati, Athens</td>\n",
       "      <td>(Συνοικία Παγκρατίου, Αθήνα, Δήμος Αθηναίων, Π...</td>\n",
       "      <td>(37.9698825, 23.7465995, 0.0)</td>\n",
       "      <td>37.969882</td>\n",
       "      <td>23.746599</td>\n",
       "      <td>0.0</td>\n",
       "    </tr>\n",
       "    <tr>\n",
       "      <th>5</th>\n",
       "      <td>Nea Smyrni, Athens</td>\n",
       "      <td>(Νέα Σμύρνη, Δήμος Νέας Σμύρνης, Περιφερειακή ...</td>\n",
       "      <td>(37.9467441, 23.7138357, 0.0)</td>\n",
       "      <td>37.946744</td>\n",
       "      <td>23.713836</td>\n",
       "      <td>0.0</td>\n",
       "    </tr>\n",
       "  </tbody>\n",
       "</table>\n",
       "</div>"
      ],
      "text/plain": [
       "             Neighborhood                                           Location  \\\n",
       "0         Koukaki, Athens  (Κουκάκι, Δουργούτι, Αθήνα, Δήμος Αθηναίων, Πε...   \n",
       "1     Neos Kosmos, Athens  (Νέος Κόσμος, Κασομούλη, Κυνοσάργους, Συνοικία...   \n",
       "2  Agios Artemios, Athens  (Άγιος Αρτέμιος, Προφήτης Ηλίας, Αθήνα, Δήμος ...   \n",
       "3     Makrygianni, Athens  (Μακρυγιάννη, Αναφιώτικα, Κολωνάκι, Αθήνα, Δήμ...   \n",
       "4        Pangrati, Athens  (Συνοικία Παγκρατίου, Αθήνα, Δήμος Αθηναίων, Π...   \n",
       "5      Nea Smyrni, Athens  (Νέα Σμύρνη, Δήμος Νέας Σμύρνης, Περιφερειακή ...   \n",
       "\n",
       "                           point   Latitude  Longitude  altitude  \n",
       "0  (37.9634559, 23.7220234, 0.0)  37.963456  23.722023       0.0  \n",
       "1  (37.9576705, 23.7283724, 0.0)  37.957670  23.728372       0.0  \n",
       "2   (37.9603927, 23.742542, 0.0)  37.960393  23.742542       0.0  \n",
       "3  (37.9687219, 23.7295949, 0.0)  37.968722  23.729595       0.0  \n",
       "4  (37.9698825, 23.7465995, 0.0)  37.969882  23.746599       0.0  \n",
       "5  (37.9467441, 23.7138357, 0.0)  37.946744  23.713836       0.0  "
      ]
     },
     "execution_count": 55,
     "metadata": {},
     "output_type": "execute_result"
    }
   ],
   "source": [
    "df_neigh"
   ]
  },
  {
   "cell_type": "code",
   "execution_count": 56,
   "metadata": {},
   "outputs": [
    {
     "name": "stdout",
     "output_type": "stream",
     "text": [
      "Latitude and longitude values of Pangrati, Athens are 37.9698825, 23.7465995.\n"
     ]
    }
   ],
   "source": [
    "#Let's explore the fifth neighborhood \"Pangrati\" in our dataframe.\n",
    "\n",
    "pangrati_latitude = df_neigh.loc[4, 'Latitude'] # neighborhood latitude value\n",
    "pangrati_longitude = df_neigh.loc[4, 'Longitude'] # neighborhood longitude value\n",
    "\n",
    "pangrati = df_neigh.loc[4, 'Neighborhood'] # neighborhood name\n",
    "\n",
    "print('Latitude and longitude values of {} are {}, {}.'.format(pangrati, \n",
    "                                                               pangrati_latitude, \n",
    "                                                               pangrati_longitude))\n",
    "\n"
   ]
  },
  {
   "cell_type": "code",
   "execution_count": 57,
   "metadata": {},
   "outputs": [
    {
     "data": {
      "text/plain": [
       "'https://api.foursquare.com/v2/venues/search?&client_id=05H45WXNVDOCSKSJ0KIBLKAK4EZJ25BRNCJZLS4TT2CI4Z5N&client_secret=XHGLXP23BMRY3ONDZJB2OUIHHZDYM4IUBDDNCWJ0ZZ2RFC4E&v=20200814&ll=37.9698825,23.7465995&radius=250&limit=50&categoryId=4bf58dd8d48988d16a941735'"
      ]
     },
     "execution_count": 57,
     "metadata": {},
     "output_type": "execute_result"
    }
   ],
   "source": [
    "#get the bakeries that are in \"Pangrati\" within a radius of 250 meters.\n",
    "#create the GET request URL\n",
    "LIMIT = 50\n",
    "radius = 250\n",
    "\n",
    "url_pangrati = 'https://api.foursquare.com/v2/venues/search?&client_id=05H45WXNVDOCSKSJ0KIBLKAK4EZJ25BRNCJZLS4TT2CI4Z5N&client_secret=XHGLXP23BMRY3ONDZJB2OUIHHZDYM4IUBDDNCWJ0ZZ2RFC4E&v=20200814&ll=37.9698825,23.7465995&radius=250&limit=50&categoryId=4bf58dd8d48988d16a941735'.format(\n",
    "    CLIENT_ID, \n",
    "    CLIENT_SECRET, \n",
    "    VERSION, \n",
    "    pangrati_latitude, \n",
    "    pangrati_longitude, \n",
    "    radius, \n",
    "    LIMIT)\n",
    "url_pangrati # display URL\n",
    "\n",
    "\n"
   ]
  },
  {
   "cell_type": "code",
   "execution_count": 58,
   "metadata": {},
   "outputs": [],
   "source": [
    "#Send the GET request and examine the resutls\n",
    "\n",
    "results_pangrati = requests.get(url_pangrati).json()\n"
   ]
  },
  {
   "cell_type": "code",
   "execution_count": 59,
   "metadata": {},
   "outputs": [],
   "source": [
    "import json # library to handle JSON files\n",
    "from pandas.io.json import json_normalize # tranform JSON file into a pandas dataframe\n",
    "\n",
    "#clean the json and structure it into a *pandas* dataframe.\n",
    "\n",
    "venues_pangrati = results_pangrati ['response']['venues']\n"
   ]
  },
  {
   "cell_type": "code",
   "execution_count": 60,
   "metadata": {},
   "outputs": [],
   "source": [
    "nearby_venues_pangrati = pd.json_normalize(venues_pangrati) # flatten JSON\n"
   ]
  },
  {
   "cell_type": "code",
   "execution_count": 61,
   "metadata": {},
   "outputs": [
    {
     "data": {
      "text/html": [
       "<div>\n",
       "<style scoped>\n",
       "    .dataframe tbody tr th:only-of-type {\n",
       "        vertical-align: middle;\n",
       "    }\n",
       "\n",
       "    .dataframe tbody tr th {\n",
       "        vertical-align: top;\n",
       "    }\n",
       "\n",
       "    .dataframe thead th {\n",
       "        text-align: right;\n",
       "    }\n",
       "</style>\n",
       "<table border=\"1\" class=\"dataframe\">\n",
       "  <thead>\n",
       "    <tr style=\"text-align: right;\">\n",
       "      <th></th>\n",
       "      <th>name</th>\n",
       "      <th>location.lat</th>\n",
       "      <th>location.lng</th>\n",
       "    </tr>\n",
       "  </thead>\n",
       "  <tbody>\n",
       "    <tr>\n",
       "      <th>0</th>\n",
       "      <td>Ok! bread</td>\n",
       "      <td>37.971719</td>\n",
       "      <td>23.745990</td>\n",
       "    </tr>\n",
       "    <tr>\n",
       "      <th>1</th>\n",
       "      <td>Πνύκα Φούρνος</td>\n",
       "      <td>37.968522</td>\n",
       "      <td>23.747942</td>\n",
       "    </tr>\n",
       "    <tr>\n",
       "      <th>2</th>\n",
       "      <td>Φούρνος Βενέτη</td>\n",
       "      <td>37.967729</td>\n",
       "      <td>23.747370</td>\n",
       "    </tr>\n",
       "    <tr>\n",
       "      <th>3</th>\n",
       "      <td>Αττικά Αρτοποιεία</td>\n",
       "      <td>37.967685</td>\n",
       "      <td>23.747021</td>\n",
       "    </tr>\n",
       "    <tr>\n",
       "      <th>4</th>\n",
       "      <td>Πιετρής</td>\n",
       "      <td>37.968052</td>\n",
       "      <td>23.743965</td>\n",
       "    </tr>\n",
       "  </tbody>\n",
       "</table>\n",
       "</div>"
      ],
      "text/plain": [
       "                name  location.lat  location.lng\n",
       "0          Ok! bread     37.971719     23.745990\n",
       "1      Πνύκα Φούρνος     37.968522     23.747942\n",
       "2     Φούρνος Βενέτη     37.967729     23.747370\n",
       "3  Αττικά Αρτοποιεία     37.967685     23.747021\n",
       "4            Πιετρής     37.968052     23.743965"
      ]
     },
     "execution_count": 61,
     "metadata": {},
     "output_type": "execute_result"
    }
   ],
   "source": [
    "# filter columns\n",
    "filtered_columns = ['name','location.lat','location.lng']\n",
    "nearby_venues_pangrati =nearby_venues_pangrati.loc[:, filtered_columns]\n",
    "nearby_venues_pangrati.head()"
   ]
  },
  {
   "cell_type": "code",
   "execution_count": 131,
   "metadata": {},
   "outputs": [
    {
     "name": "stdout",
     "output_type": "stream",
     "text": [
      "(5, 3)\n"
     ]
    },
    {
     "data": {
      "text/html": [
       "<div>\n",
       "<style scoped>\n",
       "    .dataframe tbody tr th:only-of-type {\n",
       "        vertical-align: middle;\n",
       "    }\n",
       "\n",
       "    .dataframe tbody tr th {\n",
       "        vertical-align: top;\n",
       "    }\n",
       "\n",
       "    .dataframe thead th {\n",
       "        text-align: right;\n",
       "    }\n",
       "</style>\n",
       "<table border=\"1\" class=\"dataframe\">\n",
       "  <thead>\n",
       "    <tr style=\"text-align: right;\">\n",
       "      <th></th>\n",
       "      <th>Bakery</th>\n",
       "      <th>Latitude</th>\n",
       "      <th>Longitude</th>\n",
       "    </tr>\n",
       "  </thead>\n",
       "  <tbody>\n",
       "    <tr>\n",
       "      <th>0</th>\n",
       "      <td>Ok! bread</td>\n",
       "      <td>37.971719</td>\n",
       "      <td>23.745990</td>\n",
       "    </tr>\n",
       "    <tr>\n",
       "      <th>1</th>\n",
       "      <td>Πνύκα Φούρνος</td>\n",
       "      <td>37.968522</td>\n",
       "      <td>23.747942</td>\n",
       "    </tr>\n",
       "    <tr>\n",
       "      <th>2</th>\n",
       "      <td>Φούρνος Βενέτη</td>\n",
       "      <td>37.967729</td>\n",
       "      <td>23.747370</td>\n",
       "    </tr>\n",
       "    <tr>\n",
       "      <th>3</th>\n",
       "      <td>Αττικά Αρτοποιεία</td>\n",
       "      <td>37.967685</td>\n",
       "      <td>23.747021</td>\n",
       "    </tr>\n",
       "    <tr>\n",
       "      <th>4</th>\n",
       "      <td>Πιετρής</td>\n",
       "      <td>37.968052</td>\n",
       "      <td>23.743965</td>\n",
       "    </tr>\n",
       "  </tbody>\n",
       "</table>\n",
       "</div>"
      ],
      "text/plain": [
       "              Bakery   Latitude  Longitude\n",
       "0          Ok! bread  37.971719  23.745990\n",
       "1      Πνύκα Φούρνος  37.968522  23.747942\n",
       "2     Φούρνος Βενέτη  37.967729  23.747370\n",
       "3  Αττικά Αρτοποιεία  37.967685  23.747021\n",
       "4            Πιετρής  37.968052  23.743965"
      ]
     },
     "execution_count": 131,
     "metadata": {},
     "output_type": "execute_result"
    }
   ],
   "source": [
    "#Rename name, location.lat, location.lng columns\n",
    "pangrati_bakeries = nearby_venues_pangrati.rename(columns={'name': 'Bakery', 'location.lat': 'Latitude', 'location.lng': 'Longitude'})\n",
    "\n",
    "print(pangrati_bakeries.shape)\n",
    "pangrati_bakeries"
   ]
  },
  {
   "cell_type": "code",
   "execution_count": 63,
   "metadata": {},
   "outputs": [
    {
     "name": "stdout",
     "output_type": "stream",
     "text": [
      "5 bakeries were returned by Foursquare.\n"
     ]
    }
   ],
   "source": [
    "#And how many Bakeries were returned by Foursquare?\n",
    "\n",
    "print('{} bakeries were returned by Foursquare.'.format(pangrati_bakeries.shape[0]))"
   ]
  },
  {
   "cell_type": "code",
   "execution_count": 64,
   "metadata": {},
   "outputs": [
    {
     "name": "stdout",
     "output_type": "stream",
     "text": [
      "The geograpical coordinate of Pangrati are Latitude: 37.9698825, Longitude: 23.7465995.\n"
     ]
    }
   ],
   "source": [
    "#Use geopy library to get the latitude and longitude values of Pangrati\n",
    "\n",
    "address = ['Pangrati, Athens, GR']\n",
    "geolocator = Nominatim(user_agent=\"athens_explorer\")\n",
    "location = geolocator.geocode(address)\n",
    "latitude = location.latitude\n",
    "longitude = location.longitude\n",
    "print('The geograpical coordinate of Pangrati are Latitude: {}, Longitude: {}.'.format(latitude, longitude))"
   ]
  },
  {
   "cell_type": "markdown",
   "metadata": {},
   "source": [
    "<h4>Locations of the Bakeries on the map"
   ]
  },
  {
   "cell_type": "code",
   "execution_count": 65,
   "metadata": {},
   "outputs": [
    {
     "data": {
      "text/html": [
       "<div style=\"width:100%;\"><div style=\"position:relative;width:100%;height:0;padding-bottom:60%;\"><span style=\"color:#565656\">Make this Notebook Trusted to load map: File -> Trust Notebook</span><iframe src=\"about:blank\" style=\"position:absolute;width:100%;height:100%;left:0;top:0;border:none !important;\" data-html=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 onload=\"this.contentDocument.open();this.contentDocument.write(atob(this.getAttribute('data-html')));this.contentDocument.close();\" allowfullscreen webkitallowfullscreen mozallowfullscreen></iframe></div></div>"
      ],
      "text/plain": [
       "<folium.folium.Map at 0x7faa5a2918e0>"
      ]
     },
     "execution_count": 65,
     "metadata": {},
     "output_type": "execute_result"
    }
   ],
   "source": [
    "map_pangrati = folium.Map(location=[latitude, longitude], zoom_start=16)\n",
    "\n",
    "# add markers to map\n",
    "for lat, lng, name in zip(pangrati_bakeries['Latitude'], pangrati_bakeries['Longitude'], pangrati_bakeries['Bakery']):\n",
    "    label = '{}'.format(name)\n",
    "    label = folium.Popup(label, parse_html=True)\n",
    "    folium.CircleMarker(\n",
    "        [lat, lng],\n",
    "        radius=5,\n",
    "        popup=label,\n",
    "        color='red',\n",
    "        fill=True,\n",
    "        fill_color='#3186cc',\n",
    "        fill_opacity=0.7,\n",
    "        parse_html=False).add_to(map_pangrati)  \n",
    "    \n",
    "map_pangrati"
   ]
  },
  {
   "cell_type": "markdown",
   "metadata": {},
   "source": [
    "<h1> Explore the 6th area: \"Nea Smyrni\""
   ]
  },
  {
   "cell_type": "code",
   "execution_count": 66,
   "metadata": {},
   "outputs": [
    {
     "data": {
      "text/html": [
       "<div>\n",
       "<style scoped>\n",
       "    .dataframe tbody tr th:only-of-type {\n",
       "        vertical-align: middle;\n",
       "    }\n",
       "\n",
       "    .dataframe tbody tr th {\n",
       "        vertical-align: top;\n",
       "    }\n",
       "\n",
       "    .dataframe thead th {\n",
       "        text-align: right;\n",
       "    }\n",
       "</style>\n",
       "<table border=\"1\" class=\"dataframe\">\n",
       "  <thead>\n",
       "    <tr style=\"text-align: right;\">\n",
       "      <th></th>\n",
       "      <th>Neighborhood</th>\n",
       "      <th>Location</th>\n",
       "      <th>point</th>\n",
       "      <th>Latitude</th>\n",
       "      <th>Longitude</th>\n",
       "      <th>altitude</th>\n",
       "    </tr>\n",
       "  </thead>\n",
       "  <tbody>\n",
       "    <tr>\n",
       "      <th>0</th>\n",
       "      <td>Koukaki, Athens</td>\n",
       "      <td>(Κουκάκι, Δουργούτι, Αθήνα, Δήμος Αθηναίων, Πε...</td>\n",
       "      <td>(37.9634559, 23.7220234, 0.0)</td>\n",
       "      <td>37.963456</td>\n",
       "      <td>23.722023</td>\n",
       "      <td>0.0</td>\n",
       "    </tr>\n",
       "    <tr>\n",
       "      <th>1</th>\n",
       "      <td>Neos Kosmos, Athens</td>\n",
       "      <td>(Νέος Κόσμος, Κασομούλη, Κυνοσάργους, Συνοικία...</td>\n",
       "      <td>(37.9576705, 23.7283724, 0.0)</td>\n",
       "      <td>37.957670</td>\n",
       "      <td>23.728372</td>\n",
       "      <td>0.0</td>\n",
       "    </tr>\n",
       "    <tr>\n",
       "      <th>2</th>\n",
       "      <td>Agios Artemios, Athens</td>\n",
       "      <td>(Άγιος Αρτέμιος, Προφήτης Ηλίας, Αθήνα, Δήμος ...</td>\n",
       "      <td>(37.9603927, 23.742542, 0.0)</td>\n",
       "      <td>37.960393</td>\n",
       "      <td>23.742542</td>\n",
       "      <td>0.0</td>\n",
       "    </tr>\n",
       "    <tr>\n",
       "      <th>3</th>\n",
       "      <td>Makrygianni, Athens</td>\n",
       "      <td>(Μακρυγιάννη, Αναφιώτικα, Κολωνάκι, Αθήνα, Δήμ...</td>\n",
       "      <td>(37.9687219, 23.7295949, 0.0)</td>\n",
       "      <td>37.968722</td>\n",
       "      <td>23.729595</td>\n",
       "      <td>0.0</td>\n",
       "    </tr>\n",
       "    <tr>\n",
       "      <th>4</th>\n",
       "      <td>Pangrati, Athens</td>\n",
       "      <td>(Συνοικία Παγκρατίου, Αθήνα, Δήμος Αθηναίων, Π...</td>\n",
       "      <td>(37.9698825, 23.7465995, 0.0)</td>\n",
       "      <td>37.969882</td>\n",
       "      <td>23.746599</td>\n",
       "      <td>0.0</td>\n",
       "    </tr>\n",
       "    <tr>\n",
       "      <th>5</th>\n",
       "      <td>Nea Smyrni, Athens</td>\n",
       "      <td>(Νέα Σμύρνη, Δήμος Νέας Σμύρνης, Περιφερειακή ...</td>\n",
       "      <td>(37.9467441, 23.7138357, 0.0)</td>\n",
       "      <td>37.946744</td>\n",
       "      <td>23.713836</td>\n",
       "      <td>0.0</td>\n",
       "    </tr>\n",
       "  </tbody>\n",
       "</table>\n",
       "</div>"
      ],
      "text/plain": [
       "             Neighborhood                                           Location  \\\n",
       "0         Koukaki, Athens  (Κουκάκι, Δουργούτι, Αθήνα, Δήμος Αθηναίων, Πε...   \n",
       "1     Neos Kosmos, Athens  (Νέος Κόσμος, Κασομούλη, Κυνοσάργους, Συνοικία...   \n",
       "2  Agios Artemios, Athens  (Άγιος Αρτέμιος, Προφήτης Ηλίας, Αθήνα, Δήμος ...   \n",
       "3     Makrygianni, Athens  (Μακρυγιάννη, Αναφιώτικα, Κολωνάκι, Αθήνα, Δήμ...   \n",
       "4        Pangrati, Athens  (Συνοικία Παγκρατίου, Αθήνα, Δήμος Αθηναίων, Π...   \n",
       "5      Nea Smyrni, Athens  (Νέα Σμύρνη, Δήμος Νέας Σμύρνης, Περιφερειακή ...   \n",
       "\n",
       "                           point   Latitude  Longitude  altitude  \n",
       "0  (37.9634559, 23.7220234, 0.0)  37.963456  23.722023       0.0  \n",
       "1  (37.9576705, 23.7283724, 0.0)  37.957670  23.728372       0.0  \n",
       "2   (37.9603927, 23.742542, 0.0)  37.960393  23.742542       0.0  \n",
       "3  (37.9687219, 23.7295949, 0.0)  37.968722  23.729595       0.0  \n",
       "4  (37.9698825, 23.7465995, 0.0)  37.969882  23.746599       0.0  \n",
       "5  (37.9467441, 23.7138357, 0.0)  37.946744  23.713836       0.0  "
      ]
     },
     "execution_count": 66,
     "metadata": {},
     "output_type": "execute_result"
    }
   ],
   "source": [
    "df_neigh"
   ]
  },
  {
   "cell_type": "code",
   "execution_count": 67,
   "metadata": {},
   "outputs": [
    {
     "name": "stdout",
     "output_type": "stream",
     "text": [
      "Latitude and longitude values of Nea Smyrni, Athens are 37.9467441, 23.7138357.\n"
     ]
    }
   ],
   "source": [
    "#Let's explore the sixth neighborhood \"Nea Smyrni\" in our dataframe.\n",
    "\n",
    "nea_smyrni_latitude = df_neigh.loc[5, 'Latitude'] # neighborhood latitude value\n",
    "nea_smyrni_longitude = df_neigh.loc[5, 'Longitude'] # neighborhood longitude value\n",
    "\n",
    "nea_smyrni = df_neigh.loc[5, 'Neighborhood'] # neighborhood name\n",
    "\n",
    "print('Latitude and longitude values of {} are {}, {}.'.format(nea_smyrni, \n",
    "                                                               nea_smyrni_latitude, \n",
    "                                                               nea_smyrni_longitude))\n",
    "\n"
   ]
  },
  {
   "cell_type": "code",
   "execution_count": 68,
   "metadata": {},
   "outputs": [
    {
     "data": {
      "text/plain": [
       "'https://api.foursquare.com/v2/venues/search?&client_id=05H45WXNVDOCSKSJ0KIBLKAK4EZJ25BRNCJZLS4TT2CI4Z5N&client_secret=XHGLXP23BMRY3ONDZJB2OUIHHZDYM4IUBDDNCWJ0ZZ2RFC4E&v=20200814&ll=37.9467441,23.7138357&radius=250&limit=50&categoryId=4bf58dd8d48988d16a941735'"
      ]
     },
     "execution_count": 68,
     "metadata": {},
     "output_type": "execute_result"
    }
   ],
   "source": [
    "#get the bakeries that are in \"Nea Smyrni\" within a radius of 250 meters.\n",
    "#create the GET request URL\n",
    "LIMIT = 50\n",
    "radius = 250\n",
    "\n",
    "url_nea_smyrni = 'https://api.foursquare.com/v2/venues/search?&client_id=05H45WXNVDOCSKSJ0KIBLKAK4EZJ25BRNCJZLS4TT2CI4Z5N&client_secret=XHGLXP23BMRY3ONDZJB2OUIHHZDYM4IUBDDNCWJ0ZZ2RFC4E&v=20200814&ll=37.9467441,23.7138357&radius=250&limit=50&categoryId=4bf58dd8d48988d16a941735'.format(\n",
    "    CLIENT_ID, \n",
    "    CLIENT_SECRET, \n",
    "    VERSION, \n",
    "    nea_smyrni_latitude, \n",
    "    nea_smyrni_longitude, \n",
    "    radius, \n",
    "    LIMIT)\n",
    "url_nea_smyrni # display URL\n",
    "\n",
    "\n"
   ]
  },
  {
   "cell_type": "code",
   "execution_count": 69,
   "metadata": {},
   "outputs": [],
   "source": [
    "#Send the GET request and get the resutls\n",
    "\n",
    "results_nea_smyrni = requests.get(url_nea_smyrni).json()\n"
   ]
  },
  {
   "cell_type": "code",
   "execution_count": 70,
   "metadata": {},
   "outputs": [],
   "source": [
    "import json # library to handle JSON files\n",
    "from pandas.io.json import json_normalize # tranform JSON file into a pandas dataframe\n",
    "\n",
    "#clean the json and structure it into a *pandas* dataframe.\n",
    "\n",
    "venues_nea_smyrni = results_nea_smyrni ['response']['venues']\n"
   ]
  },
  {
   "cell_type": "code",
   "execution_count": 71,
   "metadata": {},
   "outputs": [],
   "source": [
    "nearby_venues_nea_smyrni = pd.json_normalize(venues_nea_smyrni) # flatten JSON\n"
   ]
  },
  {
   "cell_type": "code",
   "execution_count": 72,
   "metadata": {},
   "outputs": [
    {
     "data": {
      "text/html": [
       "<div>\n",
       "<style scoped>\n",
       "    .dataframe tbody tr th:only-of-type {\n",
       "        vertical-align: middle;\n",
       "    }\n",
       "\n",
       "    .dataframe tbody tr th {\n",
       "        vertical-align: top;\n",
       "    }\n",
       "\n",
       "    .dataframe thead th {\n",
       "        text-align: right;\n",
       "    }\n",
       "</style>\n",
       "<table border=\"1\" class=\"dataframe\">\n",
       "  <thead>\n",
       "    <tr style=\"text-align: right;\">\n",
       "      <th></th>\n",
       "      <th>name</th>\n",
       "      <th>location.lat</th>\n",
       "      <th>location.lng</th>\n",
       "    </tr>\n",
       "  </thead>\n",
       "  <tbody>\n",
       "    <tr>\n",
       "      <th>0</th>\n",
       "      <td>Βενέτη Food Hall</td>\n",
       "      <td>37.946686</td>\n",
       "      <td>23.713137</td>\n",
       "    </tr>\n",
       "    <tr>\n",
       "      <th>1</th>\n",
       "      <td>Αττικά Αρτοποιεία</td>\n",
       "      <td>37.945584</td>\n",
       "      <td>23.714656</td>\n",
       "    </tr>\n",
       "    <tr>\n",
       "      <th>2</th>\n",
       "      <td>Κουλουραδες</td>\n",
       "      <td>37.947117</td>\n",
       "      <td>23.712163</td>\n",
       "    </tr>\n",
       "    <tr>\n",
       "      <th>3</th>\n",
       "      <td>La Bella Fornarina</td>\n",
       "      <td>37.946217</td>\n",
       "      <td>23.714927</td>\n",
       "    </tr>\n",
       "    <tr>\n",
       "      <th>4</th>\n",
       "      <td>Le Petit Gourmet</td>\n",
       "      <td>37.947333</td>\n",
       "      <td>23.712063</td>\n",
       "    </tr>\n",
       "  </tbody>\n",
       "</table>\n",
       "</div>"
      ],
      "text/plain": [
       "                 name  location.lat  location.lng\n",
       "0    Βενέτη Food Hall     37.946686     23.713137\n",
       "1   Αττικά Αρτοποιεία     37.945584     23.714656\n",
       "2         Κουλουραδες     37.947117     23.712163\n",
       "3  La Bella Fornarina     37.946217     23.714927\n",
       "4    Le Petit Gourmet     37.947333     23.712063"
      ]
     },
     "execution_count": 72,
     "metadata": {},
     "output_type": "execute_result"
    }
   ],
   "source": [
    "# filter columns\n",
    "filtered_columns = ['name','location.lat','location.lng']\n",
    "nearby_venues_nea_smyrni =nearby_venues_nea_smyrni.loc[:, filtered_columns]\n",
    "nearby_venues_nea_smyrni.head()"
   ]
  },
  {
   "cell_type": "code",
   "execution_count": 132,
   "metadata": {},
   "outputs": [
    {
     "name": "stdout",
     "output_type": "stream",
     "text": [
      "(10, 3)\n"
     ]
    },
    {
     "data": {
      "text/html": [
       "<div>\n",
       "<style scoped>\n",
       "    .dataframe tbody tr th:only-of-type {\n",
       "        vertical-align: middle;\n",
       "    }\n",
       "\n",
       "    .dataframe tbody tr th {\n",
       "        vertical-align: top;\n",
       "    }\n",
       "\n",
       "    .dataframe thead th {\n",
       "        text-align: right;\n",
       "    }\n",
       "</style>\n",
       "<table border=\"1\" class=\"dataframe\">\n",
       "  <thead>\n",
       "    <tr style=\"text-align: right;\">\n",
       "      <th></th>\n",
       "      <th>Bakery</th>\n",
       "      <th>Latitude</th>\n",
       "      <th>Longitude</th>\n",
       "    </tr>\n",
       "  </thead>\n",
       "  <tbody>\n",
       "    <tr>\n",
       "      <th>0</th>\n",
       "      <td>Βενέτη Food Hall</td>\n",
       "      <td>37.946686</td>\n",
       "      <td>23.713137</td>\n",
       "    </tr>\n",
       "    <tr>\n",
       "      <th>1</th>\n",
       "      <td>Αττικά Αρτοποιεία</td>\n",
       "      <td>37.945584</td>\n",
       "      <td>23.714656</td>\n",
       "    </tr>\n",
       "    <tr>\n",
       "      <th>2</th>\n",
       "      <td>Κουλουραδες</td>\n",
       "      <td>37.947117</td>\n",
       "      <td>23.712163</td>\n",
       "    </tr>\n",
       "    <tr>\n",
       "      <th>3</th>\n",
       "      <td>La Bella Fornarina</td>\n",
       "      <td>37.946217</td>\n",
       "      <td>23.714927</td>\n",
       "    </tr>\n",
       "    <tr>\n",
       "      <th>4</th>\n",
       "      <td>Le Petit Gourmet</td>\n",
       "      <td>37.947333</td>\n",
       "      <td>23.712063</td>\n",
       "    </tr>\n",
       "    <tr>\n",
       "      <th>5</th>\n",
       "      <td>Bulangerie- Bakery</td>\n",
       "      <td>37.946530</td>\n",
       "      <td>23.714777</td>\n",
       "    </tr>\n",
       "    <tr>\n",
       "      <th>6</th>\n",
       "      <td>Φούρνος Βενέτη</td>\n",
       "      <td>37.947010</td>\n",
       "      <td>23.711212</td>\n",
       "    </tr>\n",
       "    <tr>\n",
       "      <th>7</th>\n",
       "      <td>Φούρνος Θεοδώρου</td>\n",
       "      <td>37.947433</td>\n",
       "      <td>23.716085</td>\n",
       "    </tr>\n",
       "    <tr>\n",
       "      <th>8</th>\n",
       "      <td>Σμυρναικον</td>\n",
       "      <td>37.944845</td>\n",
       "      <td>23.715434</td>\n",
       "    </tr>\n",
       "    <tr>\n",
       "      <th>9</th>\n",
       "      <td>Σουσάμι Άνοιξε</td>\n",
       "      <td>37.948872</td>\n",
       "      <td>23.713530</td>\n",
       "    </tr>\n",
       "  </tbody>\n",
       "</table>\n",
       "</div>"
      ],
      "text/plain": [
       "               Bakery   Latitude  Longitude\n",
       "0    Βενέτη Food Hall  37.946686  23.713137\n",
       "1   Αττικά Αρτοποιεία  37.945584  23.714656\n",
       "2         Κουλουραδες  37.947117  23.712163\n",
       "3  La Bella Fornarina  37.946217  23.714927\n",
       "4    Le Petit Gourmet  37.947333  23.712063\n",
       "5  Bulangerie- Bakery  37.946530  23.714777\n",
       "6      Φούρνος Βενέτη  37.947010  23.711212\n",
       "7    Φούρνος Θεοδώρου  37.947433  23.716085\n",
       "8          Σμυρναικον  37.944845  23.715434\n",
       "9      Σουσάμι Άνοιξε  37.948872  23.713530"
      ]
     },
     "execution_count": 132,
     "metadata": {},
     "output_type": "execute_result"
    }
   ],
   "source": [
    "#Rename name, location.lat, location.lng columns\n",
    "nea_smyrni_bakeries = nearby_venues_nea_smyrni.rename(columns={'name': 'Bakery', 'location.lat': 'Latitude', 'location.lng': 'Longitude'})\n",
    "\n",
    "print(nea_smyrni_bakeries.shape)\n",
    "nea_smyrni_bakeries"
   ]
  },
  {
   "cell_type": "code",
   "execution_count": 74,
   "metadata": {},
   "outputs": [
    {
     "name": "stdout",
     "output_type": "stream",
     "text": [
      "10 bakeries were returned by Foursquare.\n"
     ]
    }
   ],
   "source": [
    "#And how many Bakeries were returned by Foursquare?\n",
    "\n",
    "print('{} bakeries were returned by Foursquare.'.format(nea_smyrni_bakeries.shape[0]))"
   ]
  },
  {
   "cell_type": "code",
   "execution_count": 75,
   "metadata": {},
   "outputs": [
    {
     "name": "stdout",
     "output_type": "stream",
     "text": [
      "The geograpical coordinate of Nea Smyrni are Latitude: 37.9467441, Longitude: 23.7138357.\n"
     ]
    }
   ],
   "source": [
    "#Use geopy library to get the latitude and longitude values of Agios Artemios\n",
    "\n",
    "address = ['Nea Smyrni, Athens, GR']\n",
    "geolocator = Nominatim(user_agent=\"athens_explorer\")\n",
    "location = geolocator.geocode(address)\n",
    "latitude = location.latitude\n",
    "longitude = location.longitude\n",
    "print('The geograpical coordinate of Nea Smyrni are Latitude: {}, Longitude: {}.'.format(latitude, longitude))"
   ]
  },
  {
   "cell_type": "markdown",
   "metadata": {},
   "source": [
    "<h4>Locations of the Bakeries on the map"
   ]
  },
  {
   "cell_type": "code",
   "execution_count": 76,
   "metadata": {},
   "outputs": [
    {
     "data": {
      "text/html": [
       "<div style=\"width:100%;\"><div style=\"position:relative;width:100%;height:0;padding-bottom:60%;\"><span style=\"color:#565656\">Make this Notebook Trusted to load map: File -> Trust Notebook</span><iframe src=\"about:blank\" style=\"position:absolute;width:100%;height:100%;left:0;top:0;border:none !important;\" data-html=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 onload=\"this.contentDocument.open();this.contentDocument.write(atob(this.getAttribute('data-html')));this.contentDocument.close();\" allowfullscreen webkitallowfullscreen mozallowfullscreen></iframe></div></div>"
      ],
      "text/plain": [
       "<folium.folium.Map at 0x7faa59140f10>"
      ]
     },
     "execution_count": 76,
     "metadata": {},
     "output_type": "execute_result"
    }
   ],
   "source": [
    "map_nea_smyrni = folium.Map(location=[latitude, longitude], zoom_start=16)\n",
    "\n",
    "# add markers to map\n",
    "for lat, lng, name in zip(nea_smyrni_bakeries['Latitude'], nea_smyrni_bakeries['Longitude'], nea_smyrni_bakeries['Bakery']):\n",
    "    label = '{}'.format(name)\n",
    "    label = folium.Popup(label, parse_html=True)\n",
    "    folium.CircleMarker(\n",
    "        [lat, lng],\n",
    "        radius=5,\n",
    "        popup=label,\n",
    "        color='red',\n",
    "        fill=True,\n",
    "        fill_color='#3186cc',\n",
    "        fill_opacity=0.7,\n",
    "        parse_html=False).add_to(map_nea_smyrni)  \n",
    "    \n",
    "map_nea_smyrni"
   ]
  },
  {
   "cell_type": "markdown",
   "metadata": {},
   "source": [
    "<h1>Place all Bakeries on the map"
   ]
  },
  {
   "cell_type": "code",
   "execution_count": 77,
   "metadata": {},
   "outputs": [
    {
     "data": {
      "text/html": [
       "<div>\n",
       "<style scoped>\n",
       "    .dataframe tbody tr th:only-of-type {\n",
       "        vertical-align: middle;\n",
       "    }\n",
       "\n",
       "    .dataframe tbody tr th {\n",
       "        vertical-align: top;\n",
       "    }\n",
       "\n",
       "    .dataframe thead th {\n",
       "        text-align: right;\n",
       "    }\n",
       "</style>\n",
       "<table border=\"1\" class=\"dataframe\">\n",
       "  <thead>\n",
       "    <tr style=\"text-align: right;\">\n",
       "      <th></th>\n",
       "      <th>Neighborhood</th>\n",
       "      <th>Location</th>\n",
       "      <th>point</th>\n",
       "      <th>Latitude</th>\n",
       "      <th>Longitude</th>\n",
       "      <th>altitude</th>\n",
       "    </tr>\n",
       "  </thead>\n",
       "  <tbody>\n",
       "    <tr>\n",
       "      <th>0</th>\n",
       "      <td>Koukaki, Athens</td>\n",
       "      <td>(Κουκάκι, Δουργούτι, Αθήνα, Δήμος Αθηναίων, Πε...</td>\n",
       "      <td>(37.9634559, 23.7220234, 0.0)</td>\n",
       "      <td>37.963456</td>\n",
       "      <td>23.722023</td>\n",
       "      <td>0.0</td>\n",
       "    </tr>\n",
       "    <tr>\n",
       "      <th>1</th>\n",
       "      <td>Neos Kosmos, Athens</td>\n",
       "      <td>(Νέος Κόσμος, Κασομούλη, Κυνοσάργους, Συνοικία...</td>\n",
       "      <td>(37.9576705, 23.7283724, 0.0)</td>\n",
       "      <td>37.957670</td>\n",
       "      <td>23.728372</td>\n",
       "      <td>0.0</td>\n",
       "    </tr>\n",
       "    <tr>\n",
       "      <th>2</th>\n",
       "      <td>Agios Artemios, Athens</td>\n",
       "      <td>(Άγιος Αρτέμιος, Προφήτης Ηλίας, Αθήνα, Δήμος ...</td>\n",
       "      <td>(37.9603927, 23.742542, 0.0)</td>\n",
       "      <td>37.960393</td>\n",
       "      <td>23.742542</td>\n",
       "      <td>0.0</td>\n",
       "    </tr>\n",
       "    <tr>\n",
       "      <th>3</th>\n",
       "      <td>Makrygianni, Athens</td>\n",
       "      <td>(Μακρυγιάννη, Αναφιώτικα, Κολωνάκι, Αθήνα, Δήμ...</td>\n",
       "      <td>(37.9687219, 23.7295949, 0.0)</td>\n",
       "      <td>37.968722</td>\n",
       "      <td>23.729595</td>\n",
       "      <td>0.0</td>\n",
       "    </tr>\n",
       "    <tr>\n",
       "      <th>4</th>\n",
       "      <td>Pangrati, Athens</td>\n",
       "      <td>(Συνοικία Παγκρατίου, Αθήνα, Δήμος Αθηναίων, Π...</td>\n",
       "      <td>(37.9698825, 23.7465995, 0.0)</td>\n",
       "      <td>37.969882</td>\n",
       "      <td>23.746599</td>\n",
       "      <td>0.0</td>\n",
       "    </tr>\n",
       "    <tr>\n",
       "      <th>5</th>\n",
       "      <td>Nea Smyrni, Athens</td>\n",
       "      <td>(Νέα Σμύρνη, Δήμος Νέας Σμύρνης, Περιφερειακή ...</td>\n",
       "      <td>(37.9467441, 23.7138357, 0.0)</td>\n",
       "      <td>37.946744</td>\n",
       "      <td>23.713836</td>\n",
       "      <td>0.0</td>\n",
       "    </tr>\n",
       "  </tbody>\n",
       "</table>\n",
       "</div>"
      ],
      "text/plain": [
       "             Neighborhood                                           Location  \\\n",
       "0         Koukaki, Athens  (Κουκάκι, Δουργούτι, Αθήνα, Δήμος Αθηναίων, Πε...   \n",
       "1     Neos Kosmos, Athens  (Νέος Κόσμος, Κασομούλη, Κυνοσάργους, Συνοικία...   \n",
       "2  Agios Artemios, Athens  (Άγιος Αρτέμιος, Προφήτης Ηλίας, Αθήνα, Δήμος ...   \n",
       "3     Makrygianni, Athens  (Μακρυγιάννη, Αναφιώτικα, Κολωνάκι, Αθήνα, Δήμ...   \n",
       "4        Pangrati, Athens  (Συνοικία Παγκρατίου, Αθήνα, Δήμος Αθηναίων, Π...   \n",
       "5      Nea Smyrni, Athens  (Νέα Σμύρνη, Δήμος Νέας Σμύρνης, Περιφερειακή ...   \n",
       "\n",
       "                           point   Latitude  Longitude  altitude  \n",
       "0  (37.9634559, 23.7220234, 0.0)  37.963456  23.722023       0.0  \n",
       "1  (37.9576705, 23.7283724, 0.0)  37.957670  23.728372       0.0  \n",
       "2   (37.9603927, 23.742542, 0.0)  37.960393  23.742542       0.0  \n",
       "3  (37.9687219, 23.7295949, 0.0)  37.968722  23.729595       0.0  \n",
       "4  (37.9698825, 23.7465995, 0.0)  37.969882  23.746599       0.0  \n",
       "5  (37.9467441, 23.7138357, 0.0)  37.946744  23.713836       0.0  "
      ]
     },
     "execution_count": 77,
     "metadata": {},
     "output_type": "execute_result"
    }
   ],
   "source": [
    "df_neigh"
   ]
  },
  {
   "cell_type": "code",
   "execution_count": 78,
   "metadata": {},
   "outputs": [
    {
     "name": "stdout",
     "output_type": "stream",
     "text": [
      "(35, 3)\n"
     ]
    },
    {
     "data": {
      "text/html": [
       "<div>\n",
       "<style scoped>\n",
       "    .dataframe tbody tr th:only-of-type {\n",
       "        vertical-align: middle;\n",
       "    }\n",
       "\n",
       "    .dataframe tbody tr th {\n",
       "        vertical-align: top;\n",
       "    }\n",
       "\n",
       "    .dataframe thead th {\n",
       "        text-align: right;\n",
       "    }\n",
       "</style>\n",
       "<table border=\"1\" class=\"dataframe\">\n",
       "  <thead>\n",
       "    <tr style=\"text-align: right;\">\n",
       "      <th></th>\n",
       "      <th>Bakery</th>\n",
       "      <th>Latitude</th>\n",
       "      <th>Longitude</th>\n",
       "    </tr>\n",
       "  </thead>\n",
       "  <tbody>\n",
       "    <tr>\n",
       "      <th>0</th>\n",
       "      <td>Ρίζος</td>\n",
       "      <td>37.963495</td>\n",
       "      <td>23.720000</td>\n",
       "    </tr>\n",
       "    <tr>\n",
       "      <th>1</th>\n",
       "      <td>Μαμά ψωμί</td>\n",
       "      <td>37.964653</td>\n",
       "      <td>23.722377</td>\n",
       "    </tr>\n",
       "    <tr>\n",
       "      <th>2</th>\n",
       "      <td>Το Παραδοσιακό</td>\n",
       "      <td>37.964173</td>\n",
       "      <td>23.721083</td>\n",
       "    </tr>\n",
       "    <tr>\n",
       "      <th>3</th>\n",
       "      <td>Κουκακιώτικη Γωνιά</td>\n",
       "      <td>37.962538</td>\n",
       "      <td>23.722006</td>\n",
       "    </tr>\n",
       "    <tr>\n",
       "      <th>4</th>\n",
       "      <td>DouxCook@Ki</td>\n",
       "      <td>37.964797</td>\n",
       "      <td>23.723926</td>\n",
       "    </tr>\n",
       "  </tbody>\n",
       "</table>\n",
       "</div>"
      ],
      "text/plain": [
       "               Bakery   Latitude  Longitude\n",
       "0               Ρίζος  37.963495  23.720000\n",
       "1           Μαμά ψωμί  37.964653  23.722377\n",
       "2      Το Παραδοσιακό  37.964173  23.721083\n",
       "3  Κουκακιώτικη Γωνιά  37.962538  23.722006\n",
       "4         DouxCook@Ki  37.964797  23.723926"
      ]
     },
     "execution_count": 78,
     "metadata": {},
     "output_type": "execute_result"
    }
   ],
   "source": [
    "bakeries_stack = pd.concat([koukaki_bakeries, neos_kosmos_bakeries, agios_artemios_bakeries, makrygianni_bakeries, pangrati_bakeries, nea_smyrni_bakeries], axis=0)\n",
    "\n",
    "print(bakeries_stack.shape)\n",
    "bakeries_stack.head()"
   ]
  },
  {
   "cell_type": "code",
   "execution_count": 79,
   "metadata": {},
   "outputs": [
    {
     "name": "stdout",
     "output_type": "stream",
     "text": [
      "35 bakeries were returned by Foursquare.\n"
     ]
    }
   ],
   "source": [
    "#All the Bakeries returned by Foursquare\n",
    "\n",
    "print('{} bakeries were returned by Foursquare.'.format(bakeries_stack.shape[0]))"
   ]
  },
  {
   "cell_type": "markdown",
   "metadata": {},
   "source": [
    "<h4> Create a Bar Chart of the bakeries in each area"
   ]
  },
  {
   "cell_type": "code",
   "execution_count": 122,
   "metadata": {},
   "outputs": [
    {
     "data": {
      "image/png": "[encoded data removed]",
      "text/plain": [
       "<Figure size 432x288 with 1 Axes>"
      ]
     },
     "metadata": {
      "needs_background": "light"
     },
     "output_type": "display_data"
    }
   ],
   "source": [
    "#import matplotlib.pyplot as plt; plt.rcdefaults()\n",
    "#import numpy as np\n",
    "import matplotlib.pyplot as plt\n",
    "\n",
    "areas = ('Koukaki', 'Neos Kosmos', 'Agios Artemios', 'Makrygianni', 'Pangrati', 'Nea Smyrni')\n",
    "y_pos = np.arange(len(areas))\n",
    "bakeries_total = [9,6,4,1,5,10]\n",
    "\n",
    "plt.bar(y_pos, bakeries_total, align='center', alpha=0.5)\n",
    "plt.xticks(y_pos, areas, rotation='vertical')\n",
    "plt.ylabel('Number of Bakeries')\n",
    "plt.title('Bakeries found for each neighborhood')\n",
    "\n",
    "plt.show()\n",
    "\n"
   ]
  },
  {
   "cell_type": "code",
   "execution_count": 80,
   "metadata": {},
   "outputs": [
    {
     "name": "stdout",
     "output_type": "stream",
     "text": [
      "The geograpical coordinate of Athens are Latitude: 37.9576705, Longitude: 23.7283724.\n"
     ]
    }
   ],
   "source": [
    "#Use geopy library to center the map on Neos Kosmos for better visualization\n",
    "\n",
    "address = ['Neos Kosmos, Athens, GR']\n",
    "geolocator = Nominatim(user_agent=\"athens_explorer\")\n",
    "location = geolocator.geocode(address)\n",
    "latitude = location.latitude\n",
    "longitude = location.longitude\n",
    "print('The geograpical coordinate of Athens are Latitude: {}, Longitude: {}.'.format(latitude, longitude))"
   ]
  },
  {
   "cell_type": "markdown",
   "metadata": {},
   "source": [
    "<h4>Locations of all the Bakeries on the map of Athens"
   ]
  },
  {
   "cell_type": "code",
   "execution_count": 81,
   "metadata": {},
   "outputs": [
    {
     "data": {
      "text/html": [
       "<div style=\"width:100%;\"><div style=\"position:relative;width:100%;height:0;padding-bottom:60%;\"><span style=\"color:#565656\">Make this Notebook Trusted to load map: File -> Trust Notebook</span><iframe src=\"about:blank\" style=\"position:absolute;width:100%;height:100%;left:0;top:0;border:none !important;\" data-html=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 onload=\"this.contentDocument.open();this.contentDocument.write(atob(this.getAttribute('data-html')));this.contentDocument.close();\" allowfullscreen webkitallowfullscreen mozallowfullscreen></iframe></div></div>"
      ],
      "text/plain": [
       "<folium.folium.Map at 0x7faa5a291610>"
      ]
     },
     "execution_count": 81,
     "metadata": {},
     "output_type": "execute_result"
    }
   ],
   "source": [
    "map_bakeries = folium.Map(location=[latitude, longitude], zoom_start=14)\n",
    "\n",
    "# add markers to map\n",
    "for lat, lng, name in zip(bakeries_stack['Latitude'], bakeries_stack['Longitude'], bakeries_stack['Bakery']):\n",
    "    label = '{}'.format(name)\n",
    "    label = folium.Popup(label, parse_html=True)\n",
    "    folium.CircleMarker(\n",
    "        [lat, lng],\n",
    "        radius=5,\n",
    "        popup=label,\n",
    "        color='red',\n",
    "        fill=True,\n",
    "        fill_color='#3186cc',\n",
    "        fill_opacity=0.7,\n",
    "        parse_html=False).add_to(map_bakeries)  \n",
    "    # add markers to map\n",
    "for lat, lng, name in zip(makrygianni_bakeries['Latitude'], makrygianni_bakeries['Longitude'], makrygianni_bakeries['Bakery']):\n",
    "    label = '{}'.format(name)\n",
    "    label = folium.Popup(label, parse_html=True)\n",
    "    folium.CircleMarker(\n",
    "        [lat, lng],\n",
    "        radius=5,\n",
    "        popup=label,\n",
    "        color='green',\n",
    "        fill=True,\n",
    "        fill_color='#3186cc',\n",
    "        fill_opacity=0.7,\n",
    "        parse_html=False).add_to(map_bakeries)  \n",
    "    \n",
    "map_bakeries"
   ]
  },
  {
   "cell_type": "markdown",
   "metadata": {},
   "source": [
    "<h1> Further exploration of the neighborhood \"Makrygianni\""
   ]
  },
  {
   "cell_type": "code",
   "execution_count": 82,
   "metadata": {},
   "outputs": [
    {
     "name": "stdout",
     "output_type": "stream",
     "text": [
      "Latitude and longitude values of Makrygianni, Athens are 37.9687219, 23.7295949.\n"
     ]
    }
   ],
   "source": [
    "#Let's explore the fourth neighborhood \"Makrygianni\" in our dataframe.\n",
    "\n",
    "makrygianni_latitude = df_neigh.loc[3, 'Latitude'] # neighborhood latitude value\n",
    "makrygianni_longitude = df_neigh.loc[3, 'Longitude'] # neighborhood longitude value\n",
    "\n",
    "makrygianni = df_neigh.loc[3, 'Neighborhood'] # neighborhood name\n",
    "\n",
    "print('Latitude and longitude values of {} are {}, {}.'.format(makrygianni, \n",
    "                                                               makrygianni_latitude, \n",
    "                                                               makrygianni_longitude))\n",
    "\n"
   ]
  },
  {
   "cell_type": "markdown",
   "metadata": {},
   "source": [
    "<h3>Search for Museums in the area"
   ]
  },
  {
   "cell_type": "code",
   "execution_count": 83,
   "metadata": {},
   "outputs": [
    {
     "data": {
      "text/plain": [
       "'https://api.foursquare.com/v2/venues/search?&client_id=05H45WXNVDOCSKSJ0KIBLKAK4EZJ25BRNCJZLS4TT2CI4Z5N&client_secret=XHGLXP23BMRY3ONDZJB2OUIHHZDYM4IUBDDNCWJ0ZZ2RFC4E&v=20200814&ll=37.9687219,23.7295949&radius=250&limit=50&categoryId=4bf58dd8d48988d181941735'"
      ]
     },
     "execution_count": 83,
     "metadata": {},
     "output_type": "execute_result"
    }
   ],
   "source": [
    "#get the Museums that are in \"Makrygianni\" within a radius of 250 meters.\n",
    "#create the GET request URL\n",
    "#Museum Category Id = 4bf58dd8d48988d181941735\n",
    "LIMIT = 50\n",
    "radius = 250\n",
    "\n",
    "url_makrygianni_museums = 'https://api.foursquare.com/v2/venues/search?&client_id=05H45WXNVDOCSKSJ0KIBLKAK4EZJ25BRNCJZLS4TT2CI4Z5N&client_secret=XHGLXP23BMRY3ONDZJB2OUIHHZDYM4IUBDDNCWJ0ZZ2RFC4E&v=20200814&ll=37.9687219,23.7295949&radius=250&limit=50&categoryId=4bf58dd8d48988d181941735'.format(\n",
    "    CLIENT_ID, \n",
    "    CLIENT_SECRET, \n",
    "    VERSION, \n",
    "    makrygianni_latitude, \n",
    "    makrygianni_longitude, \n",
    "    radius, \n",
    "    LIMIT)\n",
    "url_makrygianni_museums # display URL\n",
    "\n",
    "\n"
   ]
  },
  {
   "cell_type": "code",
   "execution_count": 84,
   "metadata": {},
   "outputs": [],
   "source": [
    "#Send the GET request and examine the resutls\n",
    "\n",
    "results_makrygianni_museums = requests.get(url_makrygianni_museums).json()\n"
   ]
  },
  {
   "cell_type": "code",
   "execution_count": 85,
   "metadata": {},
   "outputs": [],
   "source": [
    "import json # library to handle JSON files\n",
    "from pandas.io.json import json_normalize # tranform JSON file into a pandas dataframe\n",
    "\n",
    "#clean the json and structure it into a *pandas* dataframe.\n",
    "\n",
    "venues_makrygianni_museums = results_makrygianni_museums ['response']['venues']\n"
   ]
  },
  {
   "cell_type": "code",
   "execution_count": 86,
   "metadata": {},
   "outputs": [],
   "source": [
    "nearby_venues_makrygianni_museums = pd.json_normalize(venues_makrygianni_museums) # flatten JSON\n"
   ]
  },
  {
   "cell_type": "code",
   "execution_count": 87,
   "metadata": {},
   "outputs": [
    {
     "data": {
      "text/html": [
       "<div>\n",
       "<style scoped>\n",
       "    .dataframe tbody tr th:only-of-type {\n",
       "        vertical-align: middle;\n",
       "    }\n",
       "\n",
       "    .dataframe tbody tr th {\n",
       "        vertical-align: top;\n",
       "    }\n",
       "\n",
       "    .dataframe thead th {\n",
       "        text-align: right;\n",
       "    }\n",
       "</style>\n",
       "<table border=\"1\" class=\"dataframe\">\n",
       "  <thead>\n",
       "    <tr style=\"text-align: right;\">\n",
       "      <th></th>\n",
       "      <th>name</th>\n",
       "      <th>location.lat</th>\n",
       "      <th>location.lng</th>\n",
       "    </tr>\n",
       "  </thead>\n",
       "  <tbody>\n",
       "    <tr>\n",
       "      <th>0</th>\n",
       "      <td>Acropolis Museum (Μουσείο Ακρόπολης)</td>\n",
       "      <td>37.968821</td>\n",
       "      <td>23.728256</td>\n",
       "    </tr>\n",
       "    <tr>\n",
       "      <th>1</th>\n",
       "      <td>Acropolis Museum Shop</td>\n",
       "      <td>37.968553</td>\n",
       "      <td>23.728198</td>\n",
       "    </tr>\n",
       "    <tr>\n",
       "      <th>2</th>\n",
       "      <td>Athens Pinball Museum</td>\n",
       "      <td>37.969429</td>\n",
       "      <td>23.730609</td>\n",
       "    </tr>\n",
       "    <tr>\n",
       "      <th>3</th>\n",
       "      <td>Μουσείο Ελληνικής Λαϊκής Τέχνης (Παράρτημα Θέσ...</td>\n",
       "      <td>37.971425</td>\n",
       "      <td>23.729773</td>\n",
       "    </tr>\n",
       "    <tr>\n",
       "      <th>4</th>\n",
       "      <td>Ilias Lalaounis Jewelry Museum (Μουσείο Κοσμήμ...</td>\n",
       "      <td>37.969154</td>\n",
       "      <td>23.726667</td>\n",
       "    </tr>\n",
       "  </tbody>\n",
       "</table>\n",
       "</div>"
      ],
      "text/plain": [
       "                                                name  location.lat  \\\n",
       "0               Acropolis Museum (Μουσείο Ακρόπολης)     37.968821   \n",
       "1                              Acropolis Museum Shop     37.968553   \n",
       "2                              Athens Pinball Museum     37.969429   \n",
       "3  Μουσείο Ελληνικής Λαϊκής Τέχνης (Παράρτημα Θέσ...     37.971425   \n",
       "4  Ilias Lalaounis Jewelry Museum (Μουσείο Κοσμήμ...     37.969154   \n",
       "\n",
       "   location.lng  \n",
       "0     23.728256  \n",
       "1     23.728198  \n",
       "2     23.730609  \n",
       "3     23.729773  \n",
       "4     23.726667  "
      ]
     },
     "execution_count": 87,
     "metadata": {},
     "output_type": "execute_result"
    }
   ],
   "source": [
    "# filter columns\n",
    "filtered_columns = ['name','location.lat','location.lng']\n",
    "nearby_venues_makrygianni_museums =nearby_venues_makrygianni_museums.loc[:, filtered_columns]\n",
    "nearby_venues_makrygianni_museums.head()"
   ]
  },
  {
   "cell_type": "code",
   "execution_count": 88,
   "metadata": {},
   "outputs": [
    {
     "name": "stdout",
     "output_type": "stream",
     "text": [
      "(6, 3)\n"
     ]
    },
    {
     "data": {
      "text/html": [
       "<div>\n",
       "<style scoped>\n",
       "    .dataframe tbody tr th:only-of-type {\n",
       "        vertical-align: middle;\n",
       "    }\n",
       "\n",
       "    .dataframe tbody tr th {\n",
       "        vertical-align: top;\n",
       "    }\n",
       "\n",
       "    .dataframe thead th {\n",
       "        text-align: right;\n",
       "    }\n",
       "</style>\n",
       "<table border=\"1\" class=\"dataframe\">\n",
       "  <thead>\n",
       "    <tr style=\"text-align: right;\">\n",
       "      <th></th>\n",
       "      <th>Museum</th>\n",
       "      <th>Latitude</th>\n",
       "      <th>Longitude</th>\n",
       "    </tr>\n",
       "  </thead>\n",
       "  <tbody>\n",
       "    <tr>\n",
       "      <th>0</th>\n",
       "      <td>Acropolis Museum (Μουσείο Ακρόπολης)</td>\n",
       "      <td>37.968821</td>\n",
       "      <td>23.728256</td>\n",
       "    </tr>\n",
       "    <tr>\n",
       "      <th>1</th>\n",
       "      <td>Acropolis Museum Shop</td>\n",
       "      <td>37.968553</td>\n",
       "      <td>23.728198</td>\n",
       "    </tr>\n",
       "    <tr>\n",
       "      <th>2</th>\n",
       "      <td>Athens Pinball Museum</td>\n",
       "      <td>37.969429</td>\n",
       "      <td>23.730609</td>\n",
       "    </tr>\n",
       "    <tr>\n",
       "      <th>3</th>\n",
       "      <td>Μουσείο Ελληνικής Λαϊκής Τέχνης (Παράρτημα Θέσ...</td>\n",
       "      <td>37.971425</td>\n",
       "      <td>23.729773</td>\n",
       "    </tr>\n",
       "    <tr>\n",
       "      <th>4</th>\n",
       "      <td>Ilias Lalaounis Jewelry Museum (Μουσείο Κοσμήμ...</td>\n",
       "      <td>37.969154</td>\n",
       "      <td>23.726667</td>\n",
       "    </tr>\n",
       "    <tr>\n",
       "      <th>5</th>\n",
       "      <td>Το Σπιτι Των Παραμυθιών</td>\n",
       "      <td>37.967045</td>\n",
       "      <td>23.731314</td>\n",
       "    </tr>\n",
       "  </tbody>\n",
       "</table>\n",
       "</div>"
      ],
      "text/plain": [
       "                                              Museum   Latitude  Longitude\n",
       "0               Acropolis Museum (Μουσείο Ακρόπολης)  37.968821  23.728256\n",
       "1                              Acropolis Museum Shop  37.968553  23.728198\n",
       "2                              Athens Pinball Museum  37.969429  23.730609\n",
       "3  Μουσείο Ελληνικής Λαϊκής Τέχνης (Παράρτημα Θέσ...  37.971425  23.729773\n",
       "4  Ilias Lalaounis Jewelry Museum (Μουσείο Κοσμήμ...  37.969154  23.726667\n",
       "5                            Το Σπιτι Των Παραμυθιών  37.967045  23.731314"
      ]
     },
     "execution_count": 88,
     "metadata": {},
     "output_type": "execute_result"
    }
   ],
   "source": [
    "#Rename name, location.lat, location.lng columns\n",
    "makrygianni_museums = nearby_venues_makrygianni_museums.rename(columns={'name': 'Museum', 'location.lat': 'Latitude', 'location.lng': 'Longitude'})\n",
    "\n",
    "print(makrygianni_museums.shape)\n",
    "makrygianni_museums"
   ]
  },
  {
   "cell_type": "code",
   "execution_count": 89,
   "metadata": {},
   "outputs": [
    {
     "name": "stdout",
     "output_type": "stream",
     "text": [
      "6 museums were returned by Foursquare.\n"
     ]
    }
   ],
   "source": [
    "#And how many recommended places were returned by Foursquare?\n",
    "\n",
    "print('{} museums were returned by Foursquare.'.format(makrygianni_museums.shape[0]))"
   ]
  },
  {
   "cell_type": "code",
   "execution_count": 90,
   "metadata": {},
   "outputs": [
    {
     "name": "stdout",
     "output_type": "stream",
     "text": [
      "The geograpical coordinate of Makrygianni are Latitude: 37.9687219, Longitude: 23.7295949.\n"
     ]
    }
   ],
   "source": [
    "#Use geopy library to get the latitude and longitude values of Makrygianni\n",
    "\n",
    "address = ['Makrygianni, Athens, GR']\n",
    "geolocator = Nominatim(user_agent=\"athens_explorer\")\n",
    "location = geolocator.geocode(address)\n",
    "latitude = location.latitude\n",
    "longitude = location.longitude\n",
    "print('The geograpical coordinate of Makrygianni are Latitude: {}, Longitude: {}.'.format(latitude, longitude))"
   ]
  },
  {
   "cell_type": "markdown",
   "metadata": {},
   "source": [
    "<h4>Locations of the Museums on the map"
   ]
  },
  {
   "cell_type": "code",
   "execution_count": 91,
   "metadata": {
    "scrolled": false
   },
   "outputs": [
    {
     "data": {
      "text/html": [
       "<div style=\"width:100%;\"><div style=\"position:relative;width:100%;height:0;padding-bottom:60%;\"><span style=\"color:#565656\">Make this Notebook Trusted to load map: File -> Trust Notebook</span><iframe src=\"about:blank\" style=\"position:absolute;width:100%;height:100%;left:0;top:0;border:none !important;\" data-html=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 onload=\"this.contentDocument.open();this.contentDocument.write(atob(this.getAttribute('data-html')));this.contentDocument.close();\" allowfullscreen webkitallowfullscreen mozallowfullscreen></iframe></div></div>"
      ],
      "text/plain": [
       "<folium.folium.Map at 0x7faa5a3dbd30>"
      ]
     },
     "execution_count": 91,
     "metadata": {},
     "output_type": "execute_result"
    }
   ],
   "source": [
    "map_makrygianni_museums = folium.Map(location=[latitude, longitude], zoom_start=16)\n",
    "\n",
    "# add markers to map\n",
    "for lat, lng, name in zip(makrygianni_museums['Latitude'], makrygianni_museums['Longitude'], makrygianni_museums['Museum']):\n",
    "    label = '{}'.format(name)\n",
    "    label = folium.Popup(label, parse_html=True)\n",
    "    folium.CircleMarker(\n",
    "        [lat, lng],\n",
    "        radius=5,\n",
    "        popup=label,\n",
    "        color='red',\n",
    "        fill=True,\n",
    "        fill_color='#3186cc',\n",
    "        fill_opacity=0.7,\n",
    "        parse_html=False).add_to(map_makrygianni_museums)  \n",
    "    \n",
    "map_makrygianni_museums"
   ]
  },
  {
   "cell_type": "markdown",
   "metadata": {},
   "source": [
    "<h3>Search for Monuments/Landmarks in the area"
   ]
  },
  {
   "cell_type": "code",
   "execution_count": 92,
   "metadata": {},
   "outputs": [
    {
     "data": {
      "text/plain": [
       "'https://api.foursquare.com/v2/venues/search?&client_id=05H45WXNVDOCSKSJ0KIBLKAK4EZJ25BRNCJZLS4TT2CI4Z5N&client_secret=XHGLXP23BMRY3ONDZJB2OUIHHZDYM4IUBDDNCWJ0ZZ2RFC4E&v=20200814&ll=37.9687219,23.7295949&radius=250&limit=50&categoryId=4bf58dd8d48988d12d941735'"
      ]
     },
     "execution_count": 92,
     "metadata": {},
     "output_type": "execute_result"
    }
   ],
   "source": [
    "#get the Monuments / Landmarks that are in \"Makrygianni\" within a radius of 250 meters.\n",
    "#create the GET request URL\n",
    "#Monuments Category Id = 4bf58dd8d48988d12d941735\n",
    "LIMIT = 50\n",
    "radius = 250\n",
    "\n",
    "url_makrygianni_landmarks = 'https://api.foursquare.com/v2/venues/search?&client_id=05H45WXNVDOCSKSJ0KIBLKAK4EZJ25BRNCJZLS4TT2CI4Z5N&client_secret=XHGLXP23BMRY3ONDZJB2OUIHHZDYM4IUBDDNCWJ0ZZ2RFC4E&v=20200814&ll=37.9687219,23.7295949&radius=250&limit=50&categoryId=4bf58dd8d48988d12d941735'.format(\n",
    "    CLIENT_ID, \n",
    "    CLIENT_SECRET, \n",
    "    VERSION, \n",
    "    makrygianni_latitude, \n",
    "    makrygianni_longitude, \n",
    "    radius, \n",
    "    LIMIT)\n",
    "url_makrygianni_landmarks # display URL\n",
    "\n",
    "\n"
   ]
  },
  {
   "cell_type": "code",
   "execution_count": 93,
   "metadata": {},
   "outputs": [],
   "source": [
    "#Send the GET request and examine the resutls\n",
    "\n",
    "results_makrygianni_landmarks = requests.get(url_makrygianni_landmarks).json()\n"
   ]
  },
  {
   "cell_type": "code",
   "execution_count": 94,
   "metadata": {},
   "outputs": [],
   "source": [
    "import json # library to handle JSON files\n",
    "from pandas.io.json import json_normalize # tranform JSON file into a pandas dataframe\n",
    "\n",
    "#clean the json and structure it into a *pandas* dataframe.\n",
    "\n",
    "venues_makrygianni_landmarks = results_makrygianni_landmarks ['response']['venues']\n"
   ]
  },
  {
   "cell_type": "code",
   "execution_count": 95,
   "metadata": {},
   "outputs": [],
   "source": [
    "nearby_venues_makrygianni_landmarks = pd.json_normalize(venues_makrygianni_landmarks) # flatten JSON\n"
   ]
  },
  {
   "cell_type": "code",
   "execution_count": 96,
   "metadata": {},
   "outputs": [
    {
     "data": {
      "text/html": [
       "<div>\n",
       "<style scoped>\n",
       "    .dataframe tbody tr th:only-of-type {\n",
       "        vertical-align: middle;\n",
       "    }\n",
       "\n",
       "    .dataframe tbody tr th {\n",
       "        vertical-align: top;\n",
       "    }\n",
       "\n",
       "    .dataframe thead th {\n",
       "        text-align: right;\n",
       "    }\n",
       "</style>\n",
       "<table border=\"1\" class=\"dataframe\">\n",
       "  <thead>\n",
       "    <tr style=\"text-align: right;\">\n",
       "      <th></th>\n",
       "      <th>name</th>\n",
       "      <th>location.lat</th>\n",
       "      <th>location.lng</th>\n",
       "    </tr>\n",
       "  </thead>\n",
       "  <tbody>\n",
       "    <tr>\n",
       "      <th>0</th>\n",
       "      <td>Hadrian's Arch (Πύλη του Αδριανού)</td>\n",
       "      <td>37.970152</td>\n",
       "      <td>23.731856</td>\n",
       "    </tr>\n",
       "    <tr>\n",
       "      <th>1</th>\n",
       "      <td>Temple of Olympian Zeus (Ναός Ολυμπίου Διός)</td>\n",
       "      <td>37.969297</td>\n",
       "      <td>23.732722</td>\n",
       "    </tr>\n",
       "    <tr>\n",
       "      <th>2</th>\n",
       "      <td>Melina Mercouri Statue (Μνημείο Μελίνας Μερκούρη)</td>\n",
       "      <td>37.969907</td>\n",
       "      <td>23.731526</td>\n",
       "    </tr>\n",
       "    <tr>\n",
       "      <th>3</th>\n",
       "      <td>Διεύθυνση Αναστήλωσης Βυζαντινών και Μεταβυζαν...</td>\n",
       "      <td>37.966947</td>\n",
       "      <td>23.728561</td>\n",
       "    </tr>\n",
       "  </tbody>\n",
       "</table>\n",
       "</div>"
      ],
      "text/plain": [
       "                                                name  location.lat  \\\n",
       "0                 Hadrian's Arch (Πύλη του Αδριανού)     37.970152   \n",
       "1       Temple of Olympian Zeus (Ναός Ολυμπίου Διός)     37.969297   \n",
       "2  Melina Mercouri Statue (Μνημείο Μελίνας Μερκούρη)     37.969907   \n",
       "3  Διεύθυνση Αναστήλωσης Βυζαντινών και Μεταβυζαν...     37.966947   \n",
       "\n",
       "   location.lng  \n",
       "0     23.731856  \n",
       "1     23.732722  \n",
       "2     23.731526  \n",
       "3     23.728561  "
      ]
     },
     "execution_count": 96,
     "metadata": {},
     "output_type": "execute_result"
    }
   ],
   "source": [
    "# filter columns\n",
    "filtered_columns = ['name','location.lat','location.lng']\n",
    "nearby_venues_makrygianni_landmarks =nearby_venues_makrygianni_landmarks.loc[:, filtered_columns]\n",
    "nearby_venues_makrygianni_landmarks.head()"
   ]
  },
  {
   "cell_type": "code",
   "execution_count": 97,
   "metadata": {},
   "outputs": [
    {
     "name": "stdout",
     "output_type": "stream",
     "text": [
      "(4, 3)\n"
     ]
    },
    {
     "data": {
      "text/html": [
       "<div>\n",
       "<style scoped>\n",
       "    .dataframe tbody tr th:only-of-type {\n",
       "        vertical-align: middle;\n",
       "    }\n",
       "\n",
       "    .dataframe tbody tr th {\n",
       "        vertical-align: top;\n",
       "    }\n",
       "\n",
       "    .dataframe thead th {\n",
       "        text-align: right;\n",
       "    }\n",
       "</style>\n",
       "<table border=\"1\" class=\"dataframe\">\n",
       "  <thead>\n",
       "    <tr style=\"text-align: right;\">\n",
       "      <th></th>\n",
       "      <th>Museum</th>\n",
       "      <th>Latitude</th>\n",
       "      <th>Longitude</th>\n",
       "    </tr>\n",
       "  </thead>\n",
       "  <tbody>\n",
       "    <tr>\n",
       "      <th>0</th>\n",
       "      <td>Hadrian's Arch (Πύλη του Αδριανού)</td>\n",
       "      <td>37.970152</td>\n",
       "      <td>23.731856</td>\n",
       "    </tr>\n",
       "    <tr>\n",
       "      <th>1</th>\n",
       "      <td>Temple of Olympian Zeus (Ναός Ολυμπίου Διός)</td>\n",
       "      <td>37.969297</td>\n",
       "      <td>23.732722</td>\n",
       "    </tr>\n",
       "    <tr>\n",
       "      <th>2</th>\n",
       "      <td>Melina Mercouri Statue (Μνημείο Μελίνας Μερκούρη)</td>\n",
       "      <td>37.969907</td>\n",
       "      <td>23.731526</td>\n",
       "    </tr>\n",
       "    <tr>\n",
       "      <th>3</th>\n",
       "      <td>Διεύθυνση Αναστήλωσης Βυζαντινών και Μεταβυζαν...</td>\n",
       "      <td>37.966947</td>\n",
       "      <td>23.728561</td>\n",
       "    </tr>\n",
       "  </tbody>\n",
       "</table>\n",
       "</div>"
      ],
      "text/plain": [
       "                                              Museum   Latitude  Longitude\n",
       "0                 Hadrian's Arch (Πύλη του Αδριανού)  37.970152  23.731856\n",
       "1       Temple of Olympian Zeus (Ναός Ολυμπίου Διός)  37.969297  23.732722\n",
       "2  Melina Mercouri Statue (Μνημείο Μελίνας Μερκούρη)  37.969907  23.731526\n",
       "3  Διεύθυνση Αναστήλωσης Βυζαντινών και Μεταβυζαν...  37.966947  23.728561"
      ]
     },
     "execution_count": 97,
     "metadata": {},
     "output_type": "execute_result"
    }
   ],
   "source": [
    "#Rename name, location.lat, location.lng columns\n",
    "makrygianni_landmarks = nearby_venues_makrygianni_landmarks.rename(columns={'name': 'Museum', 'location.lat': 'Latitude', 'location.lng': 'Longitude'})\n",
    "\n",
    "print(makrygianni_landmarks.shape)\n",
    "makrygianni_landmarks"
   ]
  },
  {
   "cell_type": "code",
   "execution_count": 98,
   "metadata": {},
   "outputs": [
    {
     "name": "stdout",
     "output_type": "stream",
     "text": [
      "4 landmarks were returned by Foursquare.\n"
     ]
    }
   ],
   "source": [
    "#And how many recommended places were returned by Foursquare?\n",
    "\n",
    "print('{} landmarks were returned by Foursquare.'.format(makrygianni_landmarks.shape[0]))"
   ]
  },
  {
   "cell_type": "code",
   "execution_count": 99,
   "metadata": {},
   "outputs": [
    {
     "name": "stdout",
     "output_type": "stream",
     "text": [
      "The geograpical coordinate of Makrygianni are Latitude: 37.9687219, Longitude: 23.7295949.\n"
     ]
    }
   ],
   "source": [
    "#Use geopy library to get the latitude and longitude values of Makrygianni\n",
    "\n",
    "address = ['Makrygianni, Athens, GR']\n",
    "geolocator = Nominatim(user_agent=\"athens_explorer\")\n",
    "location = geolocator.geocode(address)\n",
    "latitude = location.latitude\n",
    "longitude = location.longitude\n",
    "print('The geograpical coordinate of Makrygianni are Latitude: {}, Longitude: {}.'.format(latitude, longitude))"
   ]
  },
  {
   "cell_type": "markdown",
   "metadata": {},
   "source": [
    "<h4>Locations of monuments/landmarks on the map"
   ]
  },
  {
   "cell_type": "code",
   "execution_count": 100,
   "metadata": {
    "scrolled": false
   },
   "outputs": [
    {
     "data": {
      "text/html": [
       "<div style=\"width:100%;\"><div style=\"position:relative;width:100%;height:0;padding-bottom:60%;\"><span style=\"color:#565656\">Make this Notebook Trusted to load map: File -> Trust Notebook</span><iframe src=\"about:blank\" style=\"position:absolute;width:100%;height:100%;left:0;top:0;border:none !important;\" data-html=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 onload=\"this.contentDocument.open();this.contentDocument.write(atob(this.getAttribute('data-html')));this.contentDocument.close();\" allowfullscreen webkitallowfullscreen mozallowfullscreen></iframe></div></div>"
      ],
      "text/plain": [
       "<folium.folium.Map at 0x7faa5a52b3d0>"
      ]
     },
     "execution_count": 100,
     "metadata": {},
     "output_type": "execute_result"
    }
   ],
   "source": [
    "map_makrygianni_landmarks = folium.Map(location=[latitude, longitude], zoom_start=16)\n",
    "\n",
    "# add markers to map\n",
    "for lat, lng, name in zip(makrygianni_landmarks['Latitude'], makrygianni_landmarks['Longitude'], makrygianni_landmarks['Museum']):\n",
    "    label = '{}'.format(name)\n",
    "    label = folium.Popup(label, parse_html=True)\n",
    "    folium.CircleMarker(\n",
    "        [lat, lng],\n",
    "        radius=5,\n",
    "        popup=label,\n",
    "        color='red',\n",
    "        fill=True,\n",
    "        fill_color='#3186cc',\n",
    "        fill_opacity=0.7,\n",
    "        parse_html=False).add_to(map_makrygianni_landmarks)  \n",
    "    \n",
    "map_makrygianni_landmarks"
   ]
  },
  {
   "cell_type": "markdown",
   "metadata": {},
   "source": [
    "<h4>Locations of tourist attractions (Museums and Monuments/Landmarks) on the map"
   ]
  },
  {
   "cell_type": "code",
   "execution_count": 101,
   "metadata": {
    "scrolled": false
   },
   "outputs": [
    {
     "name": "stdout",
     "output_type": "stream",
     "text": [
      "Map Legend:\n",
      " Red: Museums\n",
      " Orange: Monuments/Landmarks \n"
     ]
    },
    {
     "data": {
      "text/html": [
       "<div style=\"width:100%;\"><div style=\"position:relative;width:100%;height:0;padding-bottom:60%;\"><span style=\"color:#565656\">Make this Notebook Trusted to load map: File -> Trust Notebook</span><iframe src=\"about:blank\" style=\"position:absolute;width:100%;height:100%;left:0;top:0;border:none !important;\" data-html=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 onload=\"this.contentDocument.open();this.contentDocument.write(atob(this.getAttribute('data-html')));this.contentDocument.close();\" allowfullscreen webkitallowfullscreen mozallowfullscreen></iframe></div></div>"
      ],
      "text/plain": [
       "<folium.folium.Map at 0x7faa5a5873d0>"
      ]
     },
     "execution_count": 101,
     "metadata": {},
     "output_type": "execute_result"
    }
   ],
   "source": [
    "print(\"Map Legend:\\n Red: Museums\\n Orange: Monuments/Landmarks \")\n",
    "\n",
    "map_makrygianni_museums_landmarks = folium.Map(location=[latitude, longitude], zoom_start=16)\n",
    "\n",
    "# add markers to map\n",
    "for lat, lng, name in zip(makrygianni_museums['Latitude'], makrygianni_museums['Longitude'], makrygianni_museums['Museum']):\n",
    "    label = '{}'.format(name)\n",
    "    label = folium.Popup(label, parse_html=True)\n",
    "    folium.CircleMarker(\n",
    "        [lat, lng],\n",
    "        radius=5,\n",
    "        popup=label,\n",
    "        color='red',\n",
    "        fill=True,\n",
    "        fill_color='#3186cc',\n",
    "        fill_opacity=0.7,\n",
    "        parse_html=False).add_to(map_makrygianni_museums_landmarks)  \n",
    "#add markers to map\n",
    "for lat, lng, name in zip(makrygianni_landmarks['Latitude'], makrygianni_landmarks['Longitude'], makrygianni_landmarks['Museum']):\n",
    "    label = '{}'.format(name)\n",
    "    label = folium.Popup(label, parse_html=True)\n",
    "    folium.CircleMarker(\n",
    "        [lat, lng],\n",
    "        radius=5,\n",
    "        popup=label,\n",
    "        color='orange',\n",
    "        fill=True,\n",
    "        fill_color='#3186cc',\n",
    "        fill_opacity=0.7,\n",
    "        parse_html=False).add_to(map_makrygianni_museums_landmarks)  \n",
    "   \n",
    "map_makrygianni_museums_landmarks"
   ]
  },
  {
   "cell_type": "markdown",
   "metadata": {},
   "source": [
    "<h3>Locate the Bus Stops in the area"
   ]
  },
  {
   "cell_type": "code",
   "execution_count": 102,
   "metadata": {},
   "outputs": [
    {
     "data": {
      "text/plain": [
       "'https://api.foursquare.com/v2/venues/search?&client_id=05H45WXNVDOCSKSJ0KIBLKAK4EZJ25BRNCJZLS4TT2CI4Z5N&client_secret=XHGLXP23BMRY3ONDZJB2OUIHHZDYM4IUBDDNCWJ0ZZ2RFC4E&v=20200814&ll=37.9687219,23.7295949&radius=250&limit=50&categoryId=52f2ab2ebcbc57f1066b8b4f'"
      ]
     },
     "execution_count": 102,
     "metadata": {},
     "output_type": "execute_result"
    }
   ],
   "source": [
    "#get the Bus stops that are in \"Makrygianni\" within a radius of 250 meters.\n",
    "#create the GET request URL\n",
    "#Bus stop Category Id = 52f2ab2ebcbc57f1066b8b4f\n",
    "LIMIT = 50\n",
    "radius = 250\n",
    "\n",
    "url_makrygianni_bus = 'https://api.foursquare.com/v2/venues/search?&client_id=05H45WXNVDOCSKSJ0KIBLKAK4EZJ25BRNCJZLS4TT2CI4Z5N&client_secret=XHGLXP23BMRY3ONDZJB2OUIHHZDYM4IUBDDNCWJ0ZZ2RFC4E&v=20200814&ll=37.9687219,23.7295949&radius=250&limit=50&categoryId=52f2ab2ebcbc57f1066b8b4f'.format(\n",
    "    CLIENT_ID, \n",
    "    CLIENT_SECRET, \n",
    "    VERSION, \n",
    "    makrygianni_latitude, \n",
    "    makrygianni_longitude, \n",
    "    radius, \n",
    "    LIMIT)\n",
    "url_makrygianni_bus # display URL\n",
    "\n",
    "\n"
   ]
  },
  {
   "cell_type": "code",
   "execution_count": 103,
   "metadata": {},
   "outputs": [],
   "source": [
    "#Send the GET request and examine the resutls\n",
    "\n",
    "results_makrygianni_bus = requests.get(url_makrygianni_bus).json()\n"
   ]
  },
  {
   "cell_type": "code",
   "execution_count": 104,
   "metadata": {},
   "outputs": [],
   "source": [
    "import json # library to handle JSON files\n",
    "from pandas.io.json import json_normalize # tranform JSON file into a pandas dataframe\n",
    "\n",
    "#clean the json and structure it into a *pandas* dataframe.\n",
    "\n",
    "venues_makrygianni_bus = results_makrygianni_bus ['response']['venues']\n"
   ]
  },
  {
   "cell_type": "code",
   "execution_count": 105,
   "metadata": {},
   "outputs": [],
   "source": [
    "nearby_venues_makrygianni_bus = pd.json_normalize(venues_makrygianni_bus) # flatten JSON\n"
   ]
  },
  {
   "cell_type": "code",
   "execution_count": 106,
   "metadata": {},
   "outputs": [
    {
     "data": {
      "text/html": [
       "<div>\n",
       "<style scoped>\n",
       "    .dataframe tbody tr th:only-of-type {\n",
       "        vertical-align: middle;\n",
       "    }\n",
       "\n",
       "    .dataframe tbody tr th {\n",
       "        vertical-align: top;\n",
       "    }\n",
       "\n",
       "    .dataframe thead th {\n",
       "        text-align: right;\n",
       "    }\n",
       "</style>\n",
       "<table border=\"1\" class=\"dataframe\">\n",
       "  <thead>\n",
       "    <tr style=\"text-align: right;\">\n",
       "      <th></th>\n",
       "      <th>name</th>\n",
       "      <th>location.lat</th>\n",
       "      <th>location.lng</th>\n",
       "    </tr>\n",
       "  </thead>\n",
       "  <tbody>\n",
       "    <tr>\n",
       "      <th>0</th>\n",
       "      <td>Makrygianni Bus Station (Στάση Μακρυγιάννη)</td>\n",
       "      <td>37.967879</td>\n",
       "      <td>23.731003</td>\n",
       "    </tr>\n",
       "    <tr>\n",
       "      <th>1</th>\n",
       "      <td>Στάση Δαμαγήτου</td>\n",
       "      <td>37.969813</td>\n",
       "      <td>23.732338</td>\n",
       "    </tr>\n",
       "    <tr>\n",
       "      <th>2</th>\n",
       "      <td>Στάση Μουσείο Ακρόπολης (230)</td>\n",
       "      <td>37.967758</td>\n",
       "      <td>23.727370</td>\n",
       "    </tr>\n",
       "  </tbody>\n",
       "</table>\n",
       "</div>"
      ],
      "text/plain": [
       "                                          name  location.lat  location.lng\n",
       "0  Makrygianni Bus Station (Στάση Μακρυγιάννη)     37.967879     23.731003\n",
       "1                              Στάση Δαμαγήτου     37.969813     23.732338\n",
       "2                Στάση Μουσείο Ακρόπολης (230)     37.967758     23.727370"
      ]
     },
     "execution_count": 106,
     "metadata": {},
     "output_type": "execute_result"
    }
   ],
   "source": [
    "# filter columns\n",
    "filtered_columns = ['name','location.lat','location.lng']\n",
    "nearby_venues_makrygianni_bus =nearby_venues_makrygianni_bus.loc[:, filtered_columns]\n",
    "nearby_venues_makrygianni_bus.head()"
   ]
  },
  {
   "cell_type": "code",
   "execution_count": 107,
   "metadata": {},
   "outputs": [
    {
     "name": "stdout",
     "output_type": "stream",
     "text": [
      "(3, 3)\n"
     ]
    },
    {
     "data": {
      "text/html": [
       "<div>\n",
       "<style scoped>\n",
       "    .dataframe tbody tr th:only-of-type {\n",
       "        vertical-align: middle;\n",
       "    }\n",
       "\n",
       "    .dataframe tbody tr th {\n",
       "        vertical-align: top;\n",
       "    }\n",
       "\n",
       "    .dataframe thead th {\n",
       "        text-align: right;\n",
       "    }\n",
       "</style>\n",
       "<table border=\"1\" class=\"dataframe\">\n",
       "  <thead>\n",
       "    <tr style=\"text-align: right;\">\n",
       "      <th></th>\n",
       "      <th>Bus stop</th>\n",
       "      <th>Latitude</th>\n",
       "      <th>Longitude</th>\n",
       "    </tr>\n",
       "  </thead>\n",
       "  <tbody>\n",
       "    <tr>\n",
       "      <th>0</th>\n",
       "      <td>Makrygianni Bus Station (Στάση Μακρυγιάννη)</td>\n",
       "      <td>37.967879</td>\n",
       "      <td>23.731003</td>\n",
       "    </tr>\n",
       "    <tr>\n",
       "      <th>1</th>\n",
       "      <td>Στάση Δαμαγήτου</td>\n",
       "      <td>37.969813</td>\n",
       "      <td>23.732338</td>\n",
       "    </tr>\n",
       "    <tr>\n",
       "      <th>2</th>\n",
       "      <td>Στάση Μουσείο Ακρόπολης (230)</td>\n",
       "      <td>37.967758</td>\n",
       "      <td>23.727370</td>\n",
       "    </tr>\n",
       "  </tbody>\n",
       "</table>\n",
       "</div>"
      ],
      "text/plain": [
       "                                      Bus stop   Latitude  Longitude\n",
       "0  Makrygianni Bus Station (Στάση Μακρυγιάννη)  37.967879  23.731003\n",
       "1                              Στάση Δαμαγήτου  37.969813  23.732338\n",
       "2                Στάση Μουσείο Ακρόπολης (230)  37.967758  23.727370"
      ]
     },
     "execution_count": 107,
     "metadata": {},
     "output_type": "execute_result"
    }
   ],
   "source": [
    "#Rename name, location.lat, location.lng columns\n",
    "makrygianni_bus = nearby_venues_makrygianni_bus.rename(columns={'name': 'Bus stop', 'location.lat': 'Latitude', 'location.lng': 'Longitude'})\n",
    "\n",
    "print(makrygianni_bus.shape)\n",
    "makrygianni_bus"
   ]
  },
  {
   "cell_type": "code",
   "execution_count": 108,
   "metadata": {},
   "outputs": [
    {
     "name": "stdout",
     "output_type": "stream",
     "text": [
      "3 bus stops were returned by Foursquare.\n"
     ]
    }
   ],
   "source": [
    "#And how many recommended places were returned by Foursquare?\n",
    "\n",
    "print('{} bus stops were returned by Foursquare.'.format(makrygianni_bus.shape[0]))"
   ]
  },
  {
   "cell_type": "code",
   "execution_count": 109,
   "metadata": {},
   "outputs": [
    {
     "name": "stdout",
     "output_type": "stream",
     "text": [
      "The geograpical coordinate of Makrygianni are Latitude: 37.9687219, Longitude: 23.7295949.\n"
     ]
    }
   ],
   "source": [
    "#Use geopy library to get the latitude and longitude values of Makrygianni\n",
    "\n",
    "address = ['Makrygianni, Athens, GR']\n",
    "geolocator = Nominatim(user_agent=\"athens_explorer\")\n",
    "location = geolocator.geocode(address)\n",
    "latitude = location.latitude\n",
    "longitude = location.longitude\n",
    "print('The geograpical coordinate of Makrygianni are Latitude: {}, Longitude: {}.'.format(latitude, longitude))"
   ]
  },
  {
   "cell_type": "markdown",
   "metadata": {},
   "source": [
    "<h4>Locations of the bus stops on the map"
   ]
  },
  {
   "cell_type": "code",
   "execution_count": 110,
   "metadata": {
    "scrolled": false
   },
   "outputs": [
    {
     "data": {
      "text/html": [
       "<div style=\"width:100%;\"><div style=\"position:relative;width:100%;height:0;padding-bottom:60%;\"><span style=\"color:#565656\">Make this Notebook Trusted to load map: File -> Trust Notebook</span><iframe src=\"about:blank\" style=\"position:absolute;width:100%;height:100%;left:0;top:0;border:none !important;\" data-html=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 onload=\"this.contentDocument.open();this.contentDocument.write(atob(this.getAttribute('data-html')));this.contentDocument.close();\" allowfullscreen webkitallowfullscreen mozallowfullscreen></iframe></div></div>"
      ],
      "text/plain": [
       "<folium.folium.Map at 0x7faa5a51d430>"
      ]
     },
     "execution_count": 110,
     "metadata": {},
     "output_type": "execute_result"
    }
   ],
   "source": [
    "map_makrygianni_bus = folium.Map(location=[latitude, longitude], zoom_start=15)\n",
    "\n",
    "# add markers to map\n",
    "for lat, lng, name in zip(makrygianni_bus['Latitude'], makrygianni_bus['Longitude'], makrygianni_bus['Bus stop']):\n",
    "    label = '{}'.format(name)\n",
    "    label = folium.Popup(label, parse_html=True)\n",
    "    folium.CircleMarker(\n",
    "        [lat, lng],\n",
    "        radius=5,\n",
    "        popup=label,\n",
    "        color='red',\n",
    "        fill=True,\n",
    "        fill_color='#3186cc',\n",
    "        fill_opacity=0.7,\n",
    "        parse_html=False).add_to(map_makrygianni_bus)  \n",
    "    \n",
    "map_makrygianni_bus"
   ]
  },
  {
   "cell_type": "markdown",
   "metadata": {},
   "source": [
    "<h3>Locate the Metro station in the area"
   ]
  },
  {
   "cell_type": "code",
   "execution_count": 111,
   "metadata": {},
   "outputs": [
    {
     "data": {
      "text/plain": [
       "'https://api.foursquare.com/v2/venues/search?&client_id=05H45WXNVDOCSKSJ0KIBLKAK4EZJ25BRNCJZLS4TT2CI4Z5N&client_secret=XHGLXP23BMRY3ONDZJB2OUIHHZDYM4IUBDDNCWJ0ZZ2RFC4E&v=20200814&ll=37.9687219,23.7295949&radius=250&limit=50&categoryId=4bf58dd8d48988d1fd931735'"
      ]
     },
     "execution_count": 111,
     "metadata": {},
     "output_type": "execute_result"
    }
   ],
   "source": [
    "#get the Metro station that are in \"Makrygianni\" within a radius of 250 meters.\n",
    "#create the GET request URL\n",
    "#Metro station Category Id = 4bf58dd8d48988d1fd931735\n",
    "LIMIT = 50\n",
    "radius = 250\n",
    "\n",
    "url_makrygianni_metro = 'https://api.foursquare.com/v2/venues/search?&client_id=05H45WXNVDOCSKSJ0KIBLKAK4EZJ25BRNCJZLS4TT2CI4Z5N&client_secret=XHGLXP23BMRY3ONDZJB2OUIHHZDYM4IUBDDNCWJ0ZZ2RFC4E&v=20200814&ll=37.9687219,23.7295949&radius=250&limit=50&categoryId=4bf58dd8d48988d1fd931735'.format(\n",
    "    CLIENT_ID, \n",
    "    CLIENT_SECRET, \n",
    "    VERSION, \n",
    "    makrygianni_latitude, \n",
    "    makrygianni_longitude, \n",
    "    radius, \n",
    "    LIMIT)\n",
    "url_makrygianni_metro # display URL\n",
    "\n",
    "\n"
   ]
  },
  {
   "cell_type": "code",
   "execution_count": 112,
   "metadata": {},
   "outputs": [],
   "source": [
    "#Send the GET request and examine the resutls\n",
    "\n",
    "results_makrygianni_metro = requests.get(url_makrygianni_metro).json()\n"
   ]
  },
  {
   "cell_type": "code",
   "execution_count": 113,
   "metadata": {},
   "outputs": [],
   "source": [
    "import json # library to handle JSON files\n",
    "from pandas.io.json import json_normalize # tranform JSON file into a pandas dataframe\n",
    "\n",
    "#clean the json and structure it into a *pandas* dataframe.\n",
    "\n",
    "venues_makrygianni_metro = results_makrygianni_metro ['response']['venues']\n"
   ]
  },
  {
   "cell_type": "code",
   "execution_count": 114,
   "metadata": {},
   "outputs": [],
   "source": [
    "nearby_venues_makrygianni_metro = pd.json_normalize(venues_makrygianni_metro) # flatten JSON\n"
   ]
  },
  {
   "cell_type": "code",
   "execution_count": 115,
   "metadata": {},
   "outputs": [
    {
     "data": {
      "text/html": [
       "<div>\n",
       "<style scoped>\n",
       "    .dataframe tbody tr th:only-of-type {\n",
       "        vertical-align: middle;\n",
       "    }\n",
       "\n",
       "    .dataframe tbody tr th {\n",
       "        vertical-align: top;\n",
       "    }\n",
       "\n",
       "    .dataframe thead th {\n",
       "        text-align: right;\n",
       "    }\n",
       "</style>\n",
       "<table border=\"1\" class=\"dataframe\">\n",
       "  <thead>\n",
       "    <tr style=\"text-align: right;\">\n",
       "      <th></th>\n",
       "      <th>name</th>\n",
       "      <th>location.lat</th>\n",
       "      <th>location.lng</th>\n",
       "    </tr>\n",
       "  </thead>\n",
       "  <tbody>\n",
       "    <tr>\n",
       "      <th>0</th>\n",
       "      <td>Akropoli Metro Station (Σταθμός Μετρό Ακρόπολη)</td>\n",
       "      <td>37.968516</td>\n",
       "      <td>23.730195</td>\n",
       "    </tr>\n",
       "  </tbody>\n",
       "</table>\n",
       "</div>"
      ],
      "text/plain": [
       "                                              name  location.lat  location.lng\n",
       "0  Akropoli Metro Station (Σταθμός Μετρό Ακρόπολη)     37.968516     23.730195"
      ]
     },
     "execution_count": 115,
     "metadata": {},
     "output_type": "execute_result"
    }
   ],
   "source": [
    "# filter columns\n",
    "filtered_columns = ['name','location.lat','location.lng']\n",
    "nearby_venues_makrygianni_metro =nearby_venues_makrygianni_metro.loc[:, filtered_columns]\n",
    "nearby_venues_makrygianni_metro.head()"
   ]
  },
  {
   "cell_type": "code",
   "execution_count": 116,
   "metadata": {},
   "outputs": [
    {
     "name": "stdout",
     "output_type": "stream",
     "text": [
      "(1, 3)\n"
     ]
    },
    {
     "data": {
      "text/html": [
       "<div>\n",
       "<style scoped>\n",
       "    .dataframe tbody tr th:only-of-type {\n",
       "        vertical-align: middle;\n",
       "    }\n",
       "\n",
       "    .dataframe tbody tr th {\n",
       "        vertical-align: top;\n",
       "    }\n",
       "\n",
       "    .dataframe thead th {\n",
       "        text-align: right;\n",
       "    }\n",
       "</style>\n",
       "<table border=\"1\" class=\"dataframe\">\n",
       "  <thead>\n",
       "    <tr style=\"text-align: right;\">\n",
       "      <th></th>\n",
       "      <th>Metro station</th>\n",
       "      <th>Latitude</th>\n",
       "      <th>Longitude</th>\n",
       "    </tr>\n",
       "  </thead>\n",
       "  <tbody>\n",
       "    <tr>\n",
       "      <th>0</th>\n",
       "      <td>Akropoli Metro Station (Σταθμός Μετρό Ακρόπολη)</td>\n",
       "      <td>37.968516</td>\n",
       "      <td>23.730195</td>\n",
       "    </tr>\n",
       "  </tbody>\n",
       "</table>\n",
       "</div>"
      ],
      "text/plain": [
       "                                     Metro station   Latitude  Longitude\n",
       "0  Akropoli Metro Station (Σταθμός Μετρό Ακρόπολη)  37.968516  23.730195"
      ]
     },
     "execution_count": 116,
     "metadata": {},
     "output_type": "execute_result"
    }
   ],
   "source": [
    "#Rename name, location.lat, location.lng columns\n",
    "makrygianni_metro = nearby_venues_makrygianni_metro.rename(columns={'name': 'Metro station', 'location.lat': 'Latitude', 'location.lng': 'Longitude'})\n",
    "\n",
    "print(makrygianni_metro.shape)\n",
    "makrygianni_metro"
   ]
  },
  {
   "cell_type": "code",
   "execution_count": 117,
   "metadata": {},
   "outputs": [
    {
     "name": "stdout",
     "output_type": "stream",
     "text": [
      "1 metro stations were returned by Foursquare.\n"
     ]
    }
   ],
   "source": [
    "#And how many recommended places were returned by Foursquare?\n",
    "\n",
    "print('{} metro stations were returned by Foursquare.'.format(makrygianni_metro.shape[0]))"
   ]
  },
  {
   "cell_type": "code",
   "execution_count": 118,
   "metadata": {},
   "outputs": [
    {
     "name": "stdout",
     "output_type": "stream",
     "text": [
      "The geograpical coordinate of Makrygianni are Latitude: 37.9687219, Longitude: 23.7295949.\n"
     ]
    }
   ],
   "source": [
    "#Use geopy library to get the latitude and longitude values of Makrygianni\n",
    "\n",
    "address = ['Makrygianni, Athens, GR']\n",
    "geolocator = Nominatim(user_agent=\"athens_explorer\")\n",
    "location = geolocator.geocode(address)\n",
    "latitude = location.latitude\n",
    "longitude = location.longitude\n",
    "print('The geograpical coordinate of Makrygianni are Latitude: {}, Longitude: {}.'.format(latitude, longitude))"
   ]
  },
  {
   "cell_type": "markdown",
   "metadata": {},
   "source": [
    "<h4>Locations of the metro stations on the map"
   ]
  },
  {
   "cell_type": "code",
   "execution_count": 119,
   "metadata": {
    "scrolled": false
   },
   "outputs": [
    {
     "data": {
      "text/html": [
       "<div style=\"width:100%;\"><div style=\"position:relative;width:100%;height:0;padding-bottom:60%;\"><span style=\"color:#565656\">Make this Notebook Trusted to load map: File -> Trust Notebook</span><iframe src=\"about:blank\" style=\"position:absolute;width:100%;height:100%;left:0;top:0;border:none !important;\" data-html=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 onload=\"this.contentDocument.open();this.contentDocument.write(atob(this.getAttribute('data-html')));this.contentDocument.close();\" allowfullscreen webkitallowfullscreen mozallowfullscreen></iframe></div></div>"
      ],
      "text/plain": [
       "<folium.folium.Map at 0x7faa5a576670>"
      ]
     },
     "execution_count": 119,
     "metadata": {},
     "output_type": "execute_result"
    }
   ],
   "source": [
    "map_makrygianni_metro = folium.Map(location=[latitude, longitude], zoom_start=16)\n",
    "\n",
    "# add markers to map\n",
    "for lat, lng, name in zip(makrygianni_metro['Latitude'], makrygianni_metro['Longitude'], makrygianni_metro['Metro station']):\n",
    "    label = '{}'.format(name)\n",
    "    label = folium.Popup(label, parse_html=True)\n",
    "    folium.CircleMarker(\n",
    "        [lat, lng],\n",
    "        radius=5,\n",
    "        popup=label,\n",
    "        color='blue',\n",
    "        fill=True,\n",
    "        fill_color='#3186cc',\n",
    "        fill_opacity=0.7,\n",
    "        parse_html=False).add_to(map_makrygianni_metro)  \n",
    "    \n",
    "map_makrygianni_metro"
   ]
  },
  {
   "cell_type": "markdown",
   "metadata": {},
   "source": [
    "<h3>Place all points of interest on the map"
   ]
  },
  {
   "cell_type": "code",
   "execution_count": 120,
   "metadata": {
    "scrolled": false
   },
   "outputs": [
    {
     "name": "stdout",
     "output_type": "stream",
     "text": [
      "Map Legend:\n",
      " Blue: Metro station\n",
      " Green: Bus stops\n",
      " Red: Museums\n",
      " Black: Takis Bakery\n",
      " Orange: Monuments/Landmarks \n"
     ]
    },
    {
     "data": {
      "text/html": [
       "<div style=\"width:100%;\"><div style=\"position:relative;width:100%;height:0;padding-bottom:60%;\"><span style=\"color:#565656\">Make this Notebook Trusted to load map: File -> Trust Notebook</span><iframe src=\"about:blank\" style=\"position:absolute;width:100%;height:100%;left:0;top:0;border:none !important;\" data-html=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 onload=\"this.contentDocument.open();this.contentDocument.write(atob(this.getAttribute('data-html')));this.contentDocument.close();\" allowfullscreen webkitallowfullscreen mozallowfullscreen></iframe></div></div>"
      ],
      "text/plain": [
       "<folium.folium.Map at 0x7faa5a5d3130>"
      ]
     },
     "execution_count": 120,
     "metadata": {},
     "output_type": "execute_result"
    }
   ],
   "source": [
    "print(\"Map Legend:\\n Blue: Metro station\\n Green: Bus stops\\n Red: Museums\\n Black: Takis Bakery\\n Orange: Monuments/Landmarks \")\n",
    "\n",
    "map_makrygianni_research = folium.Map(location=[latitude, longitude], zoom_start=16)\n",
    "\n",
    "# add metro station markers to map\n",
    "for lat, lng, name in zip(makrygianni_metro['Latitude'], makrygianni_metro['Longitude'], makrygianni_metro['Metro station']):\n",
    "    label = '{}'.format(name)\n",
    "    label = folium.Popup(label, parse_html=True)\n",
    "    folium.CircleMarker(\n",
    "        [lat, lng],\n",
    "        radius=5,\n",
    "        popup=label,\n",
    "        color='blue',\n",
    "        fill=True,\n",
    "        fill_color='#3186cc',\n",
    "        fill_opacity=0.7,\n",
    "        parse_html=False).add_to(map_makrygianni_research)  \n",
    "\n",
    "# add bus stops markers to map\n",
    "for lat, lng, name in zip(makrygianni_bus['Latitude'], makrygianni_bus['Longitude'], makrygianni_bus['Bus stop']):\n",
    "    label = '{}'.format(name)\n",
    "    label = folium.Popup(label, parse_html=True)\n",
    "    folium.CircleMarker(\n",
    "        [lat, lng],\n",
    "        radius=5,\n",
    "        popup=label,\n",
    "        color='green',\n",
    "        fill=True,\n",
    "        fill_color='#3186cc',\n",
    "        fill_opacity=0.7,\n",
    "        parse_html=False).add_to(map_makrygianni_research)  \n",
    "\n",
    "# add museum markers to map\n",
    "for lat, lng, name in zip(makrygianni_museums['Latitude'], makrygianni_museums['Longitude'], makrygianni_museums['Museum']):\n",
    "    label = '{}'.format(name)\n",
    "    label = folium.Popup(label, parse_html=True)\n",
    "    folium.CircleMarker(\n",
    "        [lat, lng],\n",
    "        radius=5,\n",
    "        popup=label,\n",
    "        color='red',\n",
    "        fill=True,\n",
    "        fill_color='#3186cc',\n",
    "        fill_opacity=0.7,\n",
    "        parse_html=False).add_to(map_makrygianni_research)  \n",
    "# add Bakery to map\n",
    "for lat, lng, name in zip(makrygianni_bakeries['Latitude'], makrygianni_bakeries['Longitude'], makrygianni_bakeries['Bakery']):\n",
    "    label = '{}'.format(name)\n",
    "    label = folium.Popup(label, parse_html=True)\n",
    "    folium.CircleMarker(\n",
    "        [lat, lng],\n",
    "        radius=5,\n",
    "        popup=label,\n",
    "        color='black',\n",
    "        fill=True,\n",
    "        fill_color='#3186cc',\n",
    "        fill_opacity=0.9,\n",
    "        parse_html=False).add_to(map_makrygianni_research)  \n",
    "\n",
    "# add markers to map\n",
    "for lat, lng, name in zip(makrygianni_landmarks['Latitude'], makrygianni_landmarks['Longitude'], makrygianni_landmarks['Museum']):\n",
    "    label = '{}'.format(name)\n",
    "    label = folium.Popup(label, parse_html=True)\n",
    "    folium.CircleMarker(\n",
    "        [lat, lng],\n",
    "        radius=5,\n",
    "        popup=label,\n",
    "        color='orange',\n",
    "        fill=True,\n",
    "        fill_color='#3186cc',\n",
    "        fill_opacity=0.7,\n",
    "        parse_html=False).add_to(map_makrygianni_research)  \n",
    "map_makrygianni_research"
   ]
  }
 ],
 "metadata": {
  "kernelspec": {
   "display_name": "Python 3",
   "language": "python",
   "name": "python3"
  },
  "language_info": {
   "codemirror_mode": {
    "name": "ipython",
    "version": 3
   },
   "file_extension": ".py",
   "mimetype": "text/x-python",
   "name": "python",
   "nbconvert_exporter": "python",
   "pygments_lexer": "ipython3",
   "version": "3.8.3"
  }
 },
 "nbformat": 4,
 "nbformat_minor": 1
}
